{
 "cells": [
  {
   "cell_type": "code",
   "execution_count": 17,
   "metadata": {},
   "outputs": [],
   "source": [
    "import tensorflow as tf\n",
    "from keras.preprocessing.image import ImageDataGenerator\n",
    "from tensorflow import keras\n"
   ]
  },
  {
   "cell_type": "code",
   "execution_count": 18,
   "metadata": {},
   "outputs": [
    {
     "data": {
      "text/plain": [
       "'2.3.1'"
      ]
     },
     "execution_count": 18,
     "metadata": {},
     "output_type": "execute_result"
    }
   ],
   "source": [
    "tf.__version__"
   ]
  },
  {
   "cell_type": "code",
   "execution_count": 19,
   "metadata": {},
   "outputs": [
    {
     "name": "stdout",
     "output_type": "stream",
     "text": [
      "Found 28709 images belonging to 7 classes.\n"
     ]
    }
   ],
   "source": [
    "#Train \n",
    "train_datagen = ImageDataGenerator(rescale = 1./255,\n",
    "                                   shear_range = 0.2,\n",
    "                                   zoom_range = 0.2,\n",
    "                                   horizontal_flip = True)\n",
    "training_set = train_datagen.flow_from_directory('data/train',\n",
    "                                                 target_size = (64, 64),\n",
    "                                                 batch_size = 32,\n",
    "                                                 class_mode = 'categorical')"
   ]
  },
  {
   "cell_type": "code",
   "execution_count": 20,
   "metadata": {},
   "outputs": [
    {
     "name": "stdout",
     "output_type": "stream",
     "text": [
      "Found 3587 images belonging to 7 classes.\n"
     ]
    }
   ],
   "source": [
    "#Test\n",
    "test_datagen = ImageDataGenerator(rescale = 1./255)\n",
    "test_set = test_datagen.flow_from_directory('data/test',\n",
    "                                            target_size = (64, 64),\n",
    "                                            batch_size = 32,\n",
    "                                            class_mode = 'categorical')"
   ]
  },
  {
   "cell_type": "code",
   "execution_count": 21,
   "metadata": {},
   "outputs": [],
   "source": [
    "cnn = tf.keras.models.Sequential()"
   ]
  },
  {
   "cell_type": "code",
   "execution_count": 22,
   "metadata": {},
   "outputs": [],
   "source": [
    "cnn.add(tf.keras.layers.Conv2D(filters=32, kernel_size=3, activation='relu', input_shape=[64, 64, 3]))"
   ]
  },
  {
   "cell_type": "code",
   "execution_count": 23,
   "metadata": {},
   "outputs": [],
   "source": [
    "cnn.add(tf.keras.layers.MaxPool2D(pool_size=2, strides=2))"
   ]
  },
  {
   "cell_type": "code",
   "execution_count": 24,
   "metadata": {},
   "outputs": [],
   "source": [
    "cnn.add(tf.keras.layers.Conv2D(filters=32, kernel_size=3, activation='relu'))\n",
    "cnn.add(tf.keras.layers.MaxPool2D(pool_size=2, strides=2))"
   ]
  },
  {
   "cell_type": "code",
   "execution_count": 25,
   "metadata": {},
   "outputs": [],
   "source": [
    "cnn.add(tf.keras.layers.Flatten())"
   ]
  },
  {
   "cell_type": "code",
   "execution_count": 26,
   "metadata": {},
   "outputs": [],
   "source": [
    "cnn.add(tf.keras.layers.Dense(units=128, activation='relu'))"
   ]
  },
  {
   "cell_type": "code",
   "execution_count": 27,
   "metadata": {},
   "outputs": [],
   "source": [
    "cnn.add(tf.keras.layers.Dense(units=7, activation='sigmoid'))"
   ]
  },
  {
   "cell_type": "code",
   "execution_count": 28,
   "metadata": {},
   "outputs": [],
   "source": [
    "cnn.compile(optimizer = 'adam', loss = 'categorical_crossentropy', metrics = ['accuracy'])"
   ]
  },
  {
   "cell_type": "code",
   "execution_count": 29,
   "metadata": {},
   "outputs": [
    {
     "name": "stdout",
     "output_type": "stream",
     "text": [
      "Epoch 1/25\n",
      "898/898 [==============================] - 73s 81ms/step - loss: 1.7134 - accuracy: 0.3011 - val_loss: 1.5396 - val_accuracy: 0.4093\n",
      "Epoch 2/25\n",
      "898/898 [==============================] - 74s 83ms/step - loss: 1.5136 - accuracy: 0.4123 - val_loss: 1.4249 - val_accuracy: 0.4422\n",
      "Epoch 3/25\n",
      "898/898 [==============================] - 77s 86ms/step - loss: 1.4168 - accuracy: 0.4498 - val_loss: 1.3468 - val_accuracy: 0.4792\n",
      "Epoch 4/25\n",
      "898/898 [==============================] - 75s 84ms/step - loss: 1.3585 - accuracy: 0.4768 - val_loss: 1.3157 - val_accuracy: 0.4901\n",
      "Epoch 5/25\n",
      "898/898 [==============================] - 77s 86ms/step - loss: 1.3087 - accuracy: 0.4974 - val_loss: 1.2981 - val_accuracy: 0.4890\n",
      "Epoch 6/25\n",
      "898/898 [==============================] - 78s 87ms/step - loss: 1.2745 - accuracy: 0.5114 - val_loss: 1.2900 - val_accuracy: 0.5018\n",
      "Epoch 7/25\n",
      "898/898 [==============================] - 93s 103ms/step - loss: 1.2417 - accuracy: 0.5246 - val_loss: 1.2466 - val_accuracy: 0.5230\n",
      "Epoch 8/25\n",
      "898/898 [==============================] - 79s 88ms/step - loss: 1.2190 - accuracy: 0.5324 - val_loss: 1.2361 - val_accuracy: 0.5297\n",
      "Epoch 9/25\n",
      "898/898 [==============================] - 80s 90ms/step - loss: 1.1942 - accuracy: 0.5418 - val_loss: 1.2246 - val_accuracy: 0.5297\n",
      "Epoch 10/25\n",
      "898/898 [==============================] - 79s 88ms/step - loss: 1.1783 - accuracy: 0.5483 - val_loss: 1.2115 - val_accuracy: 0.5394\n",
      "Epoch 11/25\n",
      "898/898 [==============================] - 78s 87ms/step - loss: 1.1500 - accuracy: 0.5589 - val_loss: 1.1982 - val_accuracy: 0.5461\n",
      "Epoch 12/25\n",
      "898/898 [==============================] - 78s 87ms/step - loss: 1.1266 - accuracy: 0.5701 - val_loss: 1.1969 - val_accuracy: 0.5484\n",
      "Epoch 13/25\n",
      "898/898 [==============================] - 81s 91ms/step - loss: 1.1111 - accuracy: 0.5742 - val_loss: 1.1998 - val_accuracy: 0.5394\n",
      "Epoch 14/25\n",
      "898/898 [==============================] - 79s 87ms/step - loss: 1.0972 - accuracy: 0.5840 - val_loss: 1.1919 - val_accuracy: 0.5434\n",
      "Epoch 15/25\n",
      "898/898 [==============================] - 79s 88ms/step - loss: 1.0793 - accuracy: 0.5897 - val_loss: 1.2043 - val_accuracy: 0.5445\n",
      "Epoch 16/25\n",
      "898/898 [==============================] - 84s 94ms/step - loss: 1.0685 - accuracy: 0.5936 - val_loss: 1.2044 - val_accuracy: 0.5447\n",
      "Epoch 17/25\n",
      "898/898 [==============================] - 92s 103ms/step - loss: 1.0520 - accuracy: 0.6027 - val_loss: 1.1961 - val_accuracy: 0.5489\n",
      "Epoch 18/25\n",
      "898/898 [==============================] - 84s 93ms/step - loss: 1.0396 - accuracy: 0.6046 - val_loss: 1.1960 - val_accuracy: 0.5553\n",
      "Epoch 19/25\n",
      "898/898 [==============================] - 79s 88ms/step - loss: 1.0255 - accuracy: 0.6097 - val_loss: 1.2065 - val_accuracy: 0.5539\n",
      "Epoch 20/25\n",
      "898/898 [==============================] - 72s 81ms/step - loss: 1.0200 - accuracy: 0.6128 - val_loss: 1.2078 - val_accuracy: 0.5542\n",
      "Epoch 21/25\n",
      "898/898 [==============================] - 71s 79ms/step - loss: 1.0053 - accuracy: 0.6198 - val_loss: 1.2121 - val_accuracy: 0.55310s - loss: 1.0050 - accuracy\n",
      "Epoch 22/25\n",
      "898/898 [==============================] - 64s 71ms/step - loss: 0.9904 - accuracy: 0.6250 - val_loss: 1.2129 - val_accuracy: 0.5578\n",
      "Epoch 23/25\n",
      "898/898 [==============================] - 64s 71ms/step - loss: 0.9794 - accuracy: 0.6310 - val_loss: 1.2125 - val_accuracy: 0.5512\n",
      "Epoch 24/25\n",
      "898/898 [==============================] - 63s 71ms/step - loss: 0.9718 - accuracy: 0.6318 - val_loss: 1.2233 - val_accuracy: 0.5531\n",
      "Epoch 25/25\n",
      "898/898 [==============================] - 66s 74ms/step - loss: 0.9636 - accuracy: 0.6382 - val_loss: 1.2267 - val_accuracy: 0.5612\n"
     ]
    },
    {
     "data": {
      "text/plain": [
       "<tensorflow.python.keras.callbacks.History at 0x185abe0a9a0>"
      ]
     },
     "execution_count": 29,
     "metadata": {},
     "output_type": "execute_result"
    }
   ],
   "source": [
    "cnn.fit(x = training_set, validation_data = test_set, epochs = 25)"
   ]
  },
  {
   "cell_type": "code",
   "execution_count": null,
   "metadata": {},
   "outputs": [],
   "source": [
    "import numpy as np\n",
    "from keras.preprocessing import image\n",
    "test_image = image.load_img('dataset/single_prediction/cat_or_dog_futte.jpg', target_size = (64, 64))\n",
    "test_image = image.img_to_array(test_image)\n",
    "test_image = np.expand_dims(test_image, axis = 0)\n",
    "result = cnn.predict(test_image)\n",
    "training_set.class_indices"
   ]
  },
  {
   "cell_type": "code",
   "execution_count": null,
   "metadata": {},
   "outputs": [],
   "source": []
  }
 ],
 "metadata": {
  "kernelspec": {
   "display_name": "Python 3",
   "language": "python",
   "name": "python3"
  },
  "language_info": {
   "codemirror_mode": {
    "name": "ipython",
    "version": 3
   },
   "file_extension": ".py",
   "mimetype": "text/x-python",
   "name": "python",
   "nbconvert_exporter": "python",
   "pygments_lexer": "ipython3",
   "version": "3.8.5"
  }
 },
 "nbformat": 4,
 "nbformat_minor": 4
}
