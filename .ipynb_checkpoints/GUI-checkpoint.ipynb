{
 "cells": [
  {
   "cell_type": "code",
   "execution_count": 32,
   "metadata": {},
   "outputs": [
    {
     "name": "stderr",
     "output_type": "stream",
     "text": [
      "Exception ignored in: <function PhotoImage.__del__ at 0x000001A98B4200D0>\n",
      "Traceback (most recent call last):\n",
      "  File \"C:\\Users\\tobia\\anaconda3\\envs\\gpu_test\\lib\\site-packages\\PIL\\ImageTk.py\", line 118, in __del__\n",
      "    name = self.__photo.name\n",
      "AttributeError: 'PhotoImage' object has no attribute '_PhotoImage__photo'\n"
     ]
    },
    {
     "ename": "ModuleNotFoundError",
     "evalue": "No module named 'webcam_cv3'",
     "output_type": "error",
     "traceback": [
      "\u001b[1;31m---------------------------------------------------------------------------\u001b[0m",
      "\u001b[1;31mModuleNotFoundError\u001b[0m                       Traceback (most recent call last)",
      "\u001b[1;32m<ipython-input-32-ea5fe06e6c38>\u001b[0m in \u001b[0;36m<module>\u001b[1;34m\u001b[0m\n\u001b[0;32m      2\u001b[0m \u001b[1;32mfrom\u001b[0m \u001b[0mtkinter\u001b[0m \u001b[1;32mimport\u001b[0m \u001b[0mmessagebox\u001b[0m\u001b[1;33m\u001b[0m\u001b[1;33m\u001b[0m\u001b[0m\n\u001b[0;32m      3\u001b[0m \u001b[1;32mfrom\u001b[0m \u001b[0mPIL\u001b[0m \u001b[1;32mimport\u001b[0m \u001b[0mImage\u001b[0m\u001b[1;33m,\u001b[0m \u001b[0mImageTk\u001b[0m\u001b[1;33m\u001b[0m\u001b[1;33m\u001b[0m\u001b[0m\n\u001b[1;32m----> 4\u001b[1;33m \u001b[1;32mimport\u001b[0m \u001b[0mwebcam_cv3\u001b[0m\u001b[1;33m.\u001b[0m\u001b[0mpy\u001b[0m\u001b[1;33m\u001b[0m\u001b[1;33m\u001b[0m\u001b[0m\n\u001b[0m",
      "\u001b[1;31mModuleNotFoundError\u001b[0m: No module named 'webcam_cv3'"
     ]
    }
   ],
   "source": [
    "import tkinter as tk\n",
    "from tkinter import messagebox\n",
    "from PIL import Image, ImageTk\n",
    "import webcam_cv3.py\n"
   ]
  },
  {
   "cell_type": "code",
   "execution_count": 2,
   "metadata": {},
   "outputs": [
    {
     "data": {
      "text/plain": [
       "'den ligger billede ind nu når man trykker på knappen, dog passer størrelserne ikke rigtig'"
      ]
     },
     "execution_count": 2,
     "metadata": {},
     "output_type": "execute_result"
    }
   ],
   "source": [
    "'''den ligger billede ind nu når man trykker på knappen, dog passer størrelserne ikke rigtig'''"
   ]
  },
  {
   "cell_type": "code",
   "execution_count": 3,
   "metadata": {},
   "outputs": [],
   "source": [
    "def doStuff():\n",
    "    webCamRoute = r\"C:\\Users\\tobia\\Samlet CNN\\graph11.png\"\n",
    "    load = Image.open(webCamRoute)\n",
    "    render = ImageTk.PhotoImage(load)\n",
    "    img = tk.Label(yellowFrame, image = render)\n",
    "    img.image = render\n",
    "    img.place(x=1, y=1)\n"
   ]
  },
  {
   "cell_type": "code",
   "execution_count": 31,
   "metadata": {},
   "outputs": [],
   "source": [
    "root = tk.Tk()\n",
    "\n",
    "HEIGHT = 288*2\n",
    "WIDTH = 432*2\n",
    "buttonText = \"auto\"\n",
    "root.resizable(0, 0)\n",
    "\n",
    "def autoActivated():\n",
    "    buttonText = \"nogetAndet\"\n",
    "    #messagebox.showinfo( \"Hello Python\", \"Hello World\")\n",
    "    doStuff()\n",
    "\n",
    "mood = \"test1\"\n",
    "canvas = tk.Canvas(root, height = HEIGHT, width = WIDTH)\n",
    "canvas.pack()\n",
    "\n",
    "\n",
    "button = tk.Button(root, text = buttonText, command = autoActivated)\n",
    "button.pack()\n",
    "\n",
    "blueFrame = tk.Frame(root, bg = \"blue\")\n",
    "blueFrame.place(rely = 0.1, relwidth = 0.5, relheight = 0.8)\n",
    "\n",
    "webCamLabel = tk.Label(blueFrame, text=\"WebCam her\", bg=\"gray\")\n",
    "webCamLabel.place(relx = 0.5, rely = 0.5, anchor = \"center\")\n",
    "webCamLabel.pack()\n",
    "\n",
    "redFrame = tk.Frame(root, bg = \"red\")\n",
    "redFrame.place(relx = 0.5, rely = 0.1, relwidth = 0.5, relheight = 0.4)\n",
    "\n",
    "\n",
    "moodLabel = tk.Label(redFrame, text = mood, bg = \"red\")\n",
    "moodLabel.place(relx = 0.5, rely = 0.5, anchor = \"center\")\n",
    "\n",
    "yellowFrame = tk.Frame(root, bg = \"yellow\")\n",
    "yellowFrame.place(relx = 0.5, rely = 0.43, relwidth = 0.5, relheight = 0.47)\n",
    "\n",
    "statsLabel = tk.Label(yellowFrame, text = \"stats her\")\n",
    "statsLabel.pack()\n",
    "\n",
    "\n",
    "root.mainloop()"
   ]
  },
  {
   "cell_type": "code",
   "execution_count": 18,
   "metadata": {},
   "outputs": [],
   "source": []
  },
  {
   "cell_type": "code",
   "execution_count": null,
   "metadata": {},
   "outputs": [],
   "source": []
  },
  {
   "cell_type": "code",
   "execution_count": null,
   "metadata": {},
   "outputs": [],
   "source": []
  }
 ],
 "metadata": {
  "kernelspec": {
   "display_name": "Python 3",
   "language": "python",
   "name": "python3"
  },
  "language_info": {
   "codemirror_mode": {
    "name": "ipython",
    "version": 3
   },
   "file_extension": ".py",
   "mimetype": "text/x-python",
   "name": "python",
   "nbconvert_exporter": "python",
   "pygments_lexer": "ipython3",
   "version": "3.8.5"
  }
 },
 "nbformat": 4,
 "nbformat_minor": 4
}
