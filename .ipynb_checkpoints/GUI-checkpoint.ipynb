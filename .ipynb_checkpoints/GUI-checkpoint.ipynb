{
 "cells": [
  {
   "cell_type": "code",
   "execution_count": 2,
   "metadata": {},
   "outputs": [],
   "source": [
    "import tkinter as tk"
   ]
  },
  {
   "cell_type": "code",
   "execution_count": 5,
   "metadata": {},
   "outputs": [],
   "source": [
    "root = tk.Tk()\n",
    "\n",
    "HEIGHT = 450\n",
    "WIDTH = 650\n",
    "mood = \"test1\"\n",
    "webCamRoute = \"/Users/thomasmortensen/Desktop/GUITestPic.jpeg\"\n",
    "canvas = tk.Canvas(root, height = HEIGHT, width = WIDTH)\n",
    "canvas.pack()\n",
    "\n",
    "button = tk.Button(root, text = \"Test Button\")\n",
    "button.pack()\n",
    "\n",
    "blueFrame = tk.Frame(root, bg = \"blue\")\n",
    "blueFrame.place(rely = 0.1, relwidth = 0.5, relheight = 0.8)\n",
    "\n",
    "webCamLabel = tk.Label(blueFrame, text=\"WebCam her\", bg=\"gray\")\n",
    "webCamLabel.place(relx = 0.5, rely = 0.5, anchor = \"center\")\n",
    "webCamLabel.pack()\n",
    "\n",
    "redFrame = tk.Frame(root, bg = \"red\")\n",
    "redFrame.place(relx = 0.5, rely = 0.1, relwidth = 0.5, relheight = 0.4)\n",
    "\n",
    "\n",
    "moodLabel = tk.Label(redFrame, text = mood, bg = \"red\")\n",
    "moodLabel.place(relx = 0.5, rely = 0.5, anchor = \"center\")\n",
    "\n",
    "yellowFrame = tk.Frame(root, bg = \"yellow\")\n",
    "yellowFrame.place(relx = 0.5, rely = 0.5, relwidth = 0.5, relheight = 0.4)\n",
    "\n",
    "statsLabel = tk.Label(yellowFrame, text = \"stats her\")\n",
    "statsLabel.pack()\n",
    "\n",
    "\n",
    "root.mainloop()"
   ]
  },
  {
   "cell_type": "code",
   "execution_count": null,
   "metadata": {},
   "outputs": [],
   "source": []
  },
  {
   "cell_type": "code",
   "execution_count": null,
   "metadata": {},
   "outputs": [],
   "source": []
  }
 ],
 "metadata": {
  "kernelspec": {
   "display_name": "Python 3",
   "language": "python",
   "name": "python3"
  },
  "language_info": {
   "codemirror_mode": {
    "name": "ipython",
    "version": 3
   },
   "file_extension": ".py",
   "mimetype": "text/x-python",
   "name": "python",
   "nbconvert_exporter": "python",
   "pygments_lexer": "ipython3",
   "version": "3.8.3"
  }
 },
 "nbformat": 4,
 "nbformat_minor": 4
}
