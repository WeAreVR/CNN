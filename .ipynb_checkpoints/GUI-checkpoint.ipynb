{
 "cells": [
  {
   "cell_type": "code",
   "execution_count": 77,
   "metadata": {},
   "outputs": [],
   "source": [
    "import tkinter as tk\n",
    "from tkinter import messagebox\n",
    "from PIL import Image, ImageTk"
   ]
  },
  {
   "cell_type": "code",
   "execution_count": 82,
   "metadata": {},
   "outputs": [
    {
     "ename": "FileNotFoundError",
     "evalue": "[Errno 2] No such file or directory: '/Users/thomasmortensen/Desktop/GUITestPic.jpeg'",
     "output_type": "error",
     "traceback": [
      "\u001b[0;31m---------------------------------------------------------------------------\u001b[0m",
      "\u001b[0;31mFileNotFoundError\u001b[0m                         Traceback (most recent call last)",
      "\u001b[0;32m<ipython-input-82-ce095cd87cac>\u001b[0m in \u001b[0;36m<module>\u001b[0;34m\u001b[0m\n\u001b[1;32m     20\u001b[0m \u001b[0mmood\u001b[0m \u001b[0;34m=\u001b[0m \u001b[0;34m\"test1\"\u001b[0m\u001b[0;34m\u001b[0m\u001b[0;34m\u001b[0m\u001b[0m\n\u001b[1;32m     21\u001b[0m \u001b[0mwebCamRoute\u001b[0m \u001b[0;34m=\u001b[0m \u001b[0;34mr\"/Users/thomasmortensen/Desktop/GUITestPic.jpeg\"\u001b[0m\u001b[0;34m\u001b[0m\u001b[0;34m\u001b[0m\u001b[0m\n\u001b[0;32m---> 22\u001b[0;31m \u001b[0mload\u001b[0m \u001b[0;34m=\u001b[0m \u001b[0mImage\u001b[0m\u001b[0;34m.\u001b[0m\u001b[0mopen\u001b[0m\u001b[0;34m(\u001b[0m\u001b[0mwebCamRoute\u001b[0m\u001b[0;34m)\u001b[0m\u001b[0;34m\u001b[0m\u001b[0;34m\u001b[0m\u001b[0m\n\u001b[0m\u001b[1;32m     23\u001b[0m \u001b[0mrender\u001b[0m \u001b[0;34m=\u001b[0m \u001b[0mImageTK\u001b[0m\u001b[0;34m.\u001b[0m\u001b[0mPhotoImage\u001b[0m\u001b[0;34m(\u001b[0m\u001b[0mload\u001b[0m\u001b[0;34m)\u001b[0m\u001b[0;34m\u001b[0m\u001b[0;34m\u001b[0m\u001b[0m\n\u001b[1;32m     24\u001b[0m \u001b[0mimg\u001b[0m \u001b[0;34m=\u001b[0m \u001b[0mLabel\u001b[0m\u001b[0;34m(\u001b[0m\u001b[0mself\u001b[0m\u001b[0;34m,\u001b[0m \u001b[0mimage\u001b[0m \u001b[0;34m=\u001b[0m \u001b[0mrender\u001b[0m\u001b[0;34m)\u001b[0m\u001b[0;34m\u001b[0m\u001b[0;34m\u001b[0m\u001b[0m\n",
      "\u001b[0;32m~/opt/anaconda3/lib/python3.8/site-packages/PIL/Image.py\u001b[0m in \u001b[0;36mopen\u001b[0;34m(fp, mode)\u001b[0m\n\u001b[1;32m   2876\u001b[0m \u001b[0;34m\u001b[0m\u001b[0m\n\u001b[1;32m   2877\u001b[0m     \u001b[0;32mif\u001b[0m \u001b[0mfilename\u001b[0m\u001b[0;34m:\u001b[0m\u001b[0;34m\u001b[0m\u001b[0;34m\u001b[0m\u001b[0m\n\u001b[0;32m-> 2878\u001b[0;31m         \u001b[0mfp\u001b[0m \u001b[0;34m=\u001b[0m \u001b[0mbuiltins\u001b[0m\u001b[0;34m.\u001b[0m\u001b[0mopen\u001b[0m\u001b[0;34m(\u001b[0m\u001b[0mfilename\u001b[0m\u001b[0;34m,\u001b[0m \u001b[0;34m\"rb\"\u001b[0m\u001b[0;34m)\u001b[0m\u001b[0;34m\u001b[0m\u001b[0;34m\u001b[0m\u001b[0m\n\u001b[0m\u001b[1;32m   2879\u001b[0m         \u001b[0mexclusive_fp\u001b[0m \u001b[0;34m=\u001b[0m \u001b[0;32mTrue\u001b[0m\u001b[0;34m\u001b[0m\u001b[0;34m\u001b[0m\u001b[0m\n\u001b[1;32m   2880\u001b[0m \u001b[0;34m\u001b[0m\u001b[0m\n",
      "\u001b[0;31mFileNotFoundError\u001b[0m: [Errno 2] No such file or directory: '/Users/thomasmortensen/Desktop/GUITestPic.jpeg'"
     ]
    }
   ],
   "source": [
    "root = tk.Tk()\n",
    "\n",
    "HEIGHT = 450\n",
    "WIDTH = 650\n",
    "\n",
    "happy = 0.3\n",
    "sad = 0.2\n",
    "neutral = 0.1\n",
    "angry = 0.01\n",
    "disgusted = 0.08\n",
    "fear = 0.2\n",
    "suprist = 0.2\n",
    "buttonText = \"auto\"\n",
    "\n",
    "def autoActivated():\n",
    "    buttonText = \"nogetAndet\"\n",
    "    tkMessageBox.showinfo( \"Hello Python\", \"Hello World\")\n",
    "\n",
    "\n",
    "mood = \"test1\"\n",
    "webCamRoute = r\"/Users/thomasmortensen/Desktop/GUITestPic.jpeg\"\n",
    "load = Image.open(webCamRoute)\n",
    "render = ImageTK.PhotoImage(load)\n",
    "img = Label(self, image = render)\n",
    "img.image = render\n",
    "img.place(x=1, y=1)\n",
    "canvas = tk.Canvas(root, height = HEIGHT, width = WIDTH)\n",
    "canvas.pack()\n",
    "\n",
    "button = tk.Button(root, text = buttonText, command = autoActivated)\n",
    "button.pack()\n",
    "\n",
    "\n",
    "blueFrame = tk.Frame(root, bg = \"blue\")\n",
    "blueFrame.place(rely = 0.1, relwidth = 0.5, relheight = 0.8)\n",
    "\n",
    "webCamLabel = tk.Label(blueFrame, text=\"WebCam her\", bg=\"gray\")\n",
    "webCamLabel.place(relx = 0.5, rely = 0.5, anchor = \"center\")\n",
    "webCamLabel.pack()\n",
    "\n",
    "redFrame = tk.Frame(root, bg = \"red\")\n",
    "redFrame.place(relx = 0.5, rely = 0.1, relwidth = 0.5, relheight = 0.4)\n",
    "\n",
    "\n",
    "moodLabel = tk.Label(redFrame, text = mood, bg = \"red\")\n",
    "moodLabel.place(relx = 0.5, rely = 0.5, anchor = \"center\")\n",
    "\n",
    "yellowFrame = tk.Frame(root, bg = \"yellow\")\n",
    "yellowFrame.place(relx = 0.5, rely = 0.5, relwidth = 0.5, relheight = 0.4)\n",
    "\n",
    "happyFrame = tk.Frame(yellowFrame, bg = \"blue\")\n",
    "happyFrame.place(relx = 0.22, rely = 1, relwidth = 0.1, relheight = (0.9 * happy), anchor = \"s\")\n",
    "\n",
    "sadFrame = tk.Frame(yellowFrame, bg = \"red\")\n",
    "sadFrame.place(relx = 0.33, rely = 1, relwidth = 0.1, relheight = (0.9 * sad), anchor = \"s\")\n",
    "\n",
    "neutralFrame = tk.Frame(yellowFrame, bg = \"blue\")\n",
    "neutralFrame.place(relx = 0.44, rely = 1, relwidth = 0.1, relheight = (0.9 * neutral), anchor = \"s\")\n",
    "\n",
    "angryFrame = tk.Frame(yellowFrame, bg = \"red\")\n",
    "angryFrame.place(relx = 0.55, rely = 1, relwidth = 0.1, relheight = (0.9 * angry), anchor = \"s\")\n",
    "\n",
    "disgustedFrame = tk.Frame(yellowFrame, bg = \"blue\")\n",
    "disgustedFrame.place(relx = 0.66, rely = 1, relwidth = 0.1, relheight = (0.9 * disgusted), anchor = \"s\")\n",
    "\n",
    "fearFrame = tk.Frame(yellowFrame, bg = \"red\")\n",
    "fearFrame.place(relx = 0.77, rely = 1, relwidth = 0.1, relheight = (0.9 * fear), anchor = \"s\")\n",
    "\n",
    "supristFrame = tk.Frame(yellowFrame, bg = \"blue\")\n",
    "supristFrame.place(relx = 0.88, rely = 1, relwidth = 0.1, relheight = (0.9 * suprist), anchor =\"s\")\n",
    "\n",
    "\n",
    "statsLabel = tk.Label(yellowFrame, text = \"stats her\")\n",
    "statsLabel.pack()\n",
    "\n",
    "\n",
    "root.mainloop()"
   ]
  },
  {
   "cell_type": "code",
   "execution_count": null,
   "metadata": {},
   "outputs": [],
   "source": []
  },
  {
   "cell_type": "code",
   "execution_count": null,
   "metadata": {},
   "outputs": [],
   "source": []
  },
  {
   "cell_type": "code",
   "execution_count": null,
   "metadata": {},
   "outputs": [],
   "source": []
  }
 ],
 "metadata": {
  "kernelspec": {
   "display_name": "Python 3",
   "language": "python",
   "name": "python3"
  },
  "language_info": {
   "codemirror_mode": {
    "name": "ipython",
    "version": 3
   },
   "file_extension": ".py",
   "mimetype": "text/x-python",
   "name": "python",
   "nbconvert_exporter": "python",
   "pygments_lexer": "ipython3",
   "version": "3.8.3"
  }
 },
 "nbformat": 4,
 "nbformat_minor": 4
}
