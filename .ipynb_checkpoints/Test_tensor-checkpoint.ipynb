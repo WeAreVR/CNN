{
 "cells": [
  {
   "cell_type": "code",
   "execution_count": 1,
   "metadata": {},
   "outputs": [
    {
     "name": "stderr",
     "output_type": "stream",
     "text": [
      "C:\\Users\\tobia\\anaconda3\\envs\\gpu_test\\lib\\site-packages\\tensorflow_addons\\utils\\ensure_tf_install.py:38: UserWarning: You are currently using a nightly version of TensorFlow (2.5.0-dev20201205). \n",
      "TensorFlow Addons offers no support for the nightly versions of TensorFlow. Some things might work, some other might not. \n",
      "If you encounter a bug, do not file an issue on GitHub.\n",
      "  warnings.warn(\n"
     ]
    }
   ],
   "source": [
    "import numpy as np\n",
    "import os\n",
    "import PIL\n",
    "import PIL.Image\n",
    "import tensorflow as tf\n",
    "import matplotlib.pyplot as plt\n",
    "import random\n",
    "from tensorflow import keras\n",
    "import tensorflow_addons as tfa\n",
    "import time\n",
    "from keras import regularizers\n",
    "from keras.optimizers import Adam\n",
    "\n"
   ]
  },
  {
   "cell_type": "code",
   "execution_count": 2,
   "metadata": {},
   "outputs": [
    {
     "name": "stdout",
     "output_type": "stream",
     "text": [
      "Num GPUs Available:  1\n"
     ]
    }
   ],
   "source": [
    "import tensorflow as tf\n",
    "print(\"Num GPUs Available: \", len(tf.config.experimental.list_physical_devices('GPU')))\n",
    "\n",
    "physical_devices = tf.config.experimental.list_physical_devices('GPU')\n",
    "if len(physical_devices) > 0:\n",
    "    tf.config.experimental.set_memory_growth(physical_devices[0], True)"
   ]
  },
  {
   "cell_type": "code",
   "execution_count": 3,
   "metadata": {},
   "outputs": [
    {
     "data": {
      "text/plain": [
       "pathlib.WindowsPath"
      ]
     },
     "execution_count": 3,
     "metadata": {},
     "output_type": "execute_result"
    }
   ],
   "source": [
    "import pathlib\n",
    "#https://cdn-144.anonfiles.com/J8c8S3s0p4/935d48c2-1606216539/data.tar.gz\n",
    "data = r\"C:\\Users\\tobia\\Samlet CNN\\data\"\n",
    "data_dir = pathlib.Path(data)\n",
    "type(data_dir)\n"
   ]
  },
  {
   "cell_type": "code",
   "execution_count": 4,
   "metadata": {},
   "outputs": [
    {
     "name": "stdout",
     "output_type": "stream",
     "text": [
      "35886\n"
     ]
    }
   ],
   "source": [
    "image_count = len(list(data_dir.glob('*/*/*.png')))\n",
    "print(image_count)"
   ]
  },
  {
   "cell_type": "code",
   "execution_count": 5,
   "metadata": {},
   "outputs": [
    {
     "name": "stdout",
     "output_type": "stream",
     "text": [
      "28709\n",
      "3589\n"
     ]
    }
   ],
   "source": [
    "#Train\n",
    "train_ds = tf.data.Dataset.list_files(str(data_dir/'train/*/*'), shuffle=False)\n",
    "train_ds = train_ds.shuffle(image_count, reshuffle_each_iteration=False)\n",
    "#Val\n",
    "val_ds = tf.data.Dataset.list_files(str(data_dir/'val/*/*'), shuffle=False)\n",
    "val_ds = val_ds.shuffle(image_count, reshuffle_each_iteration=False)\n",
    "\n",
    "print(tf.data.experimental.cardinality(train_ds).numpy())\n",
    "print(tf.data.experimental.cardinality(val_ds).numpy())\n"
   ]
  },
  {
   "cell_type": "code",
   "execution_count": 6,
   "metadata": {},
   "outputs": [
    {
     "name": "stdout",
     "output_type": "stream",
     "text": [
      "b'C:\\\\Users\\\\tobia\\\\Samlet CNN\\\\data\\\\train\\\\3\\\\734.png'\n",
      "b'C:\\\\Users\\\\tobia\\\\Samlet CNN\\\\data\\\\train\\\\6\\\\14224.png'\n",
      "b'C:\\\\Users\\\\tobia\\\\Samlet CNN\\\\data\\\\train\\\\2\\\\28559.png'\n",
      "b'C:\\\\Users\\\\tobia\\\\Samlet CNN\\\\data\\\\train\\\\6\\\\19609.png'\n",
      "b'C:\\\\Users\\\\tobia\\\\Samlet CNN\\\\data\\\\train\\\\0\\\\1483.png'\n"
     ]
    }
   ],
   "source": [
    "for f in train_ds.take(5):\n",
    "    print(f.numpy())"
   ]
  },
  {
   "cell_type": "code",
   "execution_count": 7,
   "metadata": {},
   "outputs": [
    {
     "name": "stdout",
     "output_type": "stream",
     "text": [
      "['0' '1' '2' '3' '4' '5' '6']\n"
     ]
    }
   ],
   "source": [
    "class_names = np.array(sorted([item.name for item in data_dir.glob('train/*') if item.name != \"LICENSE.txt\"]))\n",
    "print(class_names)"
   ]
  },
  {
   "cell_type": "code",
   "execution_count": 8,
   "metadata": {},
   "outputs": [],
   "source": [
    "batch_size = 64\n",
    "img_height = 48\n",
    "img_width = 48"
   ]
  },
  {
   "cell_type": "code",
   "execution_count": 9,
   "metadata": {},
   "outputs": [],
   "source": [
    "def visualize(original, augmented):\n",
    "    fig = plt.figure()\n",
    "    plt.subplot(1,2,1)\n",
    "    plt.title('Original image')\n",
    "    plt.imshow(original,cmap='gray')\n",
    "\n",
    "    plt.subplot(1,2,2)\n",
    "    plt.title('Augmented image')\n",
    "    plt.imshow(augmented,cmap='gray')"
   ]
  },
  {
   "cell_type": "code",
   "execution_count": 10,
   "metadata": {},
   "outputs": [],
   "source": [
    "def get_label(file_path):\n",
    "  # convert the path to a list of path components\n",
    "  parts = tf.strings.split(file_path, os.path.sep)\n",
    "  # The second to last is the class-directory\n",
    "  one_hot = parts[-2] == class_names\n",
    "  # Integer encode the label\n",
    "  return tf.argmax(one_hot)"
   ]
  },
  {
   "cell_type": "code",
   "execution_count": 11,
   "metadata": {},
   "outputs": [],
   "source": [
    "def decode_img(img):\n",
    "  # convert the compressed string to a 3D uint8 tensor\n",
    "  img = tf.image.decode_png(img, channels=1)\n",
    "  # resize the image to the desired size\n",
    "  return tf.image.resize(img, [img_height, img_width])"
   ]
  },
  {
   "cell_type": "code",
   "execution_count": 12,
   "metadata": {},
   "outputs": [],
   "source": [
    "def process_path(file_path):\n",
    "    label = get_label(file_path)\n",
    "  # load the raw data from the file as a string\n",
    "    img = tf.io.read_file(file_path)\n",
    "    img = decode_img(img)\n",
    "    return img, label"
   ]
  },
  {
   "cell_type": "code",
   "execution_count": 13,
   "metadata": {
    "scrolled": true
   },
   "outputs": [],
   "source": [
    "# Set `num_parallel_calls` so multiple images are loaded/processed in parallel.\n",
    "AUTOTUNE = tf.data.experimental.AUTOTUNE\n",
    "train_ds = train_ds.map(process_path, num_parallel_calls=AUTOTUNE)\n",
    "val_ds = val_ds.map(process_path, num_parallel_calls=AUTOTUNE)"
   ]
  },
  {
   "cell_type": "code",
   "execution_count": 14,
   "metadata": {
    "scrolled": false
   },
   "outputs": [
    {
     "name": "stdout",
     "output_type": "stream",
     "text": [
      "Image shape:  (48, 48, 1)\n",
      "Label:  3\n"
     ]
    },
    {
     "data": {
      "image/png": "[encoded data removed]",
      "text/plain": [
       "<Figure size 432x288 with 1 Axes>"
      ]
     },
     "metadata": {
      "needs_background": "light"
     },
     "output_type": "display_data"
    }
   ],
   "source": [
    "for image, label in train_ds.take(1):\n",
    "    plt.imshow(image.numpy().astype(\"uint8\"),cmap='gray')\n",
    "    print(\"Image shape: \", image.numpy().shape)\n",
    "    print(\"Label: \", label.numpy())"
   ]
  },
  {
   "cell_type": "code",
   "execution_count": 15,
   "metadata": {},
   "outputs": [],
   "source": [
    "def resize_and_rescale(image, label):\n",
    "    #image = tf.cast(image, tf.float32)\n",
    "    image = tf.image.resize(image, [img_height, img_width])\n",
    "    #image = (image/ 255.0)\n",
    "    #image = tf.image.convert_image_dtype(image, tf.float32) # Cast and normalize the image to [0,1]\n",
    "    return image, label\n"
   ]
  },
  {
   "cell_type": "code",
   "execution_count": null,
   "metadata": {},
   "outputs": [],
   "source": []
  },
  {
   "cell_type": "code",
   "execution_count": null,
   "metadata": {},
   "outputs": [],
   "source": []
  },
  {
   "cell_type": "code",
   "execution_count": 16,
   "metadata": {},
   "outputs": [],
   "source": [
    "def augment(image,label):\n",
    "    random_number = random.uniform(0.1,0.8)\n",
    "    random_number_flip = random.uniform(0,2)\n",
    "    image, label = resize_and_rescale(image, label)\n",
    "    # Add 6 pixels of padding\n",
    "    image = tf.image.resize_with_crop_or_pad(image, img_height + 6, img_width + 6) \n",
    "    # Random crop back to the original size\n",
    "    image = tf.image.random_crop(image, size=[img_height, img_width, 1])\n",
    "    \n",
    "    #shear\n",
    "    random_number_shear = random.uniform(-0.3,0.3)\n",
    "    shear = random_number_shear\n",
    "    shear_rotate = shear * -20\n",
    "    image = tfa.image.transform(image, [1.0, shear, shear_rotate, 0.0, 1.0, 0.0, 0.0, 0.0])\n",
    "\n",
    "    #distortion\n",
    "    random_number_distortion = random.uniform(0,5)\n",
    "    noise = tf.random.normal(shape=tf.shape(image), mean=0.0, stddev=random_number_distortion, dtype=tf.float32)\n",
    "    image = tf.add(image, noise)\n",
    "    \n",
    "    #random erase\n",
    "    #image = tfa.image.random_cutout(image, (10,10), constant_values = 0)\n",
    "        \n",
    "    if random_number_flip > 1:\n",
    "        image = tf.image.flip_left_right(image)\n",
    "    image = tf.image.random_brightness(image, max_delta=0.5) # Random brightness    \n",
    "    return image, label"
   ]
  },
  {
   "cell_type": "code",
   "execution_count": null,
   "metadata": {},
   "outputs": [],
   "source": []
  },
  {
   "cell_type": "code",
   "execution_count": 17,
   "metadata": {},
   "outputs": [
    {
     "name": "stdout",
     "output_type": "stream",
     "text": [
      "Image shape:  (48, 48, 1)\n",
      "Label:  3\n",
      "<ParallelMapDataset shapes: ((48, 48, 1), ()), types: (tf.float32, tf.int64)>\n",
      "<PrefetchDataset shapes: ((None, 48, 48, 1), (None,)), types: (tf.float32, tf.int64)>\n"
     ]
    },
    {
     "data": {
      "text/plain": [
       "<matplotlib.image.AxesImage at 0x267c7110070>"
      ]
     },
     "execution_count": 17,
     "metadata": {},
     "output_type": "execute_result"
    },
    {
     "data": {
      "image/png": "[encoded data removed]",
      "text/plain": [
       "<Figure size 432x288 with 1 Axes>"
      ]
     },
     "metadata": {
      "needs_background": "light"
     },
     "output_type": "display_data"
    }
   ],
   "source": [
    "for image, label in train_ds.take(1):\n",
    "    plt.imshow(image.numpy().astype(\"uint8\"),cmap='gray')\n",
    "    print(\"Image shape: \", image.numpy().shape)\n",
    "    print(\"Label: \", label.numpy())\n",
    "    print(train_ds)\n",
    "    \n",
    "train_ds = (\n",
    "    train_ds\n",
    "    .shuffle(1000)\n",
    "    .batch(batch_size)\n",
    "    .prefetch(AUTOTUNE)\n",
    ")    \n",
    "orgDataset = train_ds\n",
    "\n",
    "#.map(augment, num_parallel_calls=AUTOTUNE)\n",
    "print(train_ds)\n",
    "\n",
    "val_ds = (\n",
    "    val_ds\n",
    "    .map(resize_and_rescale, num_parallel_calls=AUTOTUNE)\n",
    "    .batch(batch_size)\n",
    "    .prefetch(AUTOTUNE)\n",
    ")\n",
    "\n",
    "image_batch, label_batch = next(iter(train_ds))\n",
    "plt.imshow(image_batch[1].numpy().astype(\"uint8\"),cmap='gray')\n"
   ]
  },
  {
   "cell_type": "code",
   "execution_count": 18,
   "metadata": {
    "scrolled": true
   },
   "outputs": [
    {
     "data": {
      "image/png": "[encoded data removed]",
      "text/plain": [
       "<Figure size 720x720 with 9 Axes>"
      ]
     },
     "metadata": {
      "needs_background": "light"
     },
     "output_type": "display_data"
    }
   ],
   "source": [
    "image_batch, label_batch = next(iter(train_ds))\n",
    "plt.figure(figsize=(10, 10))\n",
    "for i in range(9):\n",
    "    ax = plt.subplot(3, 3, i + 1)\n",
    "    plt.imshow(image_batch[i].numpy().astype(\"uint8\"),cmap='gray')\n",
    "    label = label_batch[i]\n",
    "    plt.title(class_names[label])\n",
    "    plt.axis(\"off\")\n"
   ]
  },
  {
   "cell_type": "code",
   "execution_count": 19,
   "metadata": {},
   "outputs": [
    {
     "data": {
      "text/plain": [
       "numpy.ndarray"
      ]
     },
     "execution_count": 19,
     "metadata": {},
     "output_type": "execute_result"
    }
   ],
   "source": [
    "image = image_batch[1].numpy().astype(\"uint8\")\n",
    "#visualize(image, flipped)\n",
    "type(image)"
   ]
  },
  {
   "cell_type": "code",
   "execution_count": 20,
   "metadata": {},
   "outputs": [],
   "source": [
    "class CustomCallback(keras.callbacks.Callback):\n",
    "   \n",
    "    def on_epoch_end(self, epoch, logs=None):      \n",
    "        image_batch, label_batch = next(iter(train_ds))\n",
    "        plt.figure(figsize=(10, 10))\n",
    "        for i in range(1):\n",
    "            ax = plt.subplot(2, 2, i + 1)\n",
    "            plt.imshow(image_batch[i].numpy().astype(\"uint8\"),cmap='gray')\n",
    "            label = label_batch[i]\n",
    "            plt.title(class_names[label])\n",
    "            plt.axis(\"off\")"
   ]
  },
  {
   "cell_type": "code",
   "execution_count": 21,
   "metadata": {},
   "outputs": [],
   "source": [
    "def visualize2(original):\n",
    "    fig = plt.figure()\n",
    "    plt.subplot(1,2,1)\n",
    "    plt.title('Original image')\n",
    "    image = colorImage(original)\n",
    "    plt.imshow(image)"
   ]
  },
  {
   "cell_type": "code",
   "execution_count": 22,
   "metadata": {},
   "outputs": [],
   "source": [
    "def flipImage(image):\n",
    "    flipped = tf.image.flip_left_right(image)\n",
    "    \n",
    "def colorImage(image):\n",
    "    image = tf.image.adjust_brightness(image,0.5)\n",
    "    return image"
   ]
  },
  {
   "cell_type": "code",
   "execution_count": 31,
   "metadata": {},
   "outputs": [],
   "source": [
    "from tensorflow.keras import layers\n",
    "\n",
    "#normalization_layer = tf.keras.layers.experimental.preprocessing.Rescaling(1./255)\n",
    "\n",
    "num_classes = 7\n",
    "cnn = tf.keras.models.Sequential([\n",
    "layers.Conv2D(filters=32, kernel_size=3, activation='relu', input_shape=[48, 48, 1]),\n",
    "layers.MaxPool2D(pool_size=2, strides=2),\n",
    "layers.Conv2D(filters=32, kernel_size=3, activation='relu'),\n",
    "layers.MaxPool2D(pool_size=2, strides=2),\n",
    "layers.Flatten(),\n",
    "layers.Dense(units=128, activation='relu'),\n",
    "layers.Dense(units=7,activation='softmax')\n",
    "])\n",
    "\n",
    "cnn.compile(\n",
    "  optimizer='adam',\n",
    "  loss=tf.losses.SparseCategoricalCrossentropy(from_logits=False),\n",
    "  metrics=['accuracy'])\n",
    "\n"
   ]
  },
  {
   "cell_type": "code",
   "execution_count": 33,
   "metadata": {},
   "outputs": [],
   "source": [
    "from tensorflow.keras import layers\n",
    "\n",
    "#normalization_layer = tf.keras.layers.experimental.preprocessing.Rescaling(1./255)\n",
    "\n",
    "num_classes = 7\n",
    "model = tf.keras.models.Sequential([\n",
    "layers.Conv2D(filters=32, kernel_size=3, activation='relu', input_shape=[48, 48, 1]),\n",
    "layers.Conv2D(filters=32, kernel_size=3, activation='relu'),\n",
    "layers.MaxPool2D(pool_size=2, strides=2),\n",
    "layers.Conv2D(filters=64, kernel_size=3, activation='relu'),\n",
    "layers.Conv2D(filters=64, kernel_size=3, activation='relu'),\n",
    "layers.MaxPool2D(pool_size=2, strides=2),\n",
    "layers.Flatten(),\n",
    "layers.Dense(units=256, activation='relu'),\n",
    "layers.Dense(units=7,activation='softmax')\n",
    "])\n",
    "\n",
    "model.compile(\n",
    "  optimizer='adam',\n",
    "  loss=tf.losses.SparseCategoricalCrossentropy(from_logits=False),\n",
    "  metrics=['accuracy'])\n"
   ]
  },
  {
   "cell_type": "code",
   "execution_count": 24,
   "metadata": {},
   "outputs": [],
   "source": [
    "from tensorflow.keras import layers\n",
    "model = tf.keras.models.Sequential([\n",
    "layers.Conv2D(32, kernel_size=(3, 3), padding='same', activation='relu', input_shape =[48, 48, 1]),\n",
    "layers.Conv2D(64, kernel_size=(3, 3), activation='relu', padding='same'),\n",
    "layers.MaxPool2D(pool_size=2, strides=2),\n",
    "#layers.Dropout(0.25),\n",
    "    \n",
    "layers.Conv2D(128, kernel_size=(3, 3), activation='relu', padding='same', kernel_regularizer=regularizers.l2(0.01)),\n",
    "layers.Conv2D(256, kernel_size=(3, 3), activation='relu', kernel_regularizer=regularizers.l2(0.01)),\n",
    "layers.MaxPool2D(pool_size=2, strides=2),\n",
    "#layers.Dropout(0.25),\n",
    "\n",
    "layers.Flatten(),\n",
    "layers.Dense(1024, activation='relu'),\n",
    "#layers.Dropout(0.5),\n",
    "layers.Dense(units=7,activation='softmax')\n",
    "])\n",
    "model.compile(\n",
    "  optimizer='adam',\n",
    "  loss=tf.losses.SparseCategoricalCrossentropy(from_logits=False),\n",
    "  metrics=['accuracy'])\n",
    "\n"
   ]
  },
  {
   "cell_type": "code",
   "execution_count": null,
   "metadata": {},
   "outputs": [],
   "source": []
  },
  {
   "cell_type": "code",
   "execution_count": 35,
   "metadata": {},
   "outputs": [
    {
     "name": "stdout",
     "output_type": "stream",
     "text": [
      "Model: \"sequential_5\"\n",
      "_________________________________________________________________\n",
      "Layer (type)                 Output Shape              Param #   \n",
      "=================================================================\n",
      "conv2d_16 (Conv2D)           (None, 46, 46, 32)        320       \n",
      "_________________________________________________________________\n",
      "conv2d_17 (Conv2D)           (None, 44, 44, 32)        9248      \n",
      "_________________________________________________________________\n",
      "max_pooling2d_10 (MaxPooling (None, 22, 22, 32)        0         \n",
      "_________________________________________________________________\n",
      "conv2d_18 (Conv2D)           (None, 20, 20, 64)        18496     \n",
      "_________________________________________________________________\n",
      "conv2d_19 (Conv2D)           (None, 18, 18, 64)        36928     \n",
      "_________________________________________________________________\n",
      "max_pooling2d_11 (MaxPooling (None, 9, 9, 64)          0         \n",
      "_________________________________________________________________\n",
      "flatten_5 (Flatten)          (None, 5184)              0         \n",
      "_________________________________________________________________\n",
      "dense_10 (Dense)             (None, 256)               1327360   \n",
      "_________________________________________________________________\n",
      "dense_11 (Dense)             (None, 7)                 1799      \n",
      "=================================================================\n",
      "Total params: 1,394,151\n",
      "Trainable params: 1,394,151\n",
      "Non-trainable params: 0\n",
      "_________________________________________________________________\n"
     ]
    }
   ],
   "source": [
    "model.summary()"
   ]
  },
  {
   "cell_type": "code",
   "execution_count": null,
   "metadata": {},
   "outputs": [],
   "source": []
  },
  {
   "cell_type": "code",
   "execution_count": null,
   "metadata": {},
   "outputs": [
    {
     "name": "stdout",
     "output_type": "stream",
     "text": [
      "1/100\n",
      "449/449 [==============================] - 31s 64ms/step - loss: 2.7942 - accuracy: 0.2655 - val_loss: 1.6116 - val_accuracy: 0.3736\n",
      "2/100\n",
      "449/449 [==============================] - 25s 54ms/step - loss: 1.5701 - accuracy: 0.3887 - val_loss: 1.4617 - val_accuracy: 0.4486\n",
      "3/100\n",
      "449/449 [==============================] - 25s 52ms/step - loss: 1.4604 - accuracy: 0.4391 - val_loss: 1.3932 - val_accuracy: 0.4692\n",
      "4/100\n",
      "449/449 [==============================] - 28s 61ms/step - loss: 1.3851 - accuracy: 0.4689 - val_loss: 1.3500 - val_accuracy: 0.4848\n",
      "5/100\n",
      "449/449 [==============================] - 29s 62ms/step - loss: 1.3451 - accuracy: 0.4863 - val_loss: 1.2816 - val_accuracy: 0.5166\n",
      "6/100\n",
      "449/449 [==============================] - 29s 61ms/step - loss: 1.2768 - accuracy: 0.5119 - val_loss: 1.2621 - val_accuracy: 0.5152\n",
      "7/100\n",
      "449/449 [==============================] - 41s 89ms/step - loss: 1.2360 - accuracy: 0.5306 - val_loss: 1.2681 - val_accuracy: 0.5141\n",
      "8/100\n",
      "449/449 [==============================] - 31s 64ms/step - loss: 1.1915 - accuracy: 0.5471 - val_loss: 1.2695 - val_accuracy: 0.5171\n",
      "9/100\n",
      "449/449 [==============================] - 22s 47ms/step - loss: 1.2460 - accuracy: 0.5298 - val_loss: 1.2911 - val_accuracy: 0.5188\n",
      "10/100\n",
      "449/449 [==============================] - 22s 46ms/step - loss: 1.2189 - accuracy: 0.5385 - val_loss: 1.1761 - val_accuracy: 0.5581\n",
      "11/100\n",
      "449/449 [==============================] - 25s 53ms/step - loss: 1.1837 - accuracy: 0.5526 - val_loss: 1.2175 - val_accuracy: 0.5497\n",
      "12/100\n",
      "449/449 [==============================] - 25s 53ms/step - loss: 1.1497 - accuracy: 0.5693 - val_loss: 1.1943 - val_accuracy: 0.5472\n",
      "13/100\n",
      "449/449 [==============================] - 35s 73ms/step - loss: 1.1788 - accuracy: 0.5566 - val_loss: 1.1530 - val_accuracy: 0.5695\n",
      "14/100\n",
      "    158/Unknown - 12s 63ms/step - loss: 1.1322 - accuracy: 0.5691"
     ]
    }
   ],
   "source": [
    "n_epoch = 100\n",
    "best_epoch = 0\n",
    "\n",
    "top_25_accuracy = []\n",
    "accuracy = []\n",
    "highest_accuracy = 0\n",
    "\n",
    "top_25_val_accuracy = []\n",
    "val_accuracy = []\n",
    "highest_val_accuracy = 0\n",
    "\n",
    "top_25_loss_ = []\n",
    "loss_ = []\n",
    "lowest_loss_ = 100\n",
    "\n",
    "top_25_val_loss = []\n",
    "val_loss = []\n",
    "lowest_val_loss = 100\n",
    "\n",
    "\n",
    "start = time.time()\n",
    "for i in range(n_epoch):\n",
    "    try:\n",
    "        print(f\"{i+1}/{n_epoch}\")\n",
    "        history = model.fit(train_ds, validation_data = val_ds, epochs = 1)\n",
    "        \n",
    "        train_ds = (\n",
    "            orgDataset\n",
    "            .unbatch()\n",
    "            .shuffle(1000)\n",
    "            .map(augment, num_parallel_calls=AUTOTUNE)\n",
    "            .batch(batch_size)\n",
    "            .prefetch(AUTOTUNE)\n",
    "         )\n",
    "        \n",
    "        if highest_accuracy < history.history['accuracy'][0]:\n",
    "            highest_accuracy = history.history['accuracy'][0]\n",
    "            \n",
    "        if highest_val_accuracy < history.history['val_accuracy'][0]:\n",
    "            highest_val_accuracy = history.history['val_accuracy'][0]\n",
    "            best_epoch = i+1\n",
    "            \n",
    "        if lowest_loss_ > history.history['loss'][0]:\n",
    "            lowest_loss_ = history.history['loss'][0]\n",
    "            \n",
    "        if lowest_val_loss > history.history['val_loss'][0]:\n",
    "            lowest_val_loss = history.history['val_loss'][0]       \n",
    "            \n",
    "            \n",
    "        accuracy.append(history.history['accuracy'])\n",
    "        val_accuracy.append(history.history['val_accuracy'])\n",
    "        loss_.append(history.history['loss'])\n",
    "        val_loss.append(history.history['val_loss'])\n",
    "        if i>=75:\n",
    "            top_25_accuracy.append(history.history['accuracy'])\n",
    "            top_25_val_accuracy.append(history.history['val_accuracy'])\n",
    "            top_25_loss_.append(history.history['loss'])\n",
    "            top_25_val_loss.append(history.history['val_loss'])\n",
    "        if i%5 == 0:\n",
    "            image_batch, label_batch = next(iter(train_ds))\n",
    "            plt.figure(figsize=(10, 10))\n",
    "            for i in range(1):\n",
    "                ax = plt.subplot(2, 2, i + 1)\n",
    "                plt.imshow(image_batch[i].numpy().astype(\"uint8\"),cmap='gray')\n",
    "                label = label_batch[i]\n",
    "                plt.title(class_names[label])\n",
    "                plt.axis(\"off\")\n",
    "    except ValueError:\n",
    "        print(train_ds)\n",
    "end = time.time()\n",
    "duration = end - start\n",
    "p1 = int(duration % 60)\n",
    "p2 = int(duration / 60)\n",
    "p3 = int(p2 % 60)\n",
    "p2 = int(p2 / 60)\n",
    "print(f\"It took {p2}:{p3}:{p1}\")\n",
    "print(f\"highest_accuracy: {highest_accuracy} highest_val_accuracy (Epoch: {best_epoch}) : {highest_val_accuracy} lowest_loss: {lowest_loss_} lowest_val_loss: {lowest_val_loss}\")"
   ]
  },
  {
   "cell_type": "code",
   "execution_count": null,
   "metadata": {
    "scrolled": true
   },
   "outputs": [],
   "source": []
  },
  {
   "cell_type": "code",
   "execution_count": 30,
   "metadata": {
    "scrolled": true
   },
   "outputs": [
    {
     "data": {
      "image/png": "[encoded data removed]",
      "text/plain": [
       "<Figure size 432x288 with 1 Axes>"
      ]
     },
     "metadata": {
      "needs_background": "light"
     },
     "output_type": "display_data"
    },
    {
     "ename": "NameError",
     "evalue": "name 'top_25_accuracy' is not defined",
     "output_type": "error",
     "traceback": [
      "\u001b[1;31m---------------------------------------------------------------------------\u001b[0m",
      "\u001b[1;31mNameError\u001b[0m                                 Traceback (most recent call last)",
      "\u001b[1;32m<ipython-input-30-6caeca780944>\u001b[0m in \u001b[0;36m<module>\u001b[1;34m\u001b[0m\n\u001b[0;32m      9\u001b[0m \u001b[0mplt\u001b[0m\u001b[1;33m.\u001b[0m\u001b[0mshow\u001b[0m\u001b[1;33m(\u001b[0m\u001b[1;33m)\u001b[0m\u001b[1;33m\u001b[0m\u001b[1;33m\u001b[0m\u001b[0m\n\u001b[0;32m     10\u001b[0m \u001b[1;31m#accuracy top 25\u001b[0m\u001b[1;33m\u001b[0m\u001b[1;33m\u001b[0m\u001b[1;33m\u001b[0m\u001b[0m\n\u001b[1;32m---> 11\u001b[1;33m \u001b[0mplt\u001b[0m\u001b[1;33m.\u001b[0m\u001b[0mplot\u001b[0m\u001b[1;33m(\u001b[0m\u001b[0mtop_25_accuracy\u001b[0m\u001b[1;33m)\u001b[0m\u001b[1;33m\u001b[0m\u001b[1;33m\u001b[0m\u001b[0m\n\u001b[0m\u001b[0;32m     12\u001b[0m \u001b[0mplt\u001b[0m\u001b[1;33m.\u001b[0m\u001b[0mplot\u001b[0m\u001b[1;33m(\u001b[0m\u001b[0mtop_25_val_accuracy\u001b[0m\u001b[1;33m)\u001b[0m\u001b[1;33m\u001b[0m\u001b[1;33m\u001b[0m\u001b[0m\n\u001b[0;32m     13\u001b[0m \u001b[0mplt\u001b[0m\u001b[1;33m.\u001b[0m\u001b[0mtitle\u001b[0m\u001b[1;33m(\u001b[0m\u001b[1;34m'model accuracy'\u001b[0m\u001b[1;33m)\u001b[0m\u001b[1;33m\u001b[0m\u001b[1;33m\u001b[0m\u001b[0m\n",
      "\u001b[1;31mNameError\u001b[0m: name 'top_25_accuracy' is not defined"
     ]
    }
   ],
   "source": [
    "#accuracy\n",
    "plt.plot(accuracy)\n",
    "plt.plot(val_accuracy)\n",
    "plt.title('model accuracy')\n",
    "plt.ylabel('Accuracy')\n",
    "plt.xlabel('Epochs')\n",
    "plt.legend(['Train', 'Val'], loc='upper left')\n",
    "plt.savefig('graph1.png')\n",
    "plt.show()\n",
    "#accuracy top 25\n",
    "plt.plot(top_25_accuracy)\n",
    "plt.plot(top_25_val_accuracy)\n",
    "plt.title('model accuracy')\n",
    "plt.ylabel('Accuracy')\n",
    "plt.xlabel('Epochs')\n",
    "plt.legend(['Train', 'Val'], loc='upper left')\n",
    "plt.savefig('graph11.png')\n",
    "plt.show()\n",
    "#loss\n",
    "plt.plot(loss_)\n",
    "plt.plot(val_loss)\n",
    "plt.title('Model loss')\n",
    "plt.ylabel('Loss')\n",
    "plt.xlabel('Epoch')\n",
    "plt.legend(['Train', 'Val'], loc='upper left')\n",
    "plt.savefig('graph2.png')\n",
    "plt.show()\n",
    "\n",
    "#loss accuracy\n",
    "plt.plot(top_25_loss_)\n",
    "plt.plot(top_25_val_loss)\n",
    "plt.title('Model loss')\n",
    "plt.ylabel('Loss')\n",
    "plt.xlabel('Epoch')\n",
    "plt.legend(['Train', 'Val'], loc='upper left')\n",
    "plt.savefig('graph22.png')\n",
    "plt.show()\n"
   ]
  },
  {
   "cell_type": "code",
   "execution_count": null,
   "metadata": {},
   "outputs": [],
   "source": [
    "import numpy as np\n",
    "from keras.preprocessing import image\n",
    "from PIL import Image, ImageOps \n",
    "test_image = image.load_img(r'C:\\Users\\tobia\\Samlet CNN\\data\\test\\4\\33606.png', target_size = (48, 48))\n",
    "test_image = ImageOps.grayscale(test_image) \n",
    "plt.imshow(test_image,cmap='gray')\n",
    "\n"
   ]
  },
  {
   "cell_type": "code",
   "execution_count": null,
   "metadata": {},
   "outputs": [],
   "source": [
    "test_image = image.img_to_array(test_image)\n",
    "test_image = np.expand_dims(test_image, axis = 0)\n",
    "result = cnn.predict(test_image)\n",
    "result = result.tolist()\n",
    "result = result[0]\n",
    "\n",
    "tal = [1,2,3,4,5,7,6]\n",
    "mood = ['Angry','Disgust','Fear','Happy','Sad','Surprise','Neutral']\n",
    "plt.title('Mood')\n",
    "plt.ylabel('accuracy')\n",
    "plt.bar(mood, result)\n",
    "plt.savefig('barGraph.png')\n",
    "plt.show()\n"
   ]
  },
  {
   "cell_type": "code",
   "execution_count": null,
   "metadata": {},
   "outputs": [],
   "source": [
    "print(history.history['accuracy'])"
   ]
  },
  {
   "cell_type": "code",
   "execution_count": null,
   "metadata": {},
   "outputs": [],
   "source": [
    "import itertools\n",
    "from sklearn.metrics import confusion_matrix"
   ]
  },
  {
   "cell_type": "code",
   "execution_count": null,
   "metadata": {},
   "outputs": [],
   "source": [
    "unbatched_val_ds = val_ds.unbatch()\n",
    "print(unbatched_val_ds)\n",
    "y = []\n",
    "for label in unbatched_val_ds:\n",
    "    y.append(label)\n",
    "\n",
    "pred = model.predict(val_ds)\n",
    "pred = np.argmax(pred, axis=1)\n",
    "print(pred)\n",
    "conf = confusion_matrix(y, pred)\n",
    "\n",
    "\n",
    "import seaborn as sns\n",
    "sns.heatmap(conf, annot=True)"
   ]
  },
  {
   "cell_type": "code",
   "execution_count": null,
   "metadata": {},
   "outputs": [],
   "source": []
  }
 ],
 "metadata": {
  "kernelspec": {
   "display_name": "Python 3",
   "language": "python",
   "name": "python3"
  },
  "language_info": {
   "codemirror_mode": {
    "name": "ipython",
    "version": 3
   },
   "file_extension": ".py",
   "mimetype": "text/x-python",
   "name": "python",
   "nbconvert_exporter": "python",
   "pygments_lexer": "ipython3",
   "version": "3.8.5"
  }
 },
 "nbformat": 4,
 "nbformat_minor": 4
}
