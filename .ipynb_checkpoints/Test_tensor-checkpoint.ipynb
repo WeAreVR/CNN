{
 "cells": [
  {
   "cell_type": "code",
   "execution_count": 1,
   "metadata": {},
   "outputs": [],
   "source": [
    "import numpy as np\n",
    "import os\n",
    "import PIL\n",
    "import PIL.Image\n",
    "import tensorflow as tf\n",
    "import matplotlib.pyplot as plt\n",
    "from tensorflow import keras"
   ]
  },
  {
   "cell_type": "code",
   "execution_count": 2,
   "metadata": {},
   "outputs": [
    {
     "name": "stdout",
     "output_type": "stream",
     "text": [
      "2.3.0\n"
     ]
    }
   ],
   "source": [
    "print(tf.__version__)\n"
   ]
  },
  {
   "cell_type": "code",
   "execution_count": 3,
   "metadata": {},
   "outputs": [
    {
     "data": {
      "text/plain": [
       "pathlib.PosixPath"
      ]
     },
     "execution_count": 3,
     "metadata": {},
     "output_type": "execute_result"
    }
   ],
   "source": [
    "import pathlib\n",
    "#https://cdn-144.anonfiles.com/J8c8S3s0p4/935d48c2-1606216539/data.tar.gz\n",
    "data = \"/home/tobias/CNN/data\"\n",
    "data_dir = pathlib.Path(data)\n",
    "type(data_dir)\n"
   ]
  },
  {
   "cell_type": "code",
   "execution_count": 4,
   "metadata": {},
   "outputs": [
    {
     "name": "stdout",
     "output_type": "stream",
     "text": [
      "35886\n"
     ]
    }
   ],
   "source": [
    "image_count = len(list(data_dir.glob('*/*/*.png')))\n",
    "print(image_count)"
   ]
  },
  {
   "cell_type": "code",
   "execution_count": 5,
   "metadata": {},
   "outputs": [
    {
     "name": "stdout",
     "output_type": "stream",
     "text": [
      "28709\n",
      "3589\n"
     ]
    }
   ],
   "source": [
    "#Train\n",
    "train_ds = tf.data.Dataset.list_files(str(data_dir/'train/*/*'), shuffle=False)\n",
    "train_ds = train_ds.shuffle(image_count, reshuffle_each_iteration=False)\n",
    "#Val\n",
    "val_ds = tf.data.Dataset.list_files(str(data_dir/'val/*/*'), shuffle=False)\n",
    "val_ds = val_ds.shuffle(image_count, reshuffle_each_iteration=False)\n",
    "\n",
    "print(tf.data.experimental.cardinality(train_ds).numpy())\n",
    "print(tf.data.experimental.cardinality(val_ds).numpy())\n"
   ]
  },
  {
   "cell_type": "code",
   "execution_count": 6,
   "metadata": {},
   "outputs": [
    {
     "name": "stdout",
     "output_type": "stream",
     "text": [
      "b'/home/tobias/CNN/data/train/4/11699.png'\n",
      "b'/home/tobias/CNN/data/train/5/15004.png'\n",
      "b'/home/tobias/CNN/data/train/3/3132.png'\n",
      "b'/home/tobias/CNN/data/train/3/21593.png'\n",
      "b'/home/tobias/CNN/data/train/5/18862.png'\n"
     ]
    }
   ],
   "source": [
    "for f in train_ds.take(5):\n",
    "    print(f.numpy())"
   ]
  },
  {
   "cell_type": "code",
   "execution_count": 7,
   "metadata": {},
   "outputs": [
    {
     "name": "stdout",
     "output_type": "stream",
     "text": [
      "['0' '1' '2' '3' '4' '5' '6']\n"
     ]
    }
   ],
   "source": [
    "class_names = np.array(sorted([item.name for item in data_dir.glob('train/*') if item.name != \"LICENSE.txt\"]))\n",
    "print(class_names)"
   ]
  },
  {
   "cell_type": "code",
   "execution_count": 8,
   "metadata": {},
   "outputs": [],
   "source": [
    "batch_size = 32\n",
    "img_height = 48\n",
    "img_width = 48"
   ]
  },
  {
   "cell_type": "code",
   "execution_count": 9,
   "metadata": {},
   "outputs": [],
   "source": [
    "def visualize(original, augmented):\n",
    "    fig = plt.figure()\n",
    "    plt.subplot(1,2,1)\n",
    "    plt.title('Original image')\n",
    "    plt.imshow(original)\n",
    "\n",
    "    plt.subplot(1,2,2)\n",
    "    plt.title('Augmented image')\n",
    "    plt.imshow(augmented)"
   ]
  },
  {
   "cell_type": "code",
   "execution_count": 10,
   "metadata": {},
   "outputs": [],
   "source": [
    "def get_label(file_path):\n",
    "  # convert the path to a list of path components\n",
    "  parts = tf.strings.split(file_path, os.path.sep)\n",
    "  # The second to last is the class-directory\n",
    "  one_hot = parts[-2] == class_names\n",
    "  # Integer encode the label\n",
    "  return tf.argmax(one_hot)"
   ]
  },
  {
   "cell_type": "code",
   "execution_count": 11,
   "metadata": {},
   "outputs": [],
   "source": [
    "def decode_img(img):\n",
    "  # convert the compressed string to a 3D uint8 tensor\n",
    "  img = tf.image.decode_png(img, channels=3)\n",
    "  # resize the image to the desired size\n",
    "  return tf.image.resize(img, [img_height, img_width])"
   ]
  },
  {
   "cell_type": "code",
   "execution_count": 12,
   "metadata": {},
   "outputs": [],
   "source": [
    "def process_path(file_path):\n",
    "    label = get_label(file_path)\n",
    "  # load the raw data from the file as a string\n",
    "    img = tf.io.read_file(file_path)\n",
    "    img = decode_img(img)\n",
    "    return img, label"
   ]
  },
  {
   "cell_type": "code",
   "execution_count": 13,
   "metadata": {
    "scrolled": true
   },
   "outputs": [],
   "source": [
    "# Set `num_parallel_calls` so multiple images are loaded/processed in parallel.\n",
    "AUTOTUNE = tf.data.experimental.AUTOTUNE\n",
    "train_ds = train_ds.map(process_path, num_parallel_calls=AUTOTUNE)\n",
    "val_ds = val_ds.map(process_path, num_parallel_calls=AUTOTUNE)"
   ]
  },
  {
   "cell_type": "code",
   "execution_count": 14,
   "metadata": {},
   "outputs": [
    {
     "name": "stdout",
     "output_type": "stream",
     "text": [
      "<ParallelMapDataset shapes: ((48, 48, 3), ()), types: (tf.float32, tf.int64)>\n"
     ]
    }
   ],
   "source": [
    "print(val_ds)"
   ]
  },
  {
   "cell_type": "code",
   "execution_count": 15,
   "metadata": {
    "scrolled": false
   },
   "outputs": [
    {
     "name": "stdout",
     "output_type": "stream",
     "text": [
      "Image shape:  (48, 48, 3)\n",
      "Label:  4\n"
     ]
    },
    {
     "data": {
      "image/png": "[encoded data removed]",
      "text/plain": [
       "<Figure size 432x288 with 1 Axes>"
      ]
     },
     "metadata": {
      "needs_background": "light"
     },
     "output_type": "display_data"
    }
   ],
   "source": [
    "for image, label in train_ds.take(1):\n",
    "    plt.imshow(image.numpy().astype(\"uint8\"))\n",
    "    print(\"Image shape: \", image.numpy().shape)\n",
    "    print(\"Label: \", label.numpy())"
   ]
  },
  {
   "cell_type": "code",
   "execution_count": 16,
   "metadata": {},
   "outputs": [],
   "source": [
    "def resize_and_rescale(image, label):\n",
    "   # image = tf.cast(image, tf.float32)\n",
    "    image = tf.image.resize(image, [img_height, img_width])\n",
    "    image = tf.image.convert_image_dtype(image, tf.float32) # Cast and normalize the image to [0,1]\n",
    "    return image, label\n"
   ]
  },
  {
   "cell_type": "code",
   "execution_count": 17,
   "metadata": {},
   "outputs": [
    {
     "name": "stdout",
     "output_type": "stream",
     "text": [
      "<ParallelMapDataset shapes: ((48, 48, 3), ()), types: (tf.float32, tf.int64)>\n",
      "<PrefetchDataset shapes: ((None, 48, 48, 3), (None,)), types: (tf.float32, tf.int64)>\n"
     ]
    }
   ],
   "source": [
    "def augment(image,label):\n",
    "    image, label = resize_and_rescale(image, label)\n",
    "    # Add 6 pixels of padding\n",
    "    #image = tf.image.resize_with_crop_or_pad(image, img_height + 6, img_width + 6) \n",
    "    # Random crop back to the original size\n",
    "    #image = tf.image.random_crop(image, size=[img_height, img_width, 3])\n",
    "    #image = tf.image.random_brightness(image, max_delta=0.5) # Random brightness\n",
    "    #image = tf.clip_by_value(image, 0, 1)\n",
    "    return image, label\n",
    "print(train_ds)\n",
    "train_ds = (\n",
    "    train_ds\n",
    "    .shuffle(1000)\n",
    "    .map(augment, num_parallel_calls=AUTOTUNE)\n",
    "    .batch(batch_size)\n",
    "    .prefetch(AUTOTUNE)\n",
    ")\n",
    "print(train_ds)\n",
    "\n",
    "val_ds = (\n",
    "    val_ds\n",
    "    .map(resize_and_rescale, num_parallel_calls=AUTOTUNE)\n",
    "    .batch(batch_size)\n",
    "    .prefetch(AUTOTUNE)\n",
    ")"
   ]
  },
  {
   "cell_type": "code",
   "execution_count": 18,
   "metadata": {},
   "outputs": [
    {
     "data": {
      "text/plain": [
       "'def configure_for_performance(ds):\\n    AUTOTUNE = tf.data.experimental.AUTOTUNE\\n    ds = ds.cache()\\n    ds = ds.shuffle(buffer_size=1000)\\n    ds = ds.batch(batch_size)\\n    ds = ds.prefetch(buffer_size=AUTOTUNE)\\n    return ds\\ntrain_ds = configure_for_performance(train_ds)\\nval_ds = configure_for_performance(val_ds)'"
      ]
     },
     "execution_count": 18,
     "metadata": {},
     "output_type": "execute_result"
    }
   ],
   "source": [
    "\n",
    "'''def configure_for_performance(ds):\n",
    "    AUTOTUNE = tf.data.experimental.AUTOTUNE\n",
    "    ds = ds.cache()\n",
    "    ds = ds.shuffle(buffer_size=1000)\n",
    "    ds = ds.batch(batch_size)\n",
    "    ds = ds.prefetch(buffer_size=AUTOTUNE)\n",
    "    return ds\n",
    "train_ds = configure_for_performance(train_ds)\n",
    "val_ds = configure_for_performance(val_ds)'''"
   ]
  },
  {
   "cell_type": "code",
   "execution_count": 19,
   "metadata": {},
   "outputs": [
    {
     "name": "stdout",
     "output_type": "stream",
     "text": [
      "[[[0 0 0]\n",
      "  [0 0 0]\n",
      "  [0 0 0]\n",
      "  ...\n",
      "  [1 1 1]\n",
      "  [1 1 1]\n",
      "  [1 1 1]]\n",
      "\n",
      " [[0 0 0]\n",
      "  [0 0 0]\n",
      "  [0 0 0]\n",
      "  ...\n",
      "  [1 1 1]\n",
      "  [1 1 1]\n",
      "  [1 1 1]]\n",
      "\n",
      " [[0 0 0]\n",
      "  [0 0 0]\n",
      "  [0 0 0]\n",
      "  ...\n",
      "  [1 1 1]\n",
      "  [1 1 1]\n",
      "  [1 1 1]]\n",
      "\n",
      " ...\n",
      "\n",
      " [[0 0 0]\n",
      "  [0 0 0]\n",
      "  [0 0 0]\n",
      "  ...\n",
      "  [0 0 0]\n",
      "  [0 0 0]\n",
      "  [0 0 0]]\n",
      "\n",
      " [[0 0 0]\n",
      "  [0 0 0]\n",
      "  [0 0 0]\n",
      "  ...\n",
      "  [0 0 0]\n",
      "  [0 0 0]\n",
      "  [0 0 0]]\n",
      "\n",
      " [[0 0 0]\n",
      "  [0 0 0]\n",
      "  [0 0 0]\n",
      "  ...\n",
      "  [0 0 0]\n",
      "  [0 0 0]\n",
      "  [0 0 0]]]\n"
     ]
    },
    {
     "data": {
      "image/png": "[encoded data removed]",
      "text/plain": [
       "<Figure size 720x720 with 9 Axes>"
      ]
     },
     "metadata": {
      "needs_background": "light"
     },
     "output_type": "display_data"
    }
   ],
   "source": [
    "image_batch, label_batch = next(iter(train_ds))\n",
    "print(image_batch[1].numpy().astype(\"uint8\"))\n",
    "plt.figure(figsize=(10, 10))\n",
    "for i in range(9):\n",
    "    ax = plt.subplot(3, 3, i + 1)\n",
    "    plt.imshow(image_batch[i].numpy().astype(\"uint8\"))\n",
    "    label = label_batch[i]\n",
    "    plt.title(class_names[label])\n",
    "    plt.axis(\"off\")\n"
   ]
  },
  {
   "cell_type": "code",
   "execution_count": 20,
   "metadata": {},
   "outputs": [
    {
     "data": {
      "text/plain": [
       "numpy.ndarray"
      ]
     },
     "execution_count": 20,
     "metadata": {},
     "output_type": "execute_result"
    },
    {
     "data": {
      "image/png": "[encoded data removed]",
      "text/plain": [
       "<Figure size 432x288 with 2 Axes>"
      ]
     },
     "metadata": {
      "needs_background": "light"
     },
     "output_type": "display_data"
    }
   ],
   "source": [
    "image = image_batch[1].numpy().astype(\"uint8\")\n",
    "flipped = tf.image.adjust_brightness(image,0.5)\n",
    "visualize(image, flipped)\n",
    "type(image)"
   ]
  },
  {
   "cell_type": "code",
   "execution_count": 21,
   "metadata": {},
   "outputs": [],
   "source": [
    "class CustomCallback(keras.callbacks.Callback):\n",
    "    def on_train_batch_begin(self, batch, logs=None):\n",
    "        batch = next(iter(train_ds))\n",
    "        for i in range(32):\n",
    "            image = batch[1].numpy().astype(\"uint8\")\n",
    "            print(\"hej\")\n",
    "            visualize2(image)\n",
    "    def on_epoch_end(self, epoch, logs=None):\n",
    "        print(\"hej\")\n",
    "        image = image_batch[1].numpy().astype(\"uint8\")\n",
    "        visualize2(image)\n",
    "\n"
   ]
  },
  {
   "cell_type": "code",
   "execution_count": 22,
   "metadata": {},
   "outputs": [],
   "source": [
    "def visualize2(original):\n",
    "    fig = plt.figure()\n",
    "    plt.subplot(1,2,1)\n",
    "    plt.title('Original image')\n",
    "    image = colorImage(original)\n",
    "    plt.imshow(image)\n"
   ]
  },
  {
   "cell_type": "code",
   "execution_count": 23,
   "metadata": {},
   "outputs": [],
   "source": [
    "def flipImage(image):\n",
    "    flipped = tf.image.flip_left_right(image)\n",
    "    \n",
    "def colorImage(image):\n",
    "    image = tf.image.adjust_brightness(image,0.5)\n",
    "    return image"
   ]
  },
  {
   "cell_type": "code",
   "execution_count": null,
   "metadata": {},
   "outputs": [],
   "source": []
  },
  {
   "cell_type": "code",
   "execution_count": 24,
   "metadata": {},
   "outputs": [],
   "source": [
    "from tensorflow.keras import layers\n",
    "\n",
    "normalization_layer = tf.keras.layers.experimental.preprocessing.Rescaling(1./255)\n",
    "\n",
    "num_classes = 7\n",
    "\n",
    "cnn = tf.keras.models.Sequential([\n",
    "layers.Conv2D(filters=32, kernel_size=3, activation='relu', input_shape=[48, 48, 3]),\n",
    "layers.MaxPool2D(pool_size=2, strides=2),\n",
    "layers.Conv2D(filters=32, kernel_size=3, activation='relu'),\n",
    "layers.MaxPool2D(pool_size=2, strides=2),\n",
    "layers.Flatten(),\n",
    "layers.Dense(units=128, activation='relu'),\n",
    "layers.Dense(units=7)\n",
    "])\n",
    "\n",
    "cnn.compile(\n",
    "  optimizer='adam',\n",
    "  loss=tf.losses.SparseCategoricalCrossentropy(from_logits=True),\n",
    "  metrics=['accuracy'])\n",
    "\n"
   ]
  },
  {
   "cell_type": "code",
   "execution_count": 25,
   "metadata": {
    "scrolled": false
   },
   "outputs": [
    {
     "name": "stdout",
     "output_type": "stream",
     "text": [
      "<PrefetchDataset shapes: ((None, 48, 48, 3), (None,)), types: (tf.float32, tf.int64)>\n",
      "Epoch 1/3\n",
      "898/898 [==============================] - 21s 23ms/step - loss: 1.5855 - accuracy: 0.3829 - val_loss: 1.4168 - val_accuracy: 0.4519\n",
      "Epoch 2/3\n",
      "898/898 [==============================] - 22s 24ms/step - loss: 1.3591 - accuracy: 0.4801 - val_loss: 1.3761 - val_accuracy: 0.4720\n",
      "Epoch 3/3\n",
      "898/898 [==============================] - 21s 24ms/step - loss: 1.2536 - accuracy: 0.5248 - val_loss: 1.3080 - val_accuracy: 0.4960\n"
     ]
    }
   ],
   "source": [
    "print(train_ds)\n",
    "try:\n",
    "    cnn.fit(train_ds, validation_data = val_ds, epochs = 3)\n",
    "except ValueError:\n",
    "    print(train_ds)"
   ]
  },
  {
   "cell_type": "code",
   "execution_count": 26,
   "metadata": {},
   "outputs": [
    {
     "data": {
      "text/plain": [
       "\"\\ntrænings kode som ikke skal bruges\\n\\nmodel = tf.keras.Sequential([\\n  layers.experimental.preprocessing.Rescaling(1./255),\\n  layers.Conv2D(32, 3, activation='relu'),\\n  layers.MaxPooling2D(),\\n  layers.Conv2D(32, 3, activation='relu'),\\n  layers.MaxPooling2D(),\\n  layers.Conv2D(32, 3, activation='relu'),\\n  layers.MaxPooling2D(),\\n  layers.Flatten(),\\n  layers.Dense(128, activation='relu'),\\n  layers.Dense(num_classes)\\n])\\nge_batch,\\nmodel.compile(\\n  optimizer='adam',\\n  loss=tf.losses.SparseCategoricalCrossentropy(from_logits=True),\\n  metrics=['accuracy'])\\n\\nmodel.fit(\\n  train_ds,\\n  validation_data=val_ds,\\n  epochs=3\\n)\\n\""
      ]
     },
     "execution_count": 26,
     "metadata": {},
     "output_type": "execute_result"
    }
   ],
   "source": [
    "'''\n",
    "trænings kode som ikke skal bruges\n",
    "\n",
    "model = tf.keras.Sequential([\n",
    "  layers.experimental.preprocessing.Rescaling(1./255),\n",
    "  layers.Conv2D(32, 3, activation='relu'),\n",
    "  layers.MaxPooling2D(),\n",
    "  layers.Conv2D(32, 3, activation='relu'),\n",
    "  layers.MaxPooling2D(),\n",
    "  layers.Conv2D(32, 3, activation='relu'),\n",
    "  layers.MaxPooling2D(),\n",
    "  layers.Flatten(),\n",
    "  layers.Dense(128, activation='relu'),\n",
    "  layers.Dense(num_classes)\n",
    "])\n",
    "ge_batch,\n",
    "model.compile(\n",
    "  optimizer='adam',\n",
    "  loss=tf.losses.SparseCategoricalCrossentropy(from_logits=True),\n",
    "  metrics=['accuracy'])\n",
    "\n",
    "model.fit(\n",
    "  train_ds,\n",
    "  validation_data=val_ds,\n",
    "  epochs=3\n",
    ")\n",
    "'''"
   ]
  },
  {
   "cell_type": "code",
   "execution_count": null,
   "metadata": {},
   "outputs": [],
   "source": []
  },
  {
   "cell_type": "code",
   "execution_count": null,
   "metadata": {},
   "outputs": [],
   "source": []
  },
  {
   "cell_type": "code",
   "execution_count": null,
   "metadata": {},
   "outputs": [],
   "source": []
  },
  {
   "cell_type": "code",
   "execution_count": null,
   "metadata": {},
   "outputs": [],
   "source": []
  },
  {
   "cell_type": "code",
   "execution_count": null,
   "metadata": {},
   "outputs": [],
   "source": []
  }
 ],
 "metadata": {
  "kernelspec": {
   "display_name": "Python 3",
   "language": "python",
   "name": "python3"
  },
  "language_info": {
   "codemirror_mode": {
    "name": "ipython",
    "version": 3
   },
   "file_extension": ".py",
   "mimetype": "text/x-python",
   "name": "python",
   "nbconvert_exporter": "python",
   "pygments_lexer": "ipython3",
   "version": "3.8.5"
  }
 },
 "nbformat": 4,
 "nbformat_minor": 4
}
