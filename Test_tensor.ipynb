{
 "cells": [
  {
   "cell_type": "code",
   "execution_count": 1,
   "metadata": {},
   "outputs": [
    {
     "name": "stderr",
     "output_type": "stream",
     "text": [
      "C:\\Users\\tobia\\anaconda3\\envs\\gpu_test\\lib\\site-packages\\tensorflow_addons\\utils\\ensure_tf_install.py:38: UserWarning: You are currently using a nightly version of TensorFlow (2.5.0-dev20201205). \n",
      "TensorFlow Addons offers no support for the nightly versions of TensorFlow. Some things might work, some other might not. \n",
      "If you encounter a bug, do not file an issue on GitHub.\n",
      "  warnings.warn(\n"
     ]
    }
   ],
   "source": [
    "import numpy as np\n",
    "import os\n",
    "import PIL\n",
    "import PIL.Image\n",
    "import tensorflow as tf\n",
    "import matplotlib.pyplot as plt\n",
    "import random\n",
    "from tensorflow import keras\n",
    "import tensorflow_addons as tfa\n",
    "import time\n",
    "\n"
   ]
  },
  {
   "cell_type": "code",
   "execution_count": 2,
   "metadata": {},
   "outputs": [
    {
     "name": "stdout",
     "output_type": "stream",
     "text": [
      "Num GPUs Available:  1\n"
     ]
    }
   ],
   "source": [
    "#Kode til at kører på gpu\n",
    "print(\"Num GPUs Available: \", len(tf.config.experimental.list_physical_devices('GPU')))\n",
    "\n",
    "physical_devices = tf.config.experimental.list_physical_devices('GPU')\n",
    "if len(physical_devices) > 0:\n",
    "    tf.config.experimental.set_memory_growth(physical_devices[0], True)"
   ]
  },
  {
   "cell_type": "code",
   "execution_count": 3,
   "metadata": {},
   "outputs": [
    {
     "data": {
      "text/plain": [
       "pathlib.WindowsPath"
      ]
     },
     "execution_count": 3,
     "metadata": {},
     "output_type": "execute_result"
    }
   ],
   "source": [
    "#Finder datasættets placering\n",
    "import pathlib\n",
    "data = r\"C:\\Users\\tobia\\Samlet CNN\\data\"\n",
    "data_dir = pathlib.Path(data)\n",
    "type(data_dir)\n"
   ]
  },
  {
   "cell_type": "code",
   "execution_count": 4,
   "metadata": {},
   "outputs": [
    {
     "name": "stdout",
     "output_type": "stream",
     "text": [
      "35886\n"
     ]
    }
   ],
   "source": [
    "#Kontrollere om der ligger billeder på placer\n",
    "image_count = len(list(data_dir.glob('*/*/*.png')))\n",
    "print(image_count)"
   ]
  },
  {
   "cell_type": "code",
   "execution_count": 5,
   "metadata": {},
   "outputs": [
    {
     "name": "stdout",
     "output_type": "stream",
     "text": [
      "28708\n",
      "3589\n"
     ]
    },
    {
     "data": {
      "text/plain": [
       "tensorflow.python.data.ops.dataset_ops.ShuffleDataset"
      ]
     },
     "execution_count": 5,
     "metadata": {},
     "output_type": "execute_result"
    }
   ],
   "source": [
    "#Laver et tensorflow dataset med stier til vores data, for både vores trænnings- og validerings data\n",
    "#Train\n",
    "train_ds = tf.data.Dataset.list_files(str(data_dir/'train/*/*'), shuffle=False)\n",
    "train_ds = train_ds.shuffle(image_count, reshuffle_each_iteration=False)\n",
    "#Val\n",
    "val_ds = tf.data.Dataset.list_files(str(data_dir/'val/*/*'), shuffle=False)\n",
    "val_ds = val_ds.shuffle(image_count, reshuffle_each_iteration=False)\n",
    "\n",
    "print(tf.data.experimental.cardinality(train_ds).numpy())\n",
    "print(tf.data.experimental.cardinality(val_ds).numpy())\n",
    "type(train_ds)"
   ]
  },
  {
   "cell_type": "code",
   "execution_count": 6,
   "metadata": {},
   "outputs": [
    {
     "name": "stdout",
     "output_type": "stream",
     "text": [
      "b'C:\\\\Users\\\\tobia\\\\Samlet CNN\\\\data\\\\train\\\\Fear\\\\18622.png'\n",
      "b'C:\\\\Users\\\\tobia\\\\Samlet CNN\\\\data\\\\train\\\\Angry\\\\9675.png'\n",
      "b'C:\\\\Users\\\\tobia\\\\Samlet CNN\\\\data\\\\train\\\\Happy\\\\2706.png'\n",
      "b'C:\\\\Users\\\\tobia\\\\Samlet CNN\\\\data\\\\train\\\\Happy\\\\22942.png'\n",
      "b'C:\\\\Users\\\\tobia\\\\Samlet CNN\\\\data\\\\train\\\\Sad\\\\1612.png'\n"
     ]
    }
   ],
   "source": [
    "#Ser om vi data'en er importeret korrekt\n",
    "for f in train_ds.take(5):\n",
    "    print(f.numpy())"
   ]
  },
  {
   "cell_type": "code",
   "execution_count": 7,
   "metadata": {},
   "outputs": [
    {
     "name": "stdout",
     "output_type": "stream",
     "text": [
      "['Angry' 'Disgust' 'Fear' 'Happy' 'Neutral' 'Sad' 'Surprise']\n"
     ]
    }
   ],
   "source": [
    "#Laver en liste over de forskellige kategorier\n",
    "class_names = np.array(sorted([item.name for item in data_dir.glob('train/*')]))\n",
    "print(class_names)"
   ]
  },
  {
   "cell_type": "code",
   "execution_count": 8,
   "metadata": {},
   "outputs": [],
   "source": [
    "batch_size = 64\n",
    "img_height = 48\n",
    "img_width = 48"
   ]
  },
  {
   "cell_type": "code",
   "execution_count": 9,
   "metadata": {},
   "outputs": [],
   "source": [
    "#Viser et billede før og efter augmentation\n",
    "def visualize(original, augmented):\n",
    "    fig = plt.figure()\n",
    "    plt.subplot(1,2,1)\n",
    "    plt.title('Original image')\n",
    "    plt.imshow(original.numpy().astype(\"uint8\"),cmap='gray')\n",
    "\n",
    "    plt.subplot(1,2,2)\n",
    "    plt.title('Augmented image')\n",
    "    plt.imshow(augmented.numpy().astype(\"uint8\"),cmap='gray')"
   ]
  },
  {
   "cell_type": "code",
   "execution_count": 10,
   "metadata": {},
   "outputs": [],
   "source": [
    "def get_label(file_path):\n",
    "  #Splitter en sti ved brug af en 'path seperator'. Laver en liste af 'path components'\n",
    "  parts = tf.strings.split(file_path, os.path.sep)\n",
    "  #Tager den næst sidste i vores liste som svarer til vores klasses fil placeringen\n",
    "  one_hot = parts[-2] == class_names\n",
    "  #Integer encode the label\n",
    "  return tf.argmax(one_hot)"
   ]
  },
  {
   "cell_type": "code",
   "execution_count": 11,
   "metadata": {},
   "outputs": [],
   "source": [
    "def decode_img(img):\n",
    "  #Konvertere til uint8 tensor = Defaults to tf.uint8.\n",
    "  img = tf.image.decode_png(img, channels=1)\n",
    "  #Ændre størrelse på vores billede\n",
    "  return tf.image.resize(img, [img_height, img_width])"
   ]
  },
  {
   "cell_type": "code",
   "execution_count": 12,
   "metadata": {},
   "outputs": [],
   "source": [
    "#Denne funktion bruger de to overstående funktioner\n",
    "def process_path(file_path):\n",
    "    label = get_label(file_path)\n",
    "  #Loader vores data\n",
    "    img = tf.io.read_file(file_path)\n",
    "    img = decode_img(img)\n",
    "  #Return billede med et tilhørende label\n",
    "    return img, label"
   ]
  },
  {
   "cell_type": "code",
   "execution_count": 13,
   "metadata": {
    "scrolled": true
   },
   "outputs": [],
   "source": [
    "# Ved brug af .map, så bruges funktionen process_path på alle elementerne i vores datasets.\n",
    "# Load/process billederne parallelt med num_parallel_calls\n",
    "AUTOTUNE = tf.data.experimental.AUTOTUNE\n",
    "train_ds = train_ds.map(process_path, num_parallel_calls=AUTOTUNE)\n",
    "val_ds = val_ds.map(process_path, num_parallel_calls=AUTOTUNE)"
   ]
  },
  {
   "cell_type": "code",
   "execution_count": 14,
   "metadata": {
    "scrolled": false
   },
   "outputs": [
    {
     "name": "stdout",
     "output_type": "stream",
     "text": [
      "Image shape:  (48, 48, 1)\n",
      "Label:  2\n"
     ]
    },
    {
     "data": {
      "image/png": "[encoded data removed]",
      "text/plain": [
       "<Figure size 432x288 with 1 Axes>"
      ]
     },
     "metadata": {
      "needs_background": "light"
     },
     "output_type": "display_data"
    }
   ],
   "source": [
    "#Vis et billede fra træningsdataen med det tilhørende label\n",
    "for image, label in train_ds.take(1):\n",
    "    plt.imshow(image.numpy().astype(\"uint8\"),cmap='gray')\n",
    "    print(\"Image shape: \", image.numpy().shape)\n",
    "    print(\"Label: \", label.numpy())"
   ]
  },
  {
   "cell_type": "code",
   "execution_count": 15,
   "metadata": {},
   "outputs": [],
   "source": [
    "#Her rescaler vi og gør så alle billeder har samme størrelse \n",
    "def resize_and_rescale(image, label):\n",
    "    #image = tf.cast(image, tf.float32)\n",
    "    image = tf.image.resize(image, [img_height, img_width])\n",
    "    #image = (image/ 255.0)\n",
    "    image = tf.image.convert_image_dtype(image, tf.float32) # Cast and normalize the image to [0,1]\n",
    "    return image, label\n"
   ]
  },
  {
   "cell_type": "code",
   "execution_count": 16,
   "metadata": {},
   "outputs": [],
   "source": [
    "def shear(image):\n",
    "    #shear\n",
    "    random_number_shear = random.uniform(-0.3,0.3)\n",
    "    shear = random_number_shear\n",
    "    shear_rotate = shear * -20\n",
    "    image = tfa.image.transform(image, [1.0, shear, shear_rotate, 0.0, 1.0, 0.0, 0.0, 0.0])\n",
    "    return image\n"
   ]
  },
  {
   "cell_type": "code",
   "execution_count": 17,
   "metadata": {},
   "outputs": [],
   "source": [
    "def crop(image):\n",
    "    # Add 6 pixels of padding\n",
    "    image = tf.image.resize_with_crop_or_pad(image, img_height + 6, img_width + 6) \n",
    "    # Random crop back to the original size\n",
    "    image = tf.image.random_crop(image, size=[img_height, img_width, 1])\n",
    "    return image"
   ]
  },
  {
   "cell_type": "code",
   "execution_count": 18,
   "metadata": {},
   "outputs": [],
   "source": [
    "def distortion(image):\n",
    "    #distortion\n",
    "    random_number_distortion = random.uniform(0,5)\n",
    "    noise = tf.random.normal(shape=tf.shape(image), mean=0.0, stddev=random_number_distortion, dtype=tf.float32)\n",
    "    image = tf.add(image, noise)\n",
    "    return image"
   ]
  },
  {
   "cell_type": "code",
   "execution_count": 19,
   "metadata": {},
   "outputs": [],
   "source": [
    "def flip(image):\n",
    "     #Flip    \n",
    "    random_number_flip = random.uniform(0,2)\n",
    "    if random_number_flip > 1:\n",
    "        image = tf.image.flip_left_right(image)\n",
    "    return image"
   ]
  },
  {
   "cell_type": "code",
   "execution_count": 20,
   "metadata": {},
   "outputs": [],
   "source": [
    "def brightness(image):\n",
    "    image = tf.image.random_brightness(image, max_delta=0.5) \n",
    "    return image"
   ]
  },
  {
   "cell_type": "code",
   "execution_count": 21,
   "metadata": {},
   "outputs": [],
   "source": [
    "#kode hvor alt augment sker\n",
    "def augment(image,label):\n",
    "    image = shear(image)\n",
    "    image = flip(image)\n",
    "    image = brightness(image)\n",
    "    image = distortion(image)\n",
    "    image = crop(image)\n",
    "    return image, label"
   ]
  },
  {
   "cell_type": "code",
   "execution_count": 22,
   "metadata": {},
   "outputs": [
    {
     "name": "stdout",
     "output_type": "stream",
     "text": [
      "<ParallelMapDataset shapes: ((48, 48, 1), ()), types: (tf.float32, tf.int64)>\n",
      "<PrefetchDataset shapes: ((None, 48, 48, 1), (None,)), types: (tf.float32, tf.int64)>\n"
     ]
    }
   ],
   "source": [
    "#Her rescaler og resizer vi vores trænings- og validerings data. Deler dem ind i batches og blander dem\n",
    "print(train_ds)    \n",
    "train_ds = (\n",
    "    train_ds\n",
    "    .shuffle(1000)\n",
    "    .map(resize_and_rescale, num_parallel_calls=AUTOTUNE)\n",
    "    .batch(batch_size)\n",
    "    .prefetch(AUTOTUNE)\n",
    ")    \n",
    "#Gemmer en kopi af train_ds så vi har en ikke augmentered version.\n",
    "orgDataset = train_ds\n",
    "print(train_ds)\n",
    "\n",
    "val_ds = (\n",
    "    val_ds\n",
    "    .map(resize_and_rescale, num_parallel_calls=AUTOTUNE)\n",
    "    .batch(batch_size)\n",
    "    .prefetch(AUTOTUNE)\n",
    ")"
   ]
  },
  {
   "cell_type": "code",
   "execution_count": 23,
   "metadata": {
    "scrolled": true
   },
   "outputs": [
    {
     "data": {
      "image/png": "[encoded data removed]",
      "text/plain": [
       "<Figure size 720x720 with 9 Axes>"
      ]
     },
     "metadata": {
      "needs_background": "light"
     },
     "output_type": "display_data"
    }
   ],
   "source": [
    "image_batch, label_batch = next(iter(train_ds))\n",
    "plt.figure(figsize=(10, 10))\n",
    "for i in range(9):\n",
    "    ax = plt.subplot(3, 3, i + 1)\n",
    "    plt.imshow(image_batch[i].numpy().astype(\"uint8\"),cmap='gray')\n",
    "    label = label_batch[i]\n",
    "    plt.title(class_names[label])\n",
    "    plt.axis(\"off\")\n"
   ]
  },
  {
   "cell_type": "code",
   "execution_count": 24,
   "metadata": {},
   "outputs": [],
   "source": [
    "#Exempler på data augmentation\n",
    "def flipImage(image):\n",
    "    flipped = tf.image.flip_left_right(image)\n",
    "    return flipped\n",
    "def brightnessImage(image):\n",
    "    image = tf.image.adjust_brightness(image,0.5)\n",
    "    return image"
   ]
  },
  {
   "cell_type": "code",
   "execution_count": 25,
   "metadata": {},
   "outputs": [
    {
     "data": {
      "text/plain": [
       "tensorflow.python.framework.ops.EagerTensor"
      ]
     },
     "execution_count": 25,
     "metadata": {},
     "output_type": "execute_result"
    },
    {
     "data": {
      "image/png": "[encoded data removed]",
      "text/plain": [
       "<Figure size 432x288 with 2 Axes>"
      ]
     },
     "metadata": {
      "needs_background": "light"
     },
     "output_type": "display_data"
    }
   ],
   "source": [
    "#Kontrol om vores data augmentation virker\n",
    "image = image_batch[1]\n",
    "flipped = shear(image)\n",
    "visualize(image,flipped)\n",
    "type(image)"
   ]
  },
  {
   "cell_type": "code",
   "execution_count": 26,
   "metadata": {},
   "outputs": [],
   "source": [
    "#I model_checkpoint gemmer vi den bedste val_accuracy vi får under vores træning\n",
    "class CustomCallback(keras.callbacks.Callback):\n",
    "   \n",
    "    def on_epoch_end(self, epoch, logs=None):      \n",
    "        image_batch, label_batch = next(iter(train_ds))\n",
    "        plt.figure(figsize=(10, 10))\n",
    "        for i in range(1):\n",
    "            ax = plt.subplot(2, 2, i + 1)\n",
    "            plt.imshow(image_batch[i].numpy().astype(\"uint8\"),cmap='gray')\n",
    "            label = label_batch[i]\n",
    "            plt.title(class_names[label])\n",
    "            plt.axis(\"off\")\n",
    "            \n",
    "checkpoint_filepath = r'C:\\Users\\tobia\\Samlet CNN\\save models'\n",
    "model_checkpoint_callback = tf.keras.callbacks.ModelCheckpoint(\n",
    "    filepath=checkpoint_filepath,\n",
    "    monitor='val_accuracy',\n",
    "    mode='max',\n",
    "    save_best_only=True)"
   ]
  },
  {
   "cell_type": "code",
   "execution_count": 27,
   "metadata": {},
   "outputs": [],
   "source": [
    "from tensorflow.keras import layers\n",
    "\n",
    "#normalization_layer = tf.keras.layers.experimental.preprocessing.Rescaling(1./255)\n",
    "\n",
    "num_classes = 7\n",
    "cnn = tf.keras.models.Sequential([\n",
    "layers.Conv2D(filters=32, kernel_size=3, activation='relu', input_shape=[48, 48, 1]),\n",
    "layers.MaxPool2D(pool_size=2, strides=2),\n",
    "layers.Conv2D(filters=32, kernel_size=3, activation='relu'),\n",
    "layers.MaxPool2D(pool_size=2, strides=2),\n",
    "layers.Flatten(),\n",
    "layers.Dense(units=128, activation='relu'),\n",
    "layers.Dense(units=7,activation='softmax')\n",
    "])\n",
    "\n",
    "cnn.compile(\n",
    "  optimizer='adam',\n",
    "  loss=tf.losses.SparseCategoricalCrossentropy(from_logits=False),\n",
    "  metrics=['accuracy'])\n",
    "\n"
   ]
  },
  {
   "cell_type": "code",
   "execution_count": 28,
   "metadata": {},
   "outputs": [],
   "source": [
    "#Vi laver vores CNN model og compiler den\n",
    "from tensorflow.keras import layers\n",
    "\n",
    "\n",
    "\n",
    "num_classes = 7\n",
    "model = tf.keras.models.Sequential([\n",
    "layers.experimental.preprocessing.Resizing(48, 48),\n",
    "layers.experimental.preprocessing.Rescaling(1./255),\n",
    "layers.Conv2D(filters=32, kernel_size=3, activation='relu', input_shape=[48, 48, 1]),\n",
    "layers.Conv2D(filters=32, kernel_size=3, activation='relu'),\n",
    "layers.MaxPool2D(pool_size=2, strides=2),\n",
    "layers.Dropout(0.25),\n",
    "layers.Conv2D(filters=64, kernel_size=3, activation='relu'),\n",
    "layers.Conv2D(filters=64, kernel_size=3, activation='relu'),\n",
    "layers.MaxPool2D(pool_size=2, strides=2),\n",
    "layers.Dropout(0.25),\n",
    "layers.Flatten(),\n",
    "layers.Dense(units=256, activation='relu'),\n",
    "layers.Dense(units=7,activation='softmax')\n",
    "])\n",
    "\n",
    "model.compile(\n",
    "  optimizer='adam',\n",
    "  loss=tf.losses.SparseCategoricalCrossentropy(from_logits=False),\n",
    "  metrics=['accuracy'])\n"
   ]
  },
  {
   "cell_type": "code",
   "execution_count": 29,
   "metadata": {},
   "outputs": [],
   "source": [
    "num_classes = 7\n",
    "model = tf.keras.models.Sequential([\n",
    "layers.experimental.preprocessing.Resizing(48, 48,),\n",
    "layers.experimental.preprocessing.Rescaling(1./255),\n",
    "layers.Conv2D(filters=32, kernel_size=3, activation='relu', input_shape=[48, 48, 1]),\n",
    "layers.Conv2D(filters=64, kernel_size=3, activation='relu'),\n",
    "layers.MaxPool2D(pool_size=2, strides=2),\n",
    "layers.Dropout(0.25),\n",
    "layers.Conv2D(filters=128, kernel_size=3, activation='relu'),\n",
    "layers.MaxPool2D(pool_size=2, strides=2),\n",
    "layers.Conv2D(filters=128, kernel_size=3, activation='relu'),\n",
    "layers.MaxPool2D(pool_size=2, strides=2),\n",
    "layers.Dropout(0.25),\n",
    "layers.Flatten(),\n",
    "layers.Dense(units=1024, activation='relu'),\n",
    "layers.Dropout(0.50),\n",
    "layers.Dense(units=7,activation='softmax')\n",
    "])\n",
    "\n",
    "model.compile(\n",
    "  optimizer='adam',\n",
    "  loss=tf.losses.SparseCategoricalCrossentropy(from_logits=False),\n",
    "  metrics=['accuracy'])"
   ]
  },
  {
   "cell_type": "code",
   "execution_count": null,
   "metadata": {},
   "outputs": [],
   "source": []
  },
  {
   "cell_type": "code",
   "execution_count": null,
   "metadata": {},
   "outputs": [
    {
     "name": "stdout",
     "output_type": "stream",
     "text": [
      "1/100\n",
      "449/449 [==============================] - 15s 26ms/step - loss: 1.8044 - accuracy: 0.2476 - val_loss: 1.5125 - val_accuracy: 0.4213\n",
      "2/100\n",
      "449/449 [==============================] - 11s 24ms/step - loss: 1.4942 - accuracy: 0.4172 - val_loss: 1.3242 - val_accuracy: 0.4932\n",
      "3/100\n",
      "449/449 [==============================] - 11s 24ms/step - loss: 1.3614 - accuracy: 0.4774 - val_loss: 1.2732 - val_accuracy: 0.5093\n",
      "4/100\n",
      "449/449 [==============================] - 12s 25ms/step - loss: 1.2966 - accuracy: 0.5040 - val_loss: 1.1993 - val_accuracy: 0.5347\n",
      "5/100\n",
      "449/449 [==============================] - 11s 24ms/step - loss: 1.2591 - accuracy: 0.5175 - val_loss: 1.1877 - val_accuracy: 0.5397\n",
      "6/100\n",
      "449/449 [==============================] - 12s 24ms/step - loss: 1.2045 - accuracy: 0.5423 - val_loss: 1.1530 - val_accuracy: 0.5612\n",
      "7/100\n",
      "449/449 [==============================] - 12s 25ms/step - loss: 1.1761 - accuracy: 0.5518 - val_loss: 1.1139 - val_accuracy: 0.5743\n",
      "8/100\n",
      "449/449 [==============================] - 12s 26ms/step - loss: 1.1938 - accuracy: 0.5424 - val_loss: 1.1051 - val_accuracy: 0.5731\n",
      "9/100\n",
      "449/449 [==============================] - 12s 25ms/step - loss: 1.1811 - accuracy: 0.5540 - val_loss: 1.1429 - val_accuracy: 0.5681\n",
      "10/100\n",
      "449/449 [==============================] - 12s 25ms/step - loss: 1.1387 - accuracy: 0.5670 - val_loss: 1.0823 - val_accuracy: 0.5932\n",
      "11/100\n",
      "449/449 [==============================] - 12s 25ms/step - loss: 1.1272 - accuracy: 0.5711 - val_loss: 1.0905 - val_accuracy: 0.5974\n",
      "12/100\n",
      "449/449 [==============================] - 12s 24ms/step - loss: 1.1283 - accuracy: 0.5710 - val_loss: 1.0850 - val_accuracy: 0.5921\n",
      "13/100\n",
      "449/449 [==============================] - 12s 26ms/step - loss: 1.1342 - accuracy: 0.5722 - val_loss: 1.0532 - val_accuracy: 0.6030\n",
      "14/100\n",
      "449/449 [==============================] - 13s 27ms/step - loss: 1.1427 - accuracy: 0.5657 - val_loss: 1.0805 - val_accuracy: 0.5929\n",
      "15/100\n",
      "449/449 [==============================] - 12s 24ms/step - loss: 1.0945 - accuracy: 0.5835 - val_loss: 1.0560 - val_accuracy: 0.5979\n",
      "16/100\n",
      "449/449 [==============================] - 12s 25ms/step - loss: 1.0964 - accuracy: 0.5886 - val_loss: 1.0717 - val_accuracy: 0.5974\n",
      "17/100\n",
      "449/449 [==============================] - 12s 25ms/step - loss: 1.0961 - accuracy: 0.5863 - val_loss: 1.0783 - val_accuracy: 0.5871\n",
      "18/100\n",
      "449/449 [==============================] - 12s 25ms/step - loss: 1.0491 - accuracy: 0.6018 - val_loss: 1.0335 - val_accuracy: 0.6074\n",
      "19/100\n",
      "449/449 [==============================] - 12s 26ms/step - loss: 1.0572 - accuracy: 0.6005 - val_loss: 1.0712 - val_accuracy: 0.5924\n",
      "20/100\n",
      "449/449 [==============================] - 12s 25ms/step - loss: 1.1163 - accuracy: 0.5761 - val_loss: 1.0374 - val_accuracy: 0.6096\n",
      "21/100\n",
      "449/449 [==============================] - 12s 25ms/step - loss: 1.0789 - accuracy: 0.5876 - val_loss: 1.0489 - val_accuracy: 0.6046\n",
      "22/100\n",
      "449/449 [==============================] - 12s 25ms/step - loss: 1.1020 - accuracy: 0.5784 - val_loss: 1.0679 - val_accuracy: 0.6021\n",
      "23/100\n",
      "449/449 [==============================] - 12s 25ms/step - loss: 1.0813 - accuracy: 0.5896 - val_loss: 1.1104 - val_accuracy: 0.5784\n",
      "24/100\n",
      "449/449 [==============================] - 12s 25ms/step - loss: 1.0530 - accuracy: 0.6022 - val_loss: 1.0754 - val_accuracy: 0.5946\n",
      "25/100\n",
      "449/449 [==============================] - 12s 25ms/step - loss: 1.0263 - accuracy: 0.6134 - val_loss: 1.0568 - val_accuracy: 0.6046\n",
      "26/100\n",
      "449/449 [==============================] - 12s 25ms/step - loss: 1.0712 - accuracy: 0.5907 - val_loss: 1.0206 - val_accuracy: 0.6152\n",
      "27/100\n",
      "449/449 [==============================] - 12s 25ms/step - loss: 1.0090 - accuracy: 0.6177 - val_loss: 1.0273 - val_accuracy: 0.6108\n",
      "28/100\n",
      "449/449 [==============================] - 12s 25ms/step - loss: 1.0428 - accuracy: 0.6048 - val_loss: 1.0228 - val_accuracy: 0.6166\n",
      "29/100\n",
      "449/449 [==============================] - 12s 26ms/step - loss: 0.9996 - accuracy: 0.6207 - val_loss: 1.0115 - val_accuracy: 0.6166\n",
      "30/100\n",
      "449/449 [==============================] - 12s 26ms/step - loss: 0.9916 - accuracy: 0.6256 - val_loss: 1.0302 - val_accuracy: 0.6088\n",
      "31/100\n",
      "449/449 [==============================] - 12s 25ms/step - loss: 1.0791 - accuracy: 0.5890 - val_loss: 1.0245 - val_accuracy: 0.6088\n",
      "32/100\n",
      "449/449 [==============================] - 11s 24ms/step - loss: 1.0664 - accuracy: 0.5978 - val_loss: 1.0174 - val_accuracy: 0.6163\n",
      "33/100\n",
      "449/449 [==============================] - 12s 25ms/step - loss: 1.0076 - accuracy: 0.6219 - val_loss: 1.0214 - val_accuracy: 0.6121\n",
      "34/100\n",
      "449/449 [==============================] - 12s 25ms/step - loss: 0.9943 - accuracy: 0.6237 - val_loss: 1.0478 - val_accuracy: 0.6080\n",
      "35/100\n",
      "449/449 [==============================] - 12s 25ms/step - loss: 1.0394 - accuracy: 0.6077 - val_loss: 1.0401 - val_accuracy: 0.6155\n",
      "36/100\n",
      "449/449 [==============================] - 12s 25ms/step - loss: 0.9838 - accuracy: 0.6292 - val_loss: 1.0115 - val_accuracy: 0.6314\n",
      "37/100\n",
      "449/449 [==============================] - 12s 25ms/step - loss: 1.0473 - accuracy: 0.6020 - val_loss: 1.0128 - val_accuracy: 0.6127\n",
      "38/100\n",
      "449/449 [==============================] - 12s 25ms/step - loss: 1.0286 - accuracy: 0.6122 - val_loss: 1.0185 - val_accuracy: 0.6149\n",
      "39/100\n",
      "449/449 [==============================] - 13s 27ms/step - loss: 1.0115 - accuracy: 0.6179 - val_loss: 0.9978 - val_accuracy: 0.6208\n",
      "40/100\n",
      "449/449 [==============================] - 11s 23ms/step - loss: 1.0176 - accuracy: 0.6161 - val_loss: 1.0415 - val_accuracy: 0.6127\n",
      "41/100\n",
      "449/449 [==============================] - 12s 25ms/step - loss: 1.0516 - accuracy: 0.6027 - val_loss: 1.0010 - val_accuracy: 0.6286\n",
      "42/100\n",
      "449/449 [==============================] - 12s 25ms/step - loss: 0.9703 - accuracy: 0.6318 - val_loss: 0.9892 - val_accuracy: 0.6336\n",
      "43/100\n",
      "449/449 [==============================] - 12s 26ms/step - loss: 1.0572 - accuracy: 0.5999 - val_loss: 1.0185 - val_accuracy: 0.6219\n",
      "44/100\n",
      "449/449 [==============================] - 12s 25ms/step - loss: 0.9935 - accuracy: 0.6244 - val_loss: 1.0050 - val_accuracy: 0.6241\n",
      "45/100\n",
      "449/449 [==============================] - 12s 25ms/step - loss: 0.9824 - accuracy: 0.6310 - val_loss: 0.9990 - val_accuracy: 0.6219\n",
      "46/100\n",
      "449/449 [==============================] - 12s 25ms/step - loss: 0.9733 - accuracy: 0.6314 - val_loss: 1.0242 - val_accuracy: 0.6255\n",
      "47/100\n",
      "449/449 [==============================] - 12s 25ms/step - loss: 1.0078 - accuracy: 0.6183 - val_loss: 1.0027 - val_accuracy: 0.6239\n",
      "48/100\n",
      "449/449 [==============================] - 12s 25ms/step - loss: 1.0310 - accuracy: 0.6103 - val_loss: 1.0291 - val_accuracy: 0.6191\n",
      "49/100\n",
      "449/449 [==============================] - 12s 26ms/step - loss: 1.0040 - accuracy: 0.6213 - val_loss: 1.0022 - val_accuracy: 0.6222\n",
      "50/100\n",
      "449/449 [==============================] - 12s 25ms/step - loss: 0.9513 - accuracy: 0.6416 - val_loss: 1.0019 - val_accuracy: 0.6330\n",
      "51/100\n",
      "449/449 [==============================] - 12s 25ms/step - loss: 1.0200 - accuracy: 0.6153 - val_loss: 1.0214 - val_accuracy: 0.6130\n",
      "52/100\n",
      "449/449 [==============================] - 12s 25ms/step - loss: 0.9764 - accuracy: 0.6299 - val_loss: 0.9898 - val_accuracy: 0.6319\n",
      "53/100\n",
      "449/449 [==============================] - 12s 25ms/step - loss: 1.0134 - accuracy: 0.6166 - val_loss: 1.0222 - val_accuracy: 0.6219\n",
      "54/100\n",
      "449/449 [==============================] - 12s 25ms/step - loss: 0.9857 - accuracy: 0.6277 - val_loss: 1.0323 - val_accuracy: 0.6155\n",
      "55/100\n",
      "449/449 [==============================] - 12s 25ms/step - loss: 0.9378 - accuracy: 0.6448 - val_loss: 0.9957 - val_accuracy: 0.6269\n",
      "56/100\n",
      "449/449 [==============================] - 12s 25ms/step - loss: 0.9904 - accuracy: 0.6249 - val_loss: 1.0067 - val_accuracy: 0.6227\n",
      "57/100\n",
      "449/449 [==============================] - 12s 25ms/step - loss: 1.0048 - accuracy: 0.6203 - val_loss: 1.0287 - val_accuracy: 0.6180\n",
      "58/100\n",
      "449/449 [==============================] - 12s 26ms/step - loss: 0.9734 - accuracy: 0.6310 - val_loss: 1.0220 - val_accuracy: 0.6269\n",
      "59/100\n"
     ]
    },
    {
     "name": "stdout",
     "output_type": "stream",
     "text": [
      "449/449 [==============================] - 13s 27ms/step - loss: 1.0028 - accuracy: 0.6249 - val_loss: 1.0067 - val_accuracy: 0.6305\n",
      "60/100\n",
      "449/449 [==============================] - 12s 25ms/step - loss: 0.9222 - accuracy: 0.6532 - val_loss: 0.9889 - val_accuracy: 0.6230\n",
      "61/100\n",
      "449/449 [==============================] - 12s 25ms/step - loss: 0.9159 - accuracy: 0.6574 - val_loss: 0.9922 - val_accuracy: 0.6305\n",
      "62/100\n",
      "449/449 [==============================] - 12s 25ms/step - loss: 0.9797 - accuracy: 0.6294 - val_loss: 0.9773 - val_accuracy: 0.6367\n",
      "63/100\n",
      "449/449 [==============================] - 12s 25ms/step - loss: 0.9751 - accuracy: 0.6319 - val_loss: 0.9950 - val_accuracy: 0.6361\n",
      "64/100\n",
      "449/449 [==============================] - 13s 28ms/step - loss: 0.9127 - accuracy: 0.6582 - val_loss: 0.9841 - val_accuracy: 0.6378\n",
      "65/100\n",
      "449/449 [==============================] - 12s 25ms/step - loss: 0.9885 - accuracy: 0.6254 - val_loss: 1.0021 - val_accuracy: 0.6227\n",
      "66/100\n",
      "449/449 [==============================] - 12s 25ms/step - loss: 0.9478 - accuracy: 0.6434 - val_loss: 0.9979 - val_accuracy: 0.6286\n",
      "67/100\n",
      "449/449 [==============================] - 12s 25ms/step - loss: 0.9464 - accuracy: 0.6461 - val_loss: 1.0024 - val_accuracy: 0.6239\n",
      "68/100\n",
      "449/449 [==============================] - 13s 27ms/step - loss: 0.9387 - accuracy: 0.6468 - val_loss: 1.0054 - val_accuracy: 0.6216\n",
      "69/100\n",
      "449/449 [==============================] - 13s 27ms/step - loss: 0.9336 - accuracy: 0.6491 - val_loss: 0.9762 - val_accuracy: 0.6356\n",
      "70/100\n",
      "449/449 [==============================] - 12s 27ms/step - loss: 0.9773 - accuracy: 0.6282 - val_loss: 0.9918 - val_accuracy: 0.6303\n",
      "71/100\n",
      "449/449 [==============================] - 12s 26ms/step - loss: 0.9743 - accuracy: 0.6336 - val_loss: 1.0136 - val_accuracy: 0.6261\n",
      "72/100\n",
      "449/449 [==============================] - 12s 25ms/step - loss: 0.9424 - accuracy: 0.6449 - val_loss: 0.9813 - val_accuracy: 0.6403\n",
      "73/100\n",
      "449/449 [==============================] - 12s 25ms/step - loss: 0.9153 - accuracy: 0.6553 - val_loss: 1.0010 - val_accuracy: 0.6395\n",
      "74/100\n",
      "449/449 [==============================] - 12s 25ms/step - loss: 0.9847 - accuracy: 0.6295 - val_loss: 1.0147 - val_accuracy: 0.6278\n",
      "75/100\n",
      "449/449 [==============================] - 12s 25ms/step - loss: 0.9680 - accuracy: 0.6344 - val_loss: 1.0183 - val_accuracy: 0.6252\n",
      "76/100\n",
      "449/449 [==============================] - 13s 27ms/step - loss: 0.9495 - accuracy: 0.6431 - val_loss: 0.9953 - val_accuracy: 0.6322\n",
      "77/100\n",
      "449/449 [==============================] - 12s 26ms/step - loss: 0.9148 - accuracy: 0.6526 - val_loss: 0.9858 - val_accuracy: 0.6395\n",
      "78/100\n",
      "449/449 [==============================] - 12s 26ms/step - loss: 0.9250 - accuracy: 0.6533 - val_loss: 1.0018 - val_accuracy: 0.6317\n",
      "79/100\n",
      "449/449 [==============================] - 12s 26ms/step - loss: 0.9437 - accuracy: 0.6438 - val_loss: 1.0161 - val_accuracy: 0.6333\n",
      "80/100\n",
      "449/449 [==============================] - 13s 27ms/step - loss: 0.9796 - accuracy: 0.6298 - val_loss: 1.0032 - val_accuracy: 0.6325\n",
      "81/100\n",
      "449/449 [==============================] - 12s 26ms/step - loss: 0.9811 - accuracy: 0.6311 - val_loss: 1.0111 - val_accuracy: 0.6297\n",
      "82/100\n",
      "449/449 [==============================] - 12s 27ms/step - loss: 0.9601 - accuracy: 0.6396 - val_loss: 1.0101 - val_accuracy: 0.6339\n",
      "83/100\n",
      "449/449 [==============================] - 13s 27ms/step - loss: 0.8944 - accuracy: 0.6602 - val_loss: 0.9828 - val_accuracy: 0.6367\n",
      "84/100\n",
      "449/449 [==============================] - 13s 28ms/step - loss: 0.9562 - accuracy: 0.6388 - val_loss: 1.0244 - val_accuracy: 0.6236\n",
      "85/100\n",
      "449/449 [==============================] - 14s 30ms/step - loss: 0.9271 - accuracy: 0.6502 - val_loss: 1.0128 - val_accuracy: 0.6328\n",
      "86/100\n",
      "449/449 [==============================] - 13s 27ms/step - loss: 0.9477 - accuracy: 0.6430 - val_loss: 1.0008 - val_accuracy: 0.6369\n",
      "87/100\n",
      "449/449 [==============================] - 13s 29ms/step - loss: 0.9505 - accuracy: 0.6416 - val_loss: 1.0030 - val_accuracy: 0.6347\n",
      "88/100\n",
      "449/449 [==============================] - 14s 30ms/step - loss: 0.9360 - accuracy: 0.6465 - val_loss: 1.0103 - val_accuracy: 0.6369\n",
      "89/100\n",
      "449/449 [==============================] - 11s 22ms/step - loss: 0.9331 - accuracy: 0.6437 - val_loss: 1.0070 - val_accuracy: 0.6428\n",
      "90/100\n",
      "449/449 [==============================] - 11s 24ms/step - loss: 0.9205 - accuracy: 0.6518 - val_loss: 0.9870 - val_accuracy: 0.6400\n",
      "91/100\n",
      "    286/Unknown - 8s 26ms/step - loss: 0.9276 - accuracy: 0.6506"
     ]
    }
   ],
   "source": [
    "#Laver variabler og lister for at kunne visualisere udviklingen\n",
    "n_epoch = 100\n",
    "best_epoch = 0\n",
    "\n",
    "last_25_accuracy = []\n",
    "accuracy = []\n",
    "highest_accuracy = 0\n",
    "\n",
    "last_25_val_accuracy = []\n",
    "val_accuracy = []\n",
    "highest_val_accuracy = 0\n",
    "\n",
    "last_25_loss_ = []\n",
    "loss_ = []\n",
    "lowest_loss_ = 100\n",
    "\n",
    "last_25_val_loss = []\n",
    "val_loss = []\n",
    "lowest_val_loss = 100\n",
    "#callbacks=[model_checkpoint_callback])\n",
    "\n",
    "#Træner vores model i et forloop en epoch af gangen\n",
    "start = time.time()\n",
    "for i in range(n_epoch):\n",
    "    try:\n",
    "        print(f\"{i+1}/{n_epoch}\")\n",
    "        history = model.fit(train_ds, validation_data = val_ds, epochs = 1)\n",
    "        #Vi unbatcher og blander dataen\n",
    "        #Derefter augmenterer vi på vores oprindelige dataset (ikke augmenteret). Batcher igen til sidst.\n",
    "        train_ds = (\n",
    "            orgDataset\n",
    "            .unbatch()\n",
    "            .shuffle(1000)\n",
    "            .map(augment, num_parallel_calls=AUTOTUNE)\n",
    "            .batch(batch_size)\n",
    "            .prefetch(AUTOTUNE)\n",
    "         )\n",
    "        \n",
    "        #if statemen som gemmer de værdier nænvt øvest\n",
    "        if highest_accuracy < history.history['accuracy'][0]:\n",
    "            highest_accuracy = history.history['accuracy'][0]\n",
    "            \n",
    "        if highest_val_accuracy < history.history['val_accuracy'][0]:\n",
    "            highest_val_accuracy = history.history['val_accuracy'][0]\n",
    "            best_epoch = i+1\n",
    "            \n",
    "        if lowest_loss_ > history.history['loss'][0]:\n",
    "            lowest_loss_ = history.history['loss'][0]\n",
    "            \n",
    "        if lowest_val_loss > history.history['val_loss'][0]:\n",
    "            lowest_val_loss = history.history['val_loss'][0]       \n",
    "            \n",
    "            \n",
    "        accuracy.append(history.history['accuracy'])\n",
    "        val_accuracy.append(history.history['val_accuracy'])\n",
    "        loss_.append(history.history['loss'])\n",
    "        val_loss.append(history.history['val_loss'])\n",
    "        \n",
    "        #Gemmer de sidste 25\n",
    "        if i>=75:\n",
    "            last_25_accuracy.append(history.history['accuracy'])\n",
    "            last_25_val_accuracy.append(history.history['val_accuracy'])\n",
    "            last_25_loss_.append(history.history['loss'])\n",
    "            last_25_val_loss.append(history.history['val_loss'])\n",
    "            \n",
    "        #Viser hver 1 billede hver 5. epoch da der er cap på 20\n",
    "        if i%5 == 0:\n",
    "            image_batch, label_batch = next(iter(train_ds))\n",
    "            plt.figure(figsize=(10, 10))\n",
    "            for i in range(1):\n",
    "                ax = plt.subplot(2, 2, i + 1)\n",
    "                plt.imshow(image_batch[i].numpy().astype(\"uint8\"),cmap='gray')\n",
    "                label = label_batch[i]\n",
    "                plt.title(class_names[label])\n",
    "                plt.axis(\"off\")\n",
    "    except ValueError:\n",
    "        print(train_ds)\n",
    "end = time.time()\n",
    "duration = end - start\n",
    "p1 = int(duration % 60)\n",
    "p2 = int(duration / 60)\n",
    "p3 = int(p2 % 60)\n",
    "p2 = int(p2 / 60)\n",
    "print(f\"It took {p2}:{p3}:{p1}\")\n",
    "print(f\"highest_accuracy: {highest_accuracy} highest_val_accuracy (Epoch: {best_epoch}) : {highest_val_accuracy} lowest_loss: {lowest_loss_} lowest_val_loss: {lowest_val_loss}\")"
   ]
  },
  {
   "cell_type": "code",
   "execution_count": null,
   "metadata": {},
   "outputs": [],
   "source": [
    "model.summary()"
   ]
  },
  {
   "cell_type": "code",
   "execution_count": null,
   "metadata": {
    "scrolled": true
   },
   "outputs": [],
   "source": []
  },
  {
   "cell_type": "code",
   "execution_count": null,
   "metadata": {
    "scrolled": true
   },
   "outputs": [],
   "source": [
    "#Plotter de værdi vi gemte i forrige celle\n",
    "#accuracy\n",
    "plt.plot(accuracy)\n",
    "plt.plot(val_accuracy)\n",
    "plt.title('model accuracy')\n",
    "plt.ylabel('Accuracy')\n",
    "plt.xlabel('Epochs')\n",
    "plt.legend(['Train', 'Val'], loc='upper left')\n",
    "plt.savefig('graph1.png')\n",
    "plt.show()\n",
    "\n",
    "#accuracy sidste 25\n",
    "plt.plot(last_25_accuracy)\n",
    "plt.plot(last_25_val_accuracy)\n",
    "plt.title('model accuracy')\n",
    "plt.ylabel('Accuracy')\n",
    "plt.xlabel('Epochs')\n",
    "plt.legend(['Train', 'Val'], loc='upper left')\n",
    "plt.savefig('graph11.png')\n",
    "plt.show()\n",
    "\n",
    "#loss\n",
    "plt.plot(loss_)\n",
    "plt.plot(val_loss)\n",
    "plt.title('Model loss')\n",
    "plt.ylabel('Loss')\n",
    "plt.xlabel('Epoch')\n",
    "plt.legend(['Train', 'Val'], loc='upper left')\n",
    "plt.savefig('graph2.png')\n",
    "plt.show()\n",
    "\n",
    "#loss sidste 25\n",
    "plt.plot(last_25_loss_)\n",
    "plt.plot(last_25_val_loss)\n",
    "plt.title('Model loss')\n",
    "plt.ylabel('Loss')\n",
    "plt.xlabel('Epoch')\n",
    "plt.legend(['Train', 'Val'], loc='upper left')\n",
    "plt.savefig('graph22.png')\n",
    "plt.show()\n"
   ]
  },
  {
   "cell_type": "code",
   "execution_count": null,
   "metadata": {},
   "outputs": [],
   "source": [
    "#Henter et testbillede og gør det gråt\n",
    "import numpy as np\n",
    "from keras.preprocessing import image\n",
    "from PIL import Image, ImageOps \n",
    "test_image = image.load_img(r'C:\\Users\\tobia\\Samlet CNN\\data\\test\\sad\\32869.png', target_size = (48, 48))\n",
    "print(test_image)\n",
    "test_image = ImageOps.grayscale(test_image) \n",
    "plt.imshow(test_image,cmap='gray')\n",
    "\n"
   ]
  },
  {
   "cell_type": "code",
   "execution_count": null,
   "metadata": {},
   "outputs": [],
   "source": [
    "test_image = image.img_to_array(test_image)\n",
    "test_image = np.expand_dims(test_image, axis = 0)\n",
    "result = model.predict(test_image)\n",
    "result = result.tolist()\n",
    "result = result[0]\n",
    "print(result)\n",
    "plt.title('Mood')\n",
    "plt.ylabel('accuracy')\n",
    "plt.bar(class_names, result)\n",
    "plt.savefig('barGraph.png')\n",
    "plt.show()\n"
   ]
  },
  {
   "cell_type": "code",
   "execution_count": null,
   "metadata": {},
   "outputs": [],
   "source": [
    "print(history.history['accuracy'])"
   ]
  },
  {
   "cell_type": "code",
   "execution_count": null,
   "metadata": {},
   "outputs": [],
   "source": [
    "import itertools\n",
    "from sklearn.metrics import classification_report, confusion_matrix, plot_confusion_matrix"
   ]
  },
  {
   "cell_type": "code",
   "execution_count": null,
   "metadata": {},
   "outputs": [],
   "source": [
    "#Test\n",
    "test_ds = tf.data.Dataset.list_files(str(data_dir/'test/*/*'), shuffle=False)\n",
    "test_ds = test_ds.shuffle(image_count, reshuffle_each_iteration=False)\n",
    "print(tf.data.experimental.cardinality(test_ds).numpy())\n",
    "\n",
    "test_ds = test_ds.map(process_path, num_parallel_calls=AUTOTUNE)\n",
    "type(test_ds)\n",
    "\n"
   ]
  },
  {
   "cell_type": "code",
   "execution_count": null,
   "metadata": {},
   "outputs": [],
   "source": []
  },
  {
   "cell_type": "code",
   "execution_count": null,
   "metadata": {},
   "outputs": [],
   "source": [
    "numpy_images= []\n",
    "numpy_labels= []\n",
    "for images, labels in test_ds:  # only take first element of dataset\n",
    "    label = labels.numpy()\n",
    "    numpy_images.append(images.numpy())\n",
    "    numpy_labels.append(label)\n",
    "a = numpy_labels\n",
    "\n",
    "test_ds = (\n",
    "    test_ds\n",
    "    .batch(batch_size)\n",
    "    .prefetch(AUTOTUNE)\n",
    ")\n",
    "\n",
    "pred = model.predict(test_ds)\n",
    "pred = np.argmax(pred, axis=1)\n",
    "conf = confusion_matrix(a, pred)\n"
   ]
  },
  {
   "cell_type": "code",
   "execution_count": null,
   "metadata": {
    "scrolled": true
   },
   "outputs": [],
   "source": [
    "import seaborn as sn\n",
    "import pandas as pd\n",
    "df_cm = pd.DataFrame(conf, index = [i for i in class_names],\n",
    "                  columns = [i for i in class_names])\n",
    "plt.figure(figsize = (7,7))\n",
    "sn.heatmap(df_cm, annot=True, fmt=\"d\")\n",
    "\n"
   ]
  },
  {
   "cell_type": "code",
   "execution_count": null,
   "metadata": {},
   "outputs": [],
   "source": [
    "def predict_and_save_graph():\n",
    "    #imports skal måske være i GUI?\n",
    "    import numpy as np\n",
    "    from keras.preprocessing import image\n",
    "    from PIL import Image, ImageOps\n",
    "\n",
    "    #load den trænede model fra filsti\n",
    "    loaded_model = tf.keras.models.load_model(r'C:\\Users\\tobia\\Samlet CNN\\save models')\n",
    "\n",
    "    #load face.jpg\n",
    "    test_image = image.load_img(r'C:\\Users\\tobia\\Samlet CNN\\data\\test\\sad\\32869.png', target_size = (48, 48))\n",
    "    test_image = ImageOps.grayscale(test_image)\n",
    "    test_image = image.img_to_array(test_image)\n",
    "    test_image = np.expand_dims(test_image, axis = 0)\n",
    "\n",
    "    #predict med loaded_model\n",
    "    result = loaded_model.predict(test_image)\n",
    "    result_emotion = result.argmax(axis=-1)\n",
    "    result = result.tolist()\n",
    "    result = result[0]\n",
    "    print(class_names[result_emotion])\n",
    "    #lav (og gem) søjlediagram med predict results\n",
    "    plt.title('Mood')\n",
    "    plt.ylabel('Accuracy')\n",
    "    plt.bar(class_names, result)\n",
    "    plt.savefig('barGraph.png')\n",
    "    \n",
    "    #Få label på den class med højest probability????????? argmax returns position af højeste value.\n",
    "    #Bruges måske med class_names\n",
    "    #y_prob = model.predict(x) "
   ]
  },
  {
   "cell_type": "code",
   "execution_count": null,
   "metadata": {},
   "outputs": [],
   "source": [
    "predict_and_save_graph()\n"
   ]
  },
  {
   "cell_type": "code",
   "execution_count": null,
   "metadata": {},
   "outputs": [],
   "source": []
  }
 ],
 "metadata": {
  "kernelspec": {
   "display_name": "Python 3",
   "language": "python",
   "name": "python3"
  },
  "language_info": {
   "codemirror_mode": {
    "name": "ipython",
    "version": 3
   },
   "file_extension": ".py",
   "mimetype": "text/x-python",
   "name": "python",
   "nbconvert_exporter": "python",
   "pygments_lexer": "ipython3",
   "version": "3.8.5"
  }
 },
 "nbformat": 4,
 "nbformat_minor": 4
}
