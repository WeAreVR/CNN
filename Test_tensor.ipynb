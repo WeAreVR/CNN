{
 "cells": [
  {
   "cell_type": "code",
   "execution_count": 1,
   "metadata": {},
   "outputs": [
    {
     "name": "stderr",
     "output_type": "stream",
     "text": [
      "C:\\Users\\tobia\\anaconda3\\envs\\gpu_test\\lib\\site-packages\\tensorflow_addons\\utils\\ensure_tf_install.py:38: UserWarning: You are currently using a nightly version of TensorFlow (2.5.0-dev20201205). \n",
      "TensorFlow Addons offers no support for the nightly versions of TensorFlow. Some things might work, some other might not. \n",
      "If you encounter a bug, do not file an issue on GitHub.\n",
      "  warnings.warn(\n"
     ]
    }
   ],
   "source": [
    "import numpy as np\n",
    "import os\n",
    "import PIL\n",
    "import PIL.Image\n",
    "import tensorflow as tf\n",
    "import matplotlib.pyplot as plt\n",
    "import random\n",
    "from tensorflow import keras\n",
    "import tensorflow_addons as tfa\n",
    "import time\n",
    "from keras import regularizers\n",
    "\n"
   ]
  },
  {
   "cell_type": "code",
   "execution_count": 2,
   "metadata": {},
   "outputs": [
    {
     "name": "stdout",
     "output_type": "stream",
     "text": [
      "Num GPUs Available:  1\n"
     ]
    }
   ],
   "source": [
    "#Kode til at kører på gpu\n",
    "print(\"Num GPUs Available: \", len(tf.config.experimental.list_physical_devices('GPU')))\n",
    "\n",
    "physical_devices = tf.config.experimental.list_physical_devices('GPU')\n",
    "if len(physical_devices) > 0:\n",
    "    tf.config.experimental.set_memory_growth(physical_devices[0], True)"
   ]
  },
  {
   "cell_type": "code",
   "execution_count": 3,
   "metadata": {},
   "outputs": [
    {
     "data": {
      "text/plain": [
       "pathlib.WindowsPath"
      ]
     },
     "execution_count": 3,
     "metadata": {},
     "output_type": "execute_result"
    }
   ],
   "source": [
    "#Finder datasættets placering\n",
    "import pathlib\n",
    "data = r\"C:\\Users\\tobia\\Samlet CNN\\data\"\n",
    "data_dir = pathlib.Path(data)\n",
    "type(data_dir)\n"
   ]
  },
  {
   "cell_type": "code",
   "execution_count": 4,
   "metadata": {},
   "outputs": [
    {
     "name": "stdout",
     "output_type": "stream",
     "text": [
      "35887\n"
     ]
    }
   ],
   "source": [
    "#Kontrollere om der ligger billeder på placer\n",
    "image_count = len(list(data_dir.glob('*/*/*.png')))\n",
    "print(image_count)"
   ]
  },
  {
   "cell_type": "code",
   "execution_count": 5,
   "metadata": {},
   "outputs": [
    {
     "name": "stdout",
     "output_type": "stream",
     "text": [
      "28709\n",
      "3589\n"
     ]
    },
    {
     "data": {
      "text/plain": [
       "tensorflow.python.data.ops.dataset_ops.ShuffleDataset"
      ]
     },
     "execution_count": 5,
     "metadata": {},
     "output_type": "execute_result"
    }
   ],
   "source": [
    "#Laver et tensorflow dataset med stier til vores data, for både vores trænnings- og validerings data\n",
    "#Train\n",
    "train_ds = tf.data.Dataset.list_files(str(data_dir/'train/*/*'), shuffle=False)\n",
    "train_ds = train_ds.shuffle(image_count, reshuffle_each_iteration=False)\n",
    "#Val\n",
    "val_ds = tf.data.Dataset.list_files(str(data_dir/'val/*/*'), shuffle=False)\n",
    "val_ds = val_ds.shuffle(image_count, reshuffle_each_iteration=False)\n",
    "\n",
    "print(tf.data.experimental.cardinality(train_ds).numpy())\n",
    "print(tf.data.experimental.cardinality(val_ds).numpy())\n",
    "type(train_ds)"
   ]
  },
  {
   "cell_type": "code",
   "execution_count": 6,
   "metadata": {},
   "outputs": [
    {
     "name": "stdout",
     "output_type": "stream",
     "text": [
      "b'C:\\\\Users\\\\tobia\\\\Samlet CNN\\\\data\\\\train\\\\Happy\\\\3760.png'\n",
      "b'C:\\\\Users\\\\tobia\\\\Samlet CNN\\\\data\\\\train\\\\Fear\\\\9854.png'\n",
      "b'C:\\\\Users\\\\tobia\\\\Samlet CNN\\\\data\\\\train\\\\Surprise\\\\19424.png'\n",
      "b'C:\\\\Users\\\\tobia\\\\Samlet CNN\\\\data\\\\train\\\\Surprise\\\\17280.png'\n",
      "b'C:\\\\Users\\\\tobia\\\\Samlet CNN\\\\data\\\\train\\\\Surprise\\\\4099.png'\n"
     ]
    }
   ],
   "source": [
    "#Ser om vi data'en er importeret korrekt\n",
    "for f in train_ds.take(5):\n",
    "    print(f.numpy())"
   ]
  },
  {
   "cell_type": "code",
   "execution_count": 7,
   "metadata": {},
   "outputs": [
    {
     "name": "stdout",
     "output_type": "stream",
     "text": [
      "['Angry' 'Disgust' 'Fear' 'Happy' 'Neutral' 'Sad' 'Surprise']\n"
     ]
    }
   ],
   "source": [
    "#Laver en liste over de forskellige kategorier\n",
    "class_names = np.array(sorted([item.name for item in data_dir.glob('train/*')]))\n",
    "print(class_names)"
   ]
  },
  {
   "cell_type": "code",
   "execution_count": 8,
   "metadata": {},
   "outputs": [],
   "source": [
    "batch_size = 64\n",
    "img_height = 48\n",
    "img_width = 48"
   ]
  },
  {
   "cell_type": "code",
   "execution_count": 9,
   "metadata": {},
   "outputs": [],
   "source": [
    "#Viser et billede før og efter augmentation\n",
    "def visualize(original, augmented):\n",
    "    fig = plt.figure()\n",
    "    plt.subplot(1,2,1)\n",
    "    plt.title('Original image')\n",
    "    plt.imshow(original.numpy().astype(\"uint8\"),cmap='gray')\n",
    "\n",
    "    plt.subplot(1,2,2)\n",
    "    plt.title('Augmented image')\n",
    "    plt.imshow(augmented.numpy().astype(\"uint8\"),cmap='gray')"
   ]
  },
  {
   "cell_type": "code",
   "execution_count": 10,
   "metadata": {},
   "outputs": [],
   "source": [
    "def get_label(file_path):\n",
    "  #Splitter en sti ved brug af en 'path seperator'. Laver en liste af 'path components'\n",
    "  parts = tf.strings.split(file_path, os.path.sep)\n",
    "  #Tager den næst sidste i vores liste som svarer til vores klasses fil placeringen\n",
    "  one_hot = parts[-2] == class_names\n",
    "  #Integer encode the label\n",
    "  return tf.argmax(one_hot)"
   ]
  },
  {
   "cell_type": "code",
   "execution_count": 11,
   "metadata": {},
   "outputs": [],
   "source": [
    "def decode_img(img):\n",
    "  #Konvertere til uint8 tensor = Defaults to tf.uint8.\n",
    "  img = tf.image.decode_png(img, channels=1)\n",
    "  #Ændre størrelse på vores billede\n",
    "  return tf.image.resize(img, [img_height, img_width])"
   ]
  },
  {
   "cell_type": "code",
   "execution_count": 12,
   "metadata": {},
   "outputs": [],
   "source": [
    "#Denne funktion bruger de to overstående funktioner\n",
    "def process_path(file_path):\n",
    "    label = get_label(file_path)\n",
    "  #Loader vores data\n",
    "    img = tf.io.read_file(file_path)\n",
    "    img = decode_img(img)\n",
    "  #Return billede med et tilhørende label\n",
    "    return img, label"
   ]
  },
  {
   "cell_type": "code",
   "execution_count": 13,
   "metadata": {
    "scrolled": true
   },
   "outputs": [],
   "source": [
    "# Ved brug af .map, så bruges funktionen process_path på alle elementerne i vores datasets.\n",
    "# Load/process billederne parallelt med num_parallel_calls\n",
    "AUTOTUNE = tf.data.experimental.AUTOTUNE\n",
    "train_ds = train_ds.map(process_path, num_parallel_calls=AUTOTUNE)\n",
    "val_ds = val_ds.map(process_path, num_parallel_calls=AUTOTUNE)"
   ]
  },
  {
   "cell_type": "code",
   "execution_count": 14,
   "metadata": {
    "scrolled": false
   },
   "outputs": [
    {
     "name": "stdout",
     "output_type": "stream",
     "text": [
      "Image shape:  (48, 48, 1)\n",
      "Label:  3\n"
     ]
    },
    {
     "data": {
      "image/png": "[encoded data removed]",
      "text/plain": [
       "<Figure size 432x288 with 1 Axes>"
      ]
     },
     "metadata": {
      "needs_background": "light"
     },
     "output_type": "display_data"
    }
   ],
   "source": [
    "#Vis et billede fra træningsdataen med det tilhørende label\n",
    "for image, label in train_ds.take(1):\n",
    "    plt.imshow(image.numpy().astype(\"uint8\"),cmap='gray')\n",
    "    print(\"Image shape: \", image.numpy().shape)\n",
    "    print(\"Label: \", label.numpy())"
   ]
  },
  {
   "cell_type": "code",
   "execution_count": 15,
   "metadata": {},
   "outputs": [],
   "source": [
    "#Her rescaler vi og gør så alle billeder har samme størrelse \n",
    "def resize_and_rescale(image, label):\n",
    "    #image = tf.cast(image, tf.float32)\n",
    "    image = tf.image.resize(image, [img_height, img_width])\n",
    "    #image = (image/ 255.0)\n",
    "    image = tf.image.convert_image_dtype(image, tf.float32) # Cast and normalize the image to [0,1]\n",
    "    return image, label\n"
   ]
  },
  {
   "cell_type": "code",
   "execution_count": null,
   "metadata": {},
   "outputs": [],
   "source": []
  },
  {
   "cell_type": "code",
   "execution_count": 16,
   "metadata": {},
   "outputs": [],
   "source": [
    "#kode hvor alt augment sker\n",
    "def augment(image,label):\n",
    "    random_number = random.uniform(0.1,0.8)\n",
    "    random_number_flip = random.uniform(0,2)\n",
    "    image, label = resize_and_rescale(image, label)\n",
    "    \n",
    "    # Add 6 pixels of padding\n",
    "    image = tf.image.resize_with_crop_or_pad(image, img_height + 6, img_width + 6) \n",
    "    # Random crop back to the original size\n",
    "    image = tf.image.random_crop(image, size=[img_height, img_width, 1])\n",
    "    \n",
    "    #shear\n",
    "    random_number_shear = random.uniform(-0.3,0.3)\n",
    "    shear = random_number_shear\n",
    "    shear_rotate = shear * -20\n",
    "    image = tfa.image.transform(image, [1.0, shear, shear_rotate, 0.0, 1.0, 0.0, 0.0, 0.0])\n",
    "\n",
    "    #distortion\n",
    "    random_number_distortion = random.uniform(0,5)\n",
    "    noise = tf.random.normal(shape=tf.shape(image), mean=0.0, stddev=random_number_distortion, dtype=tf.float32)\n",
    "    image = tf.add(image, noise)\n",
    "        \n",
    "    #Flip    \n",
    "    if random_number_flip > 1:\n",
    "        image = tf.image.flip_left_right(image)\n",
    "    # Random brightness       \n",
    "    image = tf.image.random_brightness(image, max_delta=0.5) \n",
    "    return image, label"
   ]
  },
  {
   "cell_type": "code",
   "execution_count": 17,
   "metadata": {},
   "outputs": [
    {
     "name": "stdout",
     "output_type": "stream",
     "text": [
      "<ParallelMapDataset shapes: ((48, 48, 1), ()), types: (tf.float32, tf.int64)>\n",
      "<PrefetchDataset shapes: ((None, 48, 48, 1), (None,)), types: (tf.float32, tf.int64)>\n"
     ]
    }
   ],
   "source": [
    "#Her rescaler og resizer vi vores trænings- og validerings data. Deler dem ind i batches og blander dem\n",
    "print(train_ds)    \n",
    "train_ds = (\n",
    "    train_ds\n",
    "    .shuffle(1000)\n",
    "    .map(resize_and_rescale, num_parallel_calls=AUTOTUNE)\n",
    "    .batch(batch_size)\n",
    "    .prefetch(AUTOTUNE)\n",
    ")    \n",
    "#Gemmer en kopi af train_ds så vi har en ikke augmentered version.\n",
    "orgDataset = train_ds\n",
    "print(train_ds)\n",
    "\n",
    "val_ds = (\n",
    "    val_ds\n",
    "    .map(resize_and_rescale, num_parallel_calls=AUTOTUNE)\n",
    "    .batch(batch_size)\n",
    "    .prefetch(AUTOTUNE)\n",
    ")"
   ]
  },
  {
   "cell_type": "code",
   "execution_count": 18,
   "metadata": {
    "scrolled": true
   },
   "outputs": [
    {
     "data": {
      "image/png": "[encoded data removed]",
      "text/plain": [
       "<Figure size 720x720 with 9 Axes>"
      ]
     },
     "metadata": {
      "needs_background": "light"
     },
     "output_type": "display_data"
    }
   ],
   "source": [
    "image_batch, label_batch = next(iter(train_ds))\n",
    "plt.figure(figsize=(10, 10))\n",
    "for i in range(9):\n",
    "    ax = plt.subplot(3, 3, i + 1)\n",
    "    plt.imshow(image_batch[i].numpy().astype(\"uint8\"),cmap='gray')\n",
    "    label = label_batch[i]\n",
    "    plt.title(class_names[label])\n",
    "    plt.axis(\"off\")\n"
   ]
  },
  {
   "cell_type": "code",
   "execution_count": 19,
   "metadata": {},
   "outputs": [],
   "source": [
    "#Exempler på data augmentation\n",
    "def flipImage(image):\n",
    "    flipped = tf.image.flip_left_right(image)\n",
    "    return flipped\n",
    "def brightnessImage(image):\n",
    "    image = tf.image.adjust_brightness(image,0.5)\n",
    "    return image"
   ]
  },
  {
   "cell_type": "code",
   "execution_count": 20,
   "metadata": {},
   "outputs": [
    {
     "data": {
      "text/plain": [
       "tensorflow.python.framework.ops.EagerTensor"
      ]
     },
     "execution_count": 20,
     "metadata": {},
     "output_type": "execute_result"
    },
    {
     "data": {
      "image/png": "[encoded data removed]",
      "text/plain": [
       "<Figure size 432x288 with 2 Axes>"
      ]
     },
     "metadata": {
      "needs_background": "light"
     },
     "output_type": "display_data"
    }
   ],
   "source": [
    "#Kontrol om vores data augmentation virker\n",
    "image = image_batch[1]\n",
    "flipped = flipImage(image)\n",
    "visualize(image,flipped)\n",
    "type(image)"
   ]
  },
  {
   "cell_type": "code",
   "execution_count": 21,
   "metadata": {},
   "outputs": [],
   "source": [
    "#I model_checkpoint gemmer vi den bedste val_accuracy vi får under vores træning\n",
    "class CustomCallback(keras.callbacks.Callback):\n",
    "   \n",
    "    def on_epoch_end(self, epoch, logs=None):      \n",
    "        image_batch, label_batch = next(iter(train_ds))\n",
    "        plt.figure(figsize=(10, 10))\n",
    "        for i in range(1):\n",
    "            ax = plt.subplot(2, 2, i + 1)\n",
    "            plt.imshow(image_batch[i].numpy().astype(\"uint8\"),cmap='gray')\n",
    "            label = label_batch[i]\n",
    "            plt.title(class_names[label])\n",
    "            plt.axis(\"off\")\n",
    "            \n",
    "checkpoint_filepath = r'C:\\Users\\tobia\\Samlet CNN\\save models'\n",
    "model_checkpoint_callback = tf.keras.callbacks.ModelCheckpoint(\n",
    "    filepath=checkpoint_filepath,\n",
    "    monitor='val_accuracy',\n",
    "    mode='max',\n",
    "    save_best_only=True)"
   ]
  },
  {
   "cell_type": "code",
   "execution_count": 22,
   "metadata": {},
   "outputs": [],
   "source": [
    "from tensorflow.keras import layers\n",
    "\n",
    "#normalization_layer = tf.keras.layers.experimental.preprocessing.Rescaling(1./255)\n",
    "\n",
    "num_classes = 7\n",
    "cnn = tf.keras.models.Sequential([\n",
    "layers.Conv2D(filters=32, kernel_size=3, activation='relu', input_shape=[48, 48, 1]),\n",
    "layers.MaxPool2D(pool_size=2, strides=2),\n",
    "layers.Conv2D(filters=32, kernel_size=3, activation='relu'),\n",
    "layers.MaxPool2D(pool_size=2, strides=2),\n",
    "layers.Flatten(),\n",
    "layers.Dense(units=128, activation='relu'),\n",
    "layers.Dense(units=7,activation='softmax')\n",
    "])\n",
    "\n",
    "cnn.compile(\n",
    "  optimizer='adam',\n",
    "  loss=tf.losses.SparseCategoricalCrossentropy(from_logits=False),\n",
    "  metrics=['accuracy'])\n",
    "\n"
   ]
  },
  {
   "cell_type": "code",
   "execution_count": 23,
   "metadata": {},
   "outputs": [],
   "source": [
    "#Vi laver vores CNN model og compiler den\n",
    "from tensorflow.keras import layers\n",
    "\n",
    "\n",
    "\n",
    "num_classes = 7\n",
    "model = tf.keras.models.Sequential([\n",
    "layers.experimental.preprocessing.Resizing(48, 48),\n",
    "layers.experimental.preprocessing.Rescaling(1./255),\n",
    "layers.Conv2D(filters=32, kernel_size=3, activation='relu', input_shape=[48, 48, 1]),\n",
    "layers.Conv2D(filters=32, kernel_size=3, activation='relu'),\n",
    "layers.MaxPool2D(pool_size=2, strides=2),\n",
    "layers.Dropout(0.25),\n",
    "layers.Conv2D(filters=64, kernel_size=3, activation='relu'),\n",
    "layers.Conv2D(filters=64, kernel_size=3, activation='relu'),\n",
    "layers.MaxPool2D(pool_size=2, strides=2),\n",
    "layers.Dropout(0.25),\n",
    "layers.Flatten(),\n",
    "layers.Dense(units=256, activation='relu'),\n",
    "layers.Dense(units=7,activation='softmax')\n",
    "])\n",
    "\n",
    "model.compile(\n",
    "  optimizer='adam',\n",
    "  loss=tf.losses.SparseCategoricalCrossentropy(from_logits=False),\n",
    "  metrics=['accuracy'])\n"
   ]
  },
  {
   "cell_type": "code",
   "execution_count": null,
   "metadata": {},
   "outputs": [],
   "source": []
  },
  {
   "cell_type": "code",
   "execution_count": 24,
   "metadata": {},
   "outputs": [
    {
     "name": "stdout",
     "output_type": "stream",
     "text": [
      "1/1\n",
      "449/449 [==============================] - 13s 21ms/step - loss: 1.7555 - accuracy: 0.2822 - val_loss: 1.4498 - val_accuracy: 0.4469\n",
      "It took 0:0:14\n",
      "highest_accuracy: 0.3387787938117981 highest_val_accuracy (Epoch: 1) : 0.44692113995552063 lowest_loss: 1.6568255424499512 lowest_val_loss: 1.4497770071029663\n"
     ]
    },
    {
     "data": {
      "image/png": "[encoded data removed]",
      "text/plain": [
       "<Figure size 720x720 with 1 Axes>"
      ]
     },
     "metadata": {
      "needs_background": "light"
     },
     "output_type": "display_data"
    }
   ],
   "source": [
    "#Laver variabler og lister for at kunne visualisere udviklingen\n",
    "n_epoch = 1\n",
    "best_epoch = 0\n",
    "\n",
    "last_25_accuracy = []\n",
    "accuracy = []\n",
    "highest_accuracy = 0\n",
    "\n",
    "last_25_val_accuracy = []\n",
    "val_accuracy = []\n",
    "highest_val_accuracy = 0\n",
    "\n",
    "last_25_loss_ = []\n",
    "loss_ = []\n",
    "lowest_loss_ = 100\n",
    "\n",
    "last_25_val_loss = []\n",
    "val_loss = []\n",
    "lowest_val_loss = 100\n",
    "#callbacks=[model_checkpoint_callback])\n",
    "\n",
    "#Træner vores model i et forloop en epoch af gangen\n",
    "start = time.time()\n",
    "for i in range(n_epoch):\n",
    "    try:\n",
    "        print(f\"{i+1}/{n_epoch}\")\n",
    "        history = model.fit(train_ds, validation_data = val_ds, epochs = 1)\n",
    "        #Vi unbatcher og blander dataen\n",
    "        #Derefter augmenterer vi på vores oprindelige dataset (ikke augmenteret). Batcher igen til sidst.\n",
    "        train_ds = (\n",
    "            orgDataset\n",
    "            .unbatch()\n",
    "            .shuffle(1000)\n",
    "            .map(augment, num_parallel_calls=AUTOTUNE)\n",
    "            .batch(batch_size)\n",
    "            .prefetch(AUTOTUNE)\n",
    "         )\n",
    "        \n",
    "        #if statemen som gemmer de værdier nænvt øvest\n",
    "        if highest_accuracy < history.history['accuracy'][0]:\n",
    "            highest_accuracy = history.history['accuracy'][0]\n",
    "            \n",
    "        if highest_val_accuracy < history.history['val_accuracy'][0]:\n",
    "            highest_val_accuracy = history.history['val_accuracy'][0]\n",
    "            best_epoch = i+1\n",
    "            \n",
    "        if lowest_loss_ > history.history['loss'][0]:\n",
    "            lowest_loss_ = history.history['loss'][0]\n",
    "            \n",
    "        if lowest_val_loss > history.history['val_loss'][0]:\n",
    "            lowest_val_loss = history.history['val_loss'][0]       \n",
    "            \n",
    "            \n",
    "        accuracy.append(history.history['accuracy'])\n",
    "        val_accuracy.append(history.history['val_accuracy'])\n",
    "        loss_.append(history.history['loss'])\n",
    "        val_loss.append(history.history['val_loss'])\n",
    "        \n",
    "        #Gemmer de sidste 25\n",
    "        if i>=75:\n",
    "            last_25_accuracy.append(history.history['accuracy'])\n",
    "            last_25_val_accuracy.append(history.history['val_accuracy'])\n",
    "            last_25_loss_.append(history.history['loss'])\n",
    "            last_25_val_loss.append(history.history['val_loss'])\n",
    "            \n",
    "        #Viser hver 1 billede hver 5. epoch da der er cap på 20\n",
    "        if i%5 == 0:\n",
    "            image_batch, label_batch = next(iter(train_ds))\n",
    "            plt.figure(figsize=(10, 10))\n",
    "            for i in range(1):\n",
    "                ax = plt.subplot(2, 2, i + 1)\n",
    "                plt.imshow(image_batch[i].numpy().astype(\"uint8\"),cmap='gray')\n",
    "                label = label_batch[i]\n",
    "                plt.title(class_names[label])\n",
    "                plt.axis(\"off\")\n",
    "    except ValueError:\n",
    "        print(train_ds)\n",
    "end = time.time()\n",
    "duration = end - start\n",
    "p1 = int(duration % 60)\n",
    "p2 = int(duration / 60)\n",
    "p3 = int(p2 % 60)\n",
    "p2 = int(p2 / 60)\n",
    "print(f\"It took {p2}:{p3}:{p1}\")\n",
    "print(f\"highest_accuracy: {highest_accuracy} highest_val_accuracy (Epoch: {best_epoch}) : {highest_val_accuracy} lowest_loss: {lowest_loss_} lowest_val_loss: {lowest_val_loss}\")"
   ]
  },
  {
   "cell_type": "code",
   "execution_count": 25,
   "metadata": {},
   "outputs": [
    {
     "name": "stdout",
     "output_type": "stream",
     "text": [
      "Model: \"sequential_1\"\n",
      "_________________________________________________________________\n",
      "Layer (type)                 Output Shape              Param #   \n",
      "=================================================================\n",
      "resizing (Resizing)          (None, 48, 48, 1)         0         \n",
      "_________________________________________________________________\n",
      "rescaling (Rescaling)        (None, 48, 48, 1)         0         \n",
      "_________________________________________________________________\n",
      "conv2d_2 (Conv2D)            (None, 46, 46, 32)        320       \n",
      "_________________________________________________________________\n",
      "conv2d_3 (Conv2D)            (None, 44, 44, 32)        9248      \n",
      "_________________________________________________________________\n",
      "max_pooling2d_2 (MaxPooling2 (None, 22, 22, 32)        0         \n",
      "_________________________________________________________________\n",
      "dropout (Dropout)            (None, 22, 22, 32)        0         \n",
      "_________________________________________________________________\n",
      "conv2d_4 (Conv2D)            (None, 20, 20, 64)        18496     \n",
      "_________________________________________________________________\n",
      "conv2d_5 (Conv2D)            (None, 18, 18, 64)        36928     \n",
      "_________________________________________________________________\n",
      "max_pooling2d_3 (MaxPooling2 (None, 9, 9, 64)          0         \n",
      "_________________________________________________________________\n",
      "dropout_1 (Dropout)          (None, 9, 9, 64)          0         \n",
      "_________________________________________________________________\n",
      "flatten_1 (Flatten)          (None, 5184)              0         \n",
      "_________________________________________________________________\n",
      "dense_2 (Dense)              (None, 256)               1327360   \n",
      "_________________________________________________________________\n",
      "dense_3 (Dense)              (None, 7)                 1799      \n",
      "=================================================================\n",
      "Total params: 1,394,151\n",
      "Trainable params: 1,394,151\n",
      "Non-trainable params: 0\n",
      "_________________________________________________________________\n"
     ]
    }
   ],
   "source": [
    "model.summary()"
   ]
  },
  {
   "cell_type": "code",
   "execution_count": null,
   "metadata": {
    "scrolled": true
   },
   "outputs": [],
   "source": []
  },
  {
   "cell_type": "code",
   "execution_count": 32,
   "metadata": {
    "scrolled": true
   },
   "outputs": [
    {
     "data": {
      "image/png": "[encoded data removed]",
      "text/plain": [
       "<Figure size 432x288 with 1 Axes>"
      ]
     },
     "metadata": {
      "needs_background": "light"
     },
     "output_type": "display_data"
    },
    {
     "data": {
      "image/png": "[encoded data removed]",
      "text/plain": [
       "<Figure size 432x288 with 1 Axes>"
      ]
     },
     "metadata": {
      "needs_background": "light"
     },
     "output_type": "display_data"
    },
    {
     "data": {
      "image/png": "[encoded data removed]",
      "text/plain": [
       "<Figure size 432x288 with 1 Axes>"
      ]
     },
     "metadata": {
      "needs_background": "light"
     },
     "output_type": "display_data"
    },
    {
     "data": {
      "image/png": "[encoded data removed]",
      "text/plain": [
       "<Figure size 432x288 with 1 Axes>"
      ]
     },
     "metadata": {
      "needs_background": "light"
     },
     "output_type": "display_data"
    }
   ],
   "source": [
    "#Plotter de værdi vi gemte i forrige celle\n",
    "#accuracy\n",
    "plt.plot(accuracy)\n",
    "plt.plot(val_accuracy)\n",
    "plt.title('model accuracy')\n",
    "plt.ylabel('Accuracy')\n",
    "plt.xlabel('Epochs')\n",
    "plt.legend(['Train', 'Val'], loc='upper left')\n",
    "plt.savefig('graph1.png')\n",
    "plt.show()\n",
    "\n",
    "#accuracy sidste 25\n",
    "plt.plot(last_25_accuracy)\n",
    "plt.plot(last_25_val_accuracy)\n",
    "plt.title('model accuracy')\n",
    "plt.ylabel('Accuracy')\n",
    "plt.xlabel('Epochs')\n",
    "plt.legend(['Train', 'Val'], loc='upper left')\n",
    "plt.savefig('graph11.png')\n",
    "plt.show()\n",
    "\n",
    "#loss\n",
    "plt.plot(loss_)\n",
    "plt.plot(val_loss)\n",
    "plt.title('Model loss')\n",
    "plt.ylabel('Loss')\n",
    "plt.xlabel('Epoch')\n",
    "plt.legend(['Train', 'Val'], loc='upper left')\n",
    "plt.savefig('graph2.png')\n",
    "plt.show()\n",
    "\n",
    "#loss sidste 25\n",
    "plt.plot(last_25_loss_)\n",
    "plt.plot(last_25_val_loss)\n",
    "plt.title('Model loss')\n",
    "plt.ylabel('Loss')\n",
    "plt.xlabel('Epoch')\n",
    "plt.legend(['Train', 'Val'], loc='upper left')\n",
    "plt.savefig('graph22.png')\n",
    "plt.show()\n"
   ]
  },
  {
   "cell_type": "code",
   "execution_count": 37,
   "metadata": {},
   "outputs": [
    {
     "name": "stdout",
     "output_type": "stream",
     "text": [
      "<PIL.Image.Image image mode=RGB size=48x48 at 0x29D07BF3430>\n"
     ]
    },
    {
     "data": {
      "text/plain": [
       "<matplotlib.image.AxesImage at 0x29d35d4e940>"
      ]
     },
     "execution_count": 37,
     "metadata": {},
     "output_type": "execute_result"
    },
    {
     "data": {
      "image/png": "[encoded data removed]",
      "text/plain": [
       "<Figure size 432x288 with 1 Axes>"
      ]
     },
     "metadata": {
      "needs_background": "light"
     },
     "output_type": "display_data"
    }
   ],
   "source": [
    "#Henter et testbillede og gør det gråt\n",
    "import numpy as np\n",
    "from keras.preprocessing import image\n",
    "from PIL import Image, ImageOps \n",
    "test_image = image.load_img(r'C:\\Users\\tobia\\Samlet CNN\\data\\test\\sad\\32869.png', target_size = (48, 48))\n",
    "print(test_image)\n",
    "test_image = ImageOps.grayscale(test_image) \n",
    "plt.imshow(test_image,cmap='gray')\n",
    "\n"
   ]
  },
  {
   "cell_type": "code",
   "execution_count": 38,
   "metadata": {},
   "outputs": [
    {
     "name": "stdout",
     "output_type": "stream",
     "text": [
      "[[[[ 65.]\n",
      "   [ 64.]\n",
      "   [ 55.]\n",
      "   ...\n",
      "   [186.]\n",
      "   [113.]\n",
      "   [ 63.]]\n",
      "\n",
      "  [[ 68.]\n",
      "   [ 62.]\n",
      "   [ 52.]\n",
      "   ...\n",
      "   [184.]\n",
      "   [126.]\n",
      "   [ 65.]]\n",
      "\n",
      "  [[ 69.]\n",
      "   [ 59.]\n",
      "   [ 50.]\n",
      "   ...\n",
      "   [187.]\n",
      "   [142.]\n",
      "   [ 74.]]\n",
      "\n",
      "  ...\n",
      "\n",
      "  [[ 82.]\n",
      "   [ 57.]\n",
      "   [ 76.]\n",
      "   ...\n",
      "   [115.]\n",
      "   [176.]\n",
      "   [118.]]\n",
      "\n",
      "  [[114.]\n",
      "   [ 63.]\n",
      "   [ 90.]\n",
      "   ...\n",
      "   [ 70.]\n",
      "   [147.]\n",
      "   [181.]]\n",
      "\n",
      "  [[135.]\n",
      "   [ 87.]\n",
      "   [ 97.]\n",
      "   ...\n",
      "   [ 65.]\n",
      "   [ 21.]\n",
      "   [ 63.]]]]\n",
      "[0.14332491159439087, 0.018070075660943985, 0.0932333841919899, 0.5460756421089172, 0.02255501225590706, 0.07758794724941254, 0.09915303438901901]\n"
     ]
    },
    {
     "data": {
      "image/png": "[encoded data removed]",
      "text/plain": [
       "<Figure size 432x288 with 1 Axes>"
      ]
     },
     "metadata": {
      "needs_background": "light"
     },
     "output_type": "display_data"
    }
   ],
   "source": [
    "test_image = image.img_to_array(test_image)\n",
    "test_image = np.expand_dims(test_image, axis = 0)\n",
    "result = model.predict(test_image)\n",
    "result = result.tolist()\n",
    "result = result[0]\n",
    "print(result)\n",
    "plt.title('Mood')\n",
    "plt.ylabel('accuracy')\n",
    "plt.bar(class_names, result)\n",
    "plt.savefig('barGraph.png')\n",
    "plt.show()\n"
   ]
  },
  {
   "cell_type": "code",
   "execution_count": 29,
   "metadata": {},
   "outputs": [
    {
     "name": "stdout",
     "output_type": "stream",
     "text": [
      "[0.3387787938117981]\n"
     ]
    }
   ],
   "source": [
    "print(history.history['accuracy'])"
   ]
  },
  {
   "cell_type": "code",
   "execution_count": 30,
   "metadata": {},
   "outputs": [],
   "source": [
    "import itertools\n",
    "from sklearn.metrics import confusion_matrix"
   ]
  },
  {
   "cell_type": "code",
   "execution_count": 31,
   "metadata": {},
   "outputs": [
    {
     "name": "stdout",
     "output_type": "stream",
     "text": [
      "<_UnbatchDataset shapes: ((48, 48, 1), ()), types: (tf.float32, tf.int64)>\n",
      "[3 4 3 ... 3 3 3]\n"
     ]
    },
    {
     "name": "stderr",
     "output_type": "stream",
     "text": [
      "C:\\Users\\tobia\\anaconda3\\envs\\gpu_test\\lib\\site-packages\\numpy\\core\\_asarray.py:83: VisibleDeprecationWarning: Creating an ndarray from ragged nested sequences (which is a list-or-tuple of lists-or-tuples-or ndarrays with different lengths or shapes) is deprecated. If you meant to do this, you must specify 'dtype=object' when creating the ndarray\n",
      "  return array(a, dtype, copy=False, order=order)\n"
     ]
    },
    {
     "ename": "ValueError",
     "evalue": "The truth value of an array with more than one element is ambiguous. Use a.any() or a.all()",
     "output_type": "error",
     "traceback": [
      "\u001b[1;31m---------------------------------------------------------------------------\u001b[0m",
      "\u001b[1;31mValueError\u001b[0m                                Traceback (most recent call last)",
      "\u001b[1;32m<ipython-input-31-a78dc1d14944>\u001b[0m in \u001b[0;36m<module>\u001b[1;34m\u001b[0m\n\u001b[0;32m      8\u001b[0m \u001b[0mpred\u001b[0m \u001b[1;33m=\u001b[0m \u001b[0mnp\u001b[0m\u001b[1;33m.\u001b[0m\u001b[0margmax\u001b[0m\u001b[1;33m(\u001b[0m\u001b[0mpred\u001b[0m\u001b[1;33m,\u001b[0m \u001b[0maxis\u001b[0m\u001b[1;33m=\u001b[0m\u001b[1;36m1\u001b[0m\u001b[1;33m)\u001b[0m\u001b[1;33m\u001b[0m\u001b[1;33m\u001b[0m\u001b[0m\n\u001b[0;32m      9\u001b[0m \u001b[0mprint\u001b[0m\u001b[1;33m(\u001b[0m\u001b[0mpred\u001b[0m\u001b[1;33m)\u001b[0m\u001b[1;33m\u001b[0m\u001b[1;33m\u001b[0m\u001b[0m\n\u001b[1;32m---> 10\u001b[1;33m \u001b[0mconf\u001b[0m \u001b[1;33m=\u001b[0m \u001b[0mconfusion_matrix\u001b[0m\u001b[1;33m(\u001b[0m\u001b[0my\u001b[0m\u001b[1;33m,\u001b[0m \u001b[0mpred\u001b[0m\u001b[1;33m)\u001b[0m\u001b[1;33m\u001b[0m\u001b[1;33m\u001b[0m\u001b[0m\n\u001b[0m\u001b[0;32m     11\u001b[0m \u001b[1;33m\u001b[0m\u001b[0m\n\u001b[0;32m     12\u001b[0m \u001b[1;33m\u001b[0m\u001b[0m\n",
      "\u001b[1;32m~\\anaconda3\\envs\\gpu_test\\lib\\site-packages\\sklearn\\utils\\validation.py\u001b[0m in \u001b[0;36minner_f\u001b[1;34m(*args, **kwargs)\u001b[0m\n\u001b[0;32m     70\u001b[0m                           FutureWarning)\n\u001b[0;32m     71\u001b[0m         \u001b[0mkwargs\u001b[0m\u001b[1;33m.\u001b[0m\u001b[0mupdate\u001b[0m\u001b[1;33m(\u001b[0m\u001b[1;33m{\u001b[0m\u001b[0mk\u001b[0m\u001b[1;33m:\u001b[0m \u001b[0marg\u001b[0m \u001b[1;32mfor\u001b[0m \u001b[0mk\u001b[0m\u001b[1;33m,\u001b[0m \u001b[0marg\u001b[0m \u001b[1;32min\u001b[0m \u001b[0mzip\u001b[0m\u001b[1;33m(\u001b[0m\u001b[0msig\u001b[0m\u001b[1;33m.\u001b[0m\u001b[0mparameters\u001b[0m\u001b[1;33m,\u001b[0m \u001b[0margs\u001b[0m\u001b[1;33m)\u001b[0m\u001b[1;33m}\u001b[0m\u001b[1;33m)\u001b[0m\u001b[1;33m\u001b[0m\u001b[1;33m\u001b[0m\u001b[0m\n\u001b[1;32m---> 72\u001b[1;33m         \u001b[1;32mreturn\u001b[0m \u001b[0mf\u001b[0m\u001b[1;33m(\u001b[0m\u001b[1;33m**\u001b[0m\u001b[0mkwargs\u001b[0m\u001b[1;33m)\u001b[0m\u001b[1;33m\u001b[0m\u001b[1;33m\u001b[0m\u001b[0m\n\u001b[0m\u001b[0;32m     73\u001b[0m     \u001b[1;32mreturn\u001b[0m \u001b[0minner_f\u001b[0m\u001b[1;33m\u001b[0m\u001b[1;33m\u001b[0m\u001b[0m\n\u001b[0;32m     74\u001b[0m \u001b[1;33m\u001b[0m\u001b[0m\n",
      "\u001b[1;32m~\\anaconda3\\envs\\gpu_test\\lib\\site-packages\\sklearn\\metrics\\_classification.py\u001b[0m in \u001b[0;36mconfusion_matrix\u001b[1;34m(y_true, y_pred, labels, sample_weight, normalize)\u001b[0m\n\u001b[0;32m    274\u001b[0m \u001b[1;33m\u001b[0m\u001b[0m\n\u001b[0;32m    275\u001b[0m     \"\"\"\n\u001b[1;32m--> 276\u001b[1;33m     \u001b[0my_type\u001b[0m\u001b[1;33m,\u001b[0m \u001b[0my_true\u001b[0m\u001b[1;33m,\u001b[0m \u001b[0my_pred\u001b[0m \u001b[1;33m=\u001b[0m \u001b[0m_check_targets\u001b[0m\u001b[1;33m(\u001b[0m\u001b[0my_true\u001b[0m\u001b[1;33m,\u001b[0m \u001b[0my_pred\u001b[0m\u001b[1;33m)\u001b[0m\u001b[1;33m\u001b[0m\u001b[1;33m\u001b[0m\u001b[0m\n\u001b[0m\u001b[0;32m    277\u001b[0m     \u001b[1;32mif\u001b[0m \u001b[0my_type\u001b[0m \u001b[1;32mnot\u001b[0m \u001b[1;32min\u001b[0m \u001b[1;33m(\u001b[0m\u001b[1;34m\"binary\"\u001b[0m\u001b[1;33m,\u001b[0m \u001b[1;34m\"multiclass\"\u001b[0m\u001b[1;33m)\u001b[0m\u001b[1;33m:\u001b[0m\u001b[1;33m\u001b[0m\u001b[1;33m\u001b[0m\u001b[0m\n\u001b[0;32m    278\u001b[0m         \u001b[1;32mraise\u001b[0m \u001b[0mValueError\u001b[0m\u001b[1;33m(\u001b[0m\u001b[1;34m\"%s is not supported\"\u001b[0m \u001b[1;33m%\u001b[0m \u001b[0my_type\u001b[0m\u001b[1;33m)\u001b[0m\u001b[1;33m\u001b[0m\u001b[1;33m\u001b[0m\u001b[0m\n",
      "\u001b[1;32m~\\anaconda3\\envs\\gpu_test\\lib\\site-packages\\sklearn\\metrics\\_classification.py\u001b[0m in \u001b[0;36m_check_targets\u001b[1;34m(y_true, y_pred)\u001b[0m\n\u001b[0;32m     80\u001b[0m     \"\"\"\n\u001b[0;32m     81\u001b[0m     \u001b[0mcheck_consistent_length\u001b[0m\u001b[1;33m(\u001b[0m\u001b[0my_true\u001b[0m\u001b[1;33m,\u001b[0m \u001b[0my_pred\u001b[0m\u001b[1;33m)\u001b[0m\u001b[1;33m\u001b[0m\u001b[1;33m\u001b[0m\u001b[0m\n\u001b[1;32m---> 82\u001b[1;33m     \u001b[0mtype_true\u001b[0m \u001b[1;33m=\u001b[0m \u001b[0mtype_of_target\u001b[0m\u001b[1;33m(\u001b[0m\u001b[0my_true\u001b[0m\u001b[1;33m)\u001b[0m\u001b[1;33m\u001b[0m\u001b[1;33m\u001b[0m\u001b[0m\n\u001b[0m\u001b[0;32m     83\u001b[0m     \u001b[0mtype_pred\u001b[0m \u001b[1;33m=\u001b[0m \u001b[0mtype_of_target\u001b[0m\u001b[1;33m(\u001b[0m\u001b[0my_pred\u001b[0m\u001b[1;33m)\u001b[0m\u001b[1;33m\u001b[0m\u001b[1;33m\u001b[0m\u001b[0m\n\u001b[0;32m     84\u001b[0m \u001b[1;33m\u001b[0m\u001b[0m\n",
      "\u001b[1;32m~\\anaconda3\\envs\\gpu_test\\lib\\site-packages\\sklearn\\utils\\multiclass.py\u001b[0m in \u001b[0;36mtype_of_target\u001b[1;34m(y)\u001b[0m\n\u001b[0;32m    248\u001b[0m         \u001b[1;32mraise\u001b[0m \u001b[0mValueError\u001b[0m\u001b[1;33m(\u001b[0m\u001b[1;34m\"y cannot be class 'SparseSeries' or 'SparseArray'\"\u001b[0m\u001b[1;33m)\u001b[0m\u001b[1;33m\u001b[0m\u001b[1;33m\u001b[0m\u001b[0m\n\u001b[0;32m    249\u001b[0m \u001b[1;33m\u001b[0m\u001b[0m\n\u001b[1;32m--> 250\u001b[1;33m     \u001b[1;32mif\u001b[0m \u001b[0mis_multilabel\u001b[0m\u001b[1;33m(\u001b[0m\u001b[0my\u001b[0m\u001b[1;33m)\u001b[0m\u001b[1;33m:\u001b[0m\u001b[1;33m\u001b[0m\u001b[1;33m\u001b[0m\u001b[0m\n\u001b[0m\u001b[0;32m    251\u001b[0m         \u001b[1;32mreturn\u001b[0m \u001b[1;34m'multilabel-indicator'\u001b[0m\u001b[1;33m\u001b[0m\u001b[1;33m\u001b[0m\u001b[0m\n\u001b[0;32m    252\u001b[0m \u001b[1;33m\u001b[0m\u001b[0m\n",
      "\u001b[1;32m~\\anaconda3\\envs\\gpu_test\\lib\\site-packages\\sklearn\\utils\\multiclass.py\u001b[0m in \u001b[0;36mis_multilabel\u001b[1;34m(y)\u001b[0m\n\u001b[0;32m    150\u001b[0m                  _is_integral_float(np.unique(y.data))))\n\u001b[0;32m    151\u001b[0m     \u001b[1;32melse\u001b[0m\u001b[1;33m:\u001b[0m\u001b[1;33m\u001b[0m\u001b[1;33m\u001b[0m\u001b[0m\n\u001b[1;32m--> 152\u001b[1;33m         \u001b[0mlabels\u001b[0m \u001b[1;33m=\u001b[0m \u001b[0mnp\u001b[0m\u001b[1;33m.\u001b[0m\u001b[0munique\u001b[0m\u001b[1;33m(\u001b[0m\u001b[0my\u001b[0m\u001b[1;33m)\u001b[0m\u001b[1;33m\u001b[0m\u001b[1;33m\u001b[0m\u001b[0m\n\u001b[0m\u001b[0;32m    153\u001b[0m \u001b[1;33m\u001b[0m\u001b[0m\n\u001b[0;32m    154\u001b[0m         return len(labels) < 3 and (y.dtype.kind in 'biu' or  # bool, int, uint\n",
      "\u001b[1;32m<__array_function__ internals>\u001b[0m in \u001b[0;36munique\u001b[1;34m(*args, **kwargs)\u001b[0m\n",
      "\u001b[1;32m~\\anaconda3\\envs\\gpu_test\\lib\\site-packages\\numpy\\lib\\arraysetops.py\u001b[0m in \u001b[0;36munique\u001b[1;34m(ar, return_index, return_inverse, return_counts, axis)\u001b[0m\n\u001b[0;32m    259\u001b[0m     \u001b[0mar\u001b[0m \u001b[1;33m=\u001b[0m \u001b[0mnp\u001b[0m\u001b[1;33m.\u001b[0m\u001b[0masanyarray\u001b[0m\u001b[1;33m(\u001b[0m\u001b[0mar\u001b[0m\u001b[1;33m)\u001b[0m\u001b[1;33m\u001b[0m\u001b[1;33m\u001b[0m\u001b[0m\n\u001b[0;32m    260\u001b[0m     \u001b[1;32mif\u001b[0m \u001b[0maxis\u001b[0m \u001b[1;32mis\u001b[0m \u001b[1;32mNone\u001b[0m\u001b[1;33m:\u001b[0m\u001b[1;33m\u001b[0m\u001b[1;33m\u001b[0m\u001b[0m\n\u001b[1;32m--> 261\u001b[1;33m         \u001b[0mret\u001b[0m \u001b[1;33m=\u001b[0m \u001b[0m_unique1d\u001b[0m\u001b[1;33m(\u001b[0m\u001b[0mar\u001b[0m\u001b[1;33m,\u001b[0m \u001b[0mreturn_index\u001b[0m\u001b[1;33m,\u001b[0m \u001b[0mreturn_inverse\u001b[0m\u001b[1;33m,\u001b[0m \u001b[0mreturn_counts\u001b[0m\u001b[1;33m)\u001b[0m\u001b[1;33m\u001b[0m\u001b[1;33m\u001b[0m\u001b[0m\n\u001b[0m\u001b[0;32m    262\u001b[0m         \u001b[1;32mreturn\u001b[0m \u001b[0m_unpack_tuple\u001b[0m\u001b[1;33m(\u001b[0m\u001b[0mret\u001b[0m\u001b[1;33m)\u001b[0m\u001b[1;33m\u001b[0m\u001b[1;33m\u001b[0m\u001b[0m\n\u001b[0;32m    263\u001b[0m \u001b[1;33m\u001b[0m\u001b[0m\n",
      "\u001b[1;32m~\\anaconda3\\envs\\gpu_test\\lib\\site-packages\\numpy\\lib\\arraysetops.py\u001b[0m in \u001b[0;36m_unique1d\u001b[1;34m(ar, return_index, return_inverse, return_counts)\u001b[0m\n\u001b[0;32m    320\u001b[0m         \u001b[0maux\u001b[0m \u001b[1;33m=\u001b[0m \u001b[0mar\u001b[0m\u001b[1;33m[\u001b[0m\u001b[0mperm\u001b[0m\u001b[1;33m]\u001b[0m\u001b[1;33m\u001b[0m\u001b[1;33m\u001b[0m\u001b[0m\n\u001b[0;32m    321\u001b[0m     \u001b[1;32melse\u001b[0m\u001b[1;33m:\u001b[0m\u001b[1;33m\u001b[0m\u001b[1;33m\u001b[0m\u001b[0m\n\u001b[1;32m--> 322\u001b[1;33m         \u001b[0mar\u001b[0m\u001b[1;33m.\u001b[0m\u001b[0msort\u001b[0m\u001b[1;33m(\u001b[0m\u001b[1;33m)\u001b[0m\u001b[1;33m\u001b[0m\u001b[1;33m\u001b[0m\u001b[0m\n\u001b[0m\u001b[0;32m    323\u001b[0m         \u001b[0maux\u001b[0m \u001b[1;33m=\u001b[0m \u001b[0mar\u001b[0m\u001b[1;33m\u001b[0m\u001b[1;33m\u001b[0m\u001b[0m\n\u001b[0;32m    324\u001b[0m     \u001b[0mmask\u001b[0m \u001b[1;33m=\u001b[0m \u001b[0mnp\u001b[0m\u001b[1;33m.\u001b[0m\u001b[0mempty\u001b[0m\u001b[1;33m(\u001b[0m\u001b[0maux\u001b[0m\u001b[1;33m.\u001b[0m\u001b[0mshape\u001b[0m\u001b[1;33m,\u001b[0m \u001b[0mdtype\u001b[0m\u001b[1;33m=\u001b[0m\u001b[0mnp\u001b[0m\u001b[1;33m.\u001b[0m\u001b[0mbool_\u001b[0m\u001b[1;33m)\u001b[0m\u001b[1;33m\u001b[0m\u001b[1;33m\u001b[0m\u001b[0m\n",
      "\u001b[1;32m~\\anaconda3\\envs\\gpu_test\\lib\\site-packages\\tensorflow\\python\\framework\\ops.py\u001b[0m in \u001b[0;36m__bool__\u001b[1;34m(self)\u001b[0m\n\u001b[0;32m    990\u001b[0m \u001b[1;33m\u001b[0m\u001b[0m\n\u001b[0;32m    991\u001b[0m   \u001b[1;32mdef\u001b[0m \u001b[0m__bool__\u001b[0m\u001b[1;33m(\u001b[0m\u001b[0mself\u001b[0m\u001b[1;33m)\u001b[0m\u001b[1;33m:\u001b[0m\u001b[1;33m\u001b[0m\u001b[1;33m\u001b[0m\u001b[0m\n\u001b[1;32m--> 992\u001b[1;33m     \u001b[1;32mreturn\u001b[0m \u001b[0mbool\u001b[0m\u001b[1;33m(\u001b[0m\u001b[0mself\u001b[0m\u001b[1;33m.\u001b[0m\u001b[0m_numpy\u001b[0m\u001b[1;33m(\u001b[0m\u001b[1;33m)\u001b[0m\u001b[1;33m)\u001b[0m\u001b[1;33m\u001b[0m\u001b[1;33m\u001b[0m\u001b[0m\n\u001b[0m\u001b[0;32m    993\u001b[0m \u001b[1;33m\u001b[0m\u001b[0m\n\u001b[0;32m    994\u001b[0m   \u001b[0m__nonzero__\u001b[0m \u001b[1;33m=\u001b[0m \u001b[0m__bool__\u001b[0m\u001b[1;33m\u001b[0m\u001b[1;33m\u001b[0m\u001b[0m\n",
      "\u001b[1;31mValueError\u001b[0m: The truth value of an array with more than one element is ambiguous. Use a.any() or a.all()"
     ]
    }
   ],
   "source": [
    "unbatched_val_ds = val_ds.unbatch()\n",
    "print(unbatched_val_ds)\n",
    "y = []\n",
    "for label in unbatched_val_ds:\n",
    "    y.append(label)\n",
    "\n",
    "pred = model.predict(val_ds)\n",
    "pred = np.argmax(pred, axis=1)\n",
    "print(pred)\n",
    "conf = confusion_matrix(y, pred)\n",
    "\n",
    "\n",
    "import seaborn as sns\n",
    "sns.heatmap(conf, annot=True)"
   ]
  },
  {
   "cell_type": "code",
   "execution_count": null,
   "metadata": {},
   "outputs": [],
   "source": []
  }
 ],
 "metadata": {
  "kernelspec": {
   "display_name": "Python 3",
   "language": "python",
   "name": "python3"
  },
  "language_info": {
   "codemirror_mode": {
    "name": "ipython",
    "version": 3
   },
   "file_extension": ".py",
   "mimetype": "text/x-python",
   "name": "python",
   "nbconvert_exporter": "python",
   "pygments_lexer": "ipython3",
   "version": "3.8.5"
  }
 },
 "nbformat": 4,
 "nbformat_minor": 4
}
