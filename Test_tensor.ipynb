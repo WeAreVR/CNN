{
 "cells": [
  {
   "cell_type": "code",
   "execution_count": 1,
   "metadata": {},
   "outputs": [
    {
     "name": "stderr",
     "output_type": "stream",
     "text": [
      "C:\\Users\\tobia\\anaconda3\\envs\\gpu_test\\lib\\site-packages\\tensorflow_addons\\utils\\ensure_tf_install.py:38: UserWarning: You are currently using a nightly version of TensorFlow (2.5.0-dev20201205). \n",
      "TensorFlow Addons offers no support for the nightly versions of TensorFlow. Some things might work, some other might not. \n",
      "If you encounter a bug, do not file an issue on GitHub.\n",
      "  warnings.warn(\n"
     ]
    }
   ],
   "source": [
    "import numpy as np\n",
    "import os\n",
    "import PIL\n",
    "import PIL.Image\n",
    "import tensorflow as tf\n",
    "import matplotlib.pyplot as plt\n",
    "import random\n",
    "from tensorflow import keras\n",
    "import tensorflow_addons as tfa\n",
    "import time"
   ]
  },
  {
   "cell_type": "code",
   "execution_count": 2,
   "metadata": {},
   "outputs": [
    {
     "name": "stdout",
     "output_type": "stream",
     "text": [
      "Num GPUs Available:  1\n"
     ]
    }
   ],
   "source": [
    "import tensorflow as tf\n",
    "print(\"Num GPUs Available: \", len(tf.config.experimental.list_physical_devices('GPU')))\n",
    "\n",
    "physical_devices = tf.config.experimental.list_physical_devices('GPU')\n",
    "if len(physical_devices) > 0:\n",
    "    tf.config.experimental.set_memory_growth(physical_devices[0], True)"
   ]
  },
  {
   "cell_type": "code",
   "execution_count": 3,
   "metadata": {},
   "outputs": [
    {
     "data": {
      "text/plain": [
       "pathlib.WindowsPath"
      ]
     },
     "execution_count": 3,
     "metadata": {},
     "output_type": "execute_result"
    }
   ],
   "source": [
    "import pathlib\n",
    "#https://cdn-144.anonfiles.com/J8c8S3s0p4/935d48c2-1606216539/data.tar.gz\n",
    "data = r\"C:\\Users\\tobia\\Samlet CNN\\data\"\n",
    "data_dir = pathlib.Path(data)\n",
    "type(data_dir)\n"
   ]
  },
  {
   "cell_type": "code",
   "execution_count": 4,
   "metadata": {},
   "outputs": [
    {
     "name": "stdout",
     "output_type": "stream",
     "text": [
      "35886\n"
     ]
    }
   ],
   "source": [
    "image_count = len(list(data_dir.glob('*/*/*.png')))\n",
    "print(image_count)"
   ]
  },
  {
   "cell_type": "code",
   "execution_count": 5,
   "metadata": {},
   "outputs": [
    {
     "name": "stdout",
     "output_type": "stream",
     "text": [
      "28709\n",
      "3589\n"
     ]
    }
   ],
   "source": [
    "#Train\n",
    "train_ds = tf.data.Dataset.list_files(str(data_dir/'train/*/*'), shuffle=False)\n",
    "train_ds = train_ds.shuffle(image_count, reshuffle_each_iteration=False)\n",
    "#Val\n",
    "val_ds = tf.data.Dataset.list_files(str(data_dir/'val/*/*'), shuffle=False)\n",
    "val_ds = val_ds.shuffle(image_count, reshuffle_each_iteration=False)\n",
    "\n",
    "print(tf.data.experimental.cardinality(train_ds).numpy())\n",
    "print(tf.data.experimental.cardinality(val_ds).numpy())\n"
   ]
  },
  {
   "cell_type": "code",
   "execution_count": 6,
   "metadata": {},
   "outputs": [
    {
     "name": "stdout",
     "output_type": "stream",
     "text": [
      "b'C:\\\\Users\\\\tobia\\\\Samlet CNN\\\\data\\\\train\\\\3\\\\5163.png'\n",
      "b'C:\\\\Users\\\\tobia\\\\Samlet CNN\\\\data\\\\train\\\\0\\\\263.png'\n",
      "b'C:\\\\Users\\\\tobia\\\\Samlet CNN\\\\data\\\\train\\\\0\\\\18565.png'\n",
      "b'C:\\\\Users\\\\tobia\\\\Samlet CNN\\\\data\\\\train\\\\2\\\\7048.png'\n",
      "b'C:\\\\Users\\\\tobia\\\\Samlet CNN\\\\data\\\\train\\\\3\\\\9401.png'\n"
     ]
    }
   ],
   "source": [
    "for f in train_ds.take(5):\n",
    "    print(f.numpy())"
   ]
  },
  {
   "cell_type": "code",
   "execution_count": 7,
   "metadata": {},
   "outputs": [
    {
     "name": "stdout",
     "output_type": "stream",
     "text": [
      "['0' '1' '2' '3' '4' '5' '6']\n"
     ]
    }
   ],
   "source": [
    "class_names = np.array(sorted([item.name for item in data_dir.glob('train/*') if item.name != \"LICENSE.txt\"]))\n",
    "print(class_names)"
   ]
  },
  {
   "cell_type": "code",
   "execution_count": 8,
   "metadata": {},
   "outputs": [],
   "source": [
    "batch_size = 32\n",
    "img_height = 48\n",
    "img_width = 48"
   ]
  },
  {
   "cell_type": "code",
   "execution_count": 9,
   "metadata": {},
   "outputs": [],
   "source": [
    "def visualize(original, augmented):\n",
    "    fig = plt.figure()\n",
    "    plt.subplot(1,2,1)\n",
    "    plt.title('Original image')\n",
    "    plt.imshow(original,cmap='gray')\n",
    "\n",
    "    plt.subplot(1,2,2)\n",
    "    plt.title('Augmented image')\n",
    "    plt.imshow(augmented,cmap='gray')"
   ]
  },
  {
   "cell_type": "code",
   "execution_count": 10,
   "metadata": {},
   "outputs": [],
   "source": [
    "def get_label(file_path):\n",
    "  # convert the path to a list of path components\n",
    "  parts = tf.strings.split(file_path, os.path.sep)\n",
    "  # The second to last is the class-directory\n",
    "  one_hot = parts[-2] == class_names\n",
    "  # Integer encode the label\n",
    "  return tf.argmax(one_hot)"
   ]
  },
  {
   "cell_type": "code",
   "execution_count": 11,
   "metadata": {},
   "outputs": [],
   "source": [
    "def decode_img(img):\n",
    "  # convert the compressed string to a 3D uint8 tensor\n",
    "  img = tf.image.decode_png(img, channels=1)\n",
    "  # resize the image to the desired size\n",
    "  return tf.image.resize(img, [img_height, img_width])"
   ]
  },
  {
   "cell_type": "code",
   "execution_count": 12,
   "metadata": {},
   "outputs": [],
   "source": [
    "def process_path(file_path):\n",
    "    label = get_label(file_path)\n",
    "  # load the raw data from the file as a string\n",
    "    img = tf.io.read_file(file_path)\n",
    "    img = decode_img(img)\n",
    "    return img, label"
   ]
  },
  {
   "cell_type": "code",
   "execution_count": 13,
   "metadata": {
    "scrolled": true
   },
   "outputs": [],
   "source": [
    "# Set `num_parallel_calls` so multiple images are loaded/processed in parallel.\n",
    "AUTOTUNE = tf.data.experimental.AUTOTUNE\n",
    "train_ds = train_ds.map(process_path, num_parallel_calls=AUTOTUNE)\n",
    "val_ds = val_ds.map(process_path, num_parallel_calls=AUTOTUNE)"
   ]
  },
  {
   "cell_type": "code",
   "execution_count": 14,
   "metadata": {
    "scrolled": false
   },
   "outputs": [
    {
     "name": "stdout",
     "output_type": "stream",
     "text": [
      "Image shape:  (48, 48, 1)\n",
      "Label:  3\n"
     ]
    },
    {
     "data": {
      "image/png": "[encoded data removed]",
      "text/plain": [
       "<Figure size 432x288 with 1 Axes>"
      ]
     },
     "metadata": {
      "needs_background": "light"
     },
     "output_type": "display_data"
    }
   ],
   "source": [
    "for image, label in train_ds.take(1):\n",
    "    plt.imshow(image.numpy().astype(\"uint8\"),cmap='gray')\n",
    "    print(\"Image shape: \", image.numpy().shape)\n",
    "    print(\"Label: \", label.numpy())"
   ]
  },
  {
   "cell_type": "code",
   "execution_count": 15,
   "metadata": {},
   "outputs": [],
   "source": [
    "def resize_and_rescale(image, label):\n",
    "    #image = tf.cast(image, tf.float32)\n",
    "    image = tf.image.resize(image, [img_height, img_width])\n",
    "    #image = (image/ 255.0)\n",
    "    #image = tf.image.convert_image_dtype(image, tf.float32) # Cast and normalize the image to [0,1]\n",
    "    return image, label\n"
   ]
  },
  {
   "cell_type": "code",
   "execution_count": null,
   "metadata": {},
   "outputs": [],
   "source": []
  },
  {
   "cell_type": "code",
   "execution_count": 16,
   "metadata": {},
   "outputs": [],
   "source": [
    "def augment(image,label):\n",
    "    random_number = random.uniform(0.1,0.8)\n",
    "    random_number_flip = random.uniform(0,2)\n",
    "    image, label = resize_and_rescale(image, label)\n",
    "    # Add 6 pixels of padding\n",
    "    image = tf.image.resize_with_crop_or_pad(image, img_height + 6, img_width + 6) \n",
    "    # Random crop back to the original size\n",
    "    image = tf.image.random_crop(image, size=[img_height, img_width, 1])\n",
    "    image = tf.image.adjust_brightness(image,0.6)\n",
    "    \n",
    "    #shear\n",
    "    random_number_shear = random.uniform(-0.3,0.3)\n",
    "    shear = random_number_shear\n",
    "    shear_rotate = shear * -20\n",
    "    image = tfa.image.transform(image, [1.0, shear, shear_rotate, 0.0, 1.0, 0.0, 0.0, 0.0])\n",
    "\n",
    "    #distortion\n",
    "    random_number_distortion = random.uniform(0,5)\n",
    "    noise = tf.random.normal(shape=tf.shape(image), mean=0.0, stddev=random_number_distortion, dtype=tf.float32)\n",
    "    image = tf.add(image, noise)\n",
    "    \n",
    "    #random erase\n",
    "    \n",
    "        \n",
    "    if random_number_flip > 1:\n",
    "        image = tf.image.flip_left_right(image)\n",
    "    #image = tf.image.random_brightness(image, max_delta=0.5) # Random brightness\n",
    "    #image = tf.clip_by_value(image, 0, 1)\n",
    "    return image, label"
   ]
  },
  {
   "cell_type": "code",
   "execution_count": null,
   "metadata": {},
   "outputs": [],
   "source": []
  },
  {
   "cell_type": "code",
   "execution_count": 17,
   "metadata": {},
   "outputs": [
    {
     "name": "stdout",
     "output_type": "stream",
     "text": [
      "Image shape:  (48, 48, 1)\n",
      "Label:  3\n",
      "<ParallelMapDataset shapes: ((48, 48, 1), ()), types: (tf.float32, tf.int64)>\n",
      "virk!\n",
      "<PrefetchDataset shapes: ((None, 48, 48, 1), (None,)), types: (tf.float32, tf.int64)>\n"
     ]
    },
    {
     "data": {
      "text/plain": [
       "<matplotlib.image.AxesImage at 0x25255e448e0>"
      ]
     },
     "execution_count": 17,
     "metadata": {},
     "output_type": "execute_result"
    },
    {
     "data": {
      "image/png": "[encoded data removed]",
      "text/plain": [
       "<Figure size 432x288 with 1 Axes>"
      ]
     },
     "metadata": {
      "needs_background": "light"
     },
     "output_type": "display_data"
    }
   ],
   "source": [
    "for image, label in train_ds.take(1):\n",
    "    plt.imshow(image.numpy().astype(\"uint8\"),cmap='gray')\n",
    "    print(\"Image shape: \", image.numpy().shape)\n",
    "    print(\"Label: \", label.numpy())\n",
    "    print(train_ds)\n",
    "    \n",
    "train_ds = (\n",
    "    train_ds\n",
    "    .shuffle(1000)\n",
    "    .batch(batch_size)\n",
    "    .prefetch(AUTOTUNE)\n",
    ")    \n",
    "orgDataset = train_ds\n",
    "\n",
    "#.map(augment, num_parallel_calls=AUTOTUNE)\n",
    "print(\"virk!\")\n",
    "print(train_ds)\n",
    "\n",
    "val_ds = (\n",
    "    val_ds\n",
    "    .map(resize_and_rescale, num_parallel_calls=AUTOTUNE)\n",
    "    .batch(batch_size)\n",
    "    .prefetch(AUTOTUNE)\n",
    ")\n",
    "\n",
    "image_batch, label_batch = next(iter(train_ds))\n",
    "plt.imshow(image_batch[1].numpy().astype(\"uint8\"),cmap='gray')\n"
   ]
  },
  {
   "cell_type": "code",
   "execution_count": 18,
   "metadata": {
    "scrolled": true
   },
   "outputs": [
    {
     "data": {
      "image/png": "[encoded data removed]",
      "text/plain": [
       "<Figure size 720x720 with 9 Axes>"
      ]
     },
     "metadata": {
      "needs_background": "light"
     },
     "output_type": "display_data"
    }
   ],
   "source": [
    "image_batch, label_batch = next(iter(train_ds))\n",
    "plt.figure(figsize=(10, 10))\n",
    "for i in range(9):\n",
    "    ax = plt.subplot(3, 3, i + 1)\n",
    "    plt.imshow(image_batch[i].numpy().astype(\"uint8\"),cmap='gray')\n",
    "    label = label_batch[i]\n",
    "    plt.title(class_names[label])\n",
    "    plt.axis(\"off\")\n"
   ]
  },
  {
   "cell_type": "code",
   "execution_count": 19,
   "metadata": {},
   "outputs": [
    {
     "data": {
      "text/plain": [
       "numpy.ndarray"
      ]
     },
     "execution_count": 19,
     "metadata": {},
     "output_type": "execute_result"
    },
    {
     "data": {
      "image/png": "[encoded data removed]",
      "text/plain": [
       "<Figure size 432x288 with 2 Axes>"
      ]
     },
     "metadata": {
      "needs_background": "light"
     },
     "output_type": "display_data"
    }
   ],
   "source": [
    "image = image_batch[1].numpy().astype(\"uint8\")\n",
    "noise = tf.random.normal(shape=tf.shape(image), mean=0.0, stddev=10, dtype=tf.float32)\n",
    "flipped = tf.add(image, noise)\n",
    "visualize(image, flipped)\n",
    "type(image)"
   ]
  },
  {
   "cell_type": "code",
   "execution_count": 20,
   "metadata": {},
   "outputs": [],
   "source": [
    "class CustomCallback(keras.callbacks.Callback):\n",
    "   \n",
    "    def on_epoch_end(self, epoch, logs=None):      \n",
    "        image_batch, label_batch = next(iter(train_ds))\n",
    "        plt.figure(figsize=(10, 10))\n",
    "        for i in range(4):\n",
    "            ax = plt.subplot(2, 2, i + 1)\n",
    "            plt.imshow(image_batch[i].numpy().astype(\"uint8\"),cmap='gray')\n",
    "            label = label_batch[i]\n",
    "            plt.title(class_names[label])\n",
    "            plt.axis(\"off\")"
   ]
  },
  {
   "cell_type": "code",
   "execution_count": 21,
   "metadata": {},
   "outputs": [],
   "source": [
    "def visualize2(original):\n",
    "    fig = plt.figure()\n",
    "    plt.subplot(1,2,1)\n",
    "    plt.title('Original image')\n",
    "    image = colorImage(original)\n",
    "    plt.imshow(image)"
   ]
  },
  {
   "cell_type": "code",
   "execution_count": 22,
   "metadata": {},
   "outputs": [],
   "source": [
    "def flipImage(image):\n",
    "    flipped = tf.image.flip_left_right(image)\n",
    "    \n",
    "def colorImage(image):\n",
    "    image = tf.image.adjust_brightness(image,0.5)\n",
    "    return image"
   ]
  },
  {
   "cell_type": "code",
   "execution_count": 23,
   "metadata": {},
   "outputs": [],
   "source": [
    "from tensorflow.keras import layers\n",
    "\n",
    "normalization_layer = tf.keras.layers.experimental.preprocessing.Rescaling(1./255)\n",
    "\n",
    "num_classes = 7\n",
    "cnn = tf.keras.models.Sequential([\n",
    "layers.Conv2D(filters=32, kernel_size=3, activation='relu', input_shape=[48, 48, 1]),\n",
    "layers.MaxPool2D(pool_size=2, strides=2),\n",
    "layers.Conv2D(filters=32, kernel_size=3, activation='relu'),\n",
    "layers.MaxPool2D(pool_size=2, strides=2),\n",
    "layers.Flatten(),\n",
    "layers.Dense(units=128, activation='relu'),\n",
    "layers.Dense(units=7,activation='softmax')\n",
    "])\n",
    "\n",
    "cnn.compile(\n",
    "  optimizer='adam',\n",
    "  loss=tf.losses.SparseCategoricalCrossentropy(from_logits=False),\n",
    "  metrics=['accuracy'])\n",
    "\n"
   ]
  },
  {
   "cell_type": "code",
   "execution_count": null,
   "metadata": {
    "scrolled": true
   },
   "outputs": [
    {
     "name": "stdout",
     "output_type": "stream",
     "text": [
      "1/100\n",
      "898/898 [==============================] - 12s 10ms/step - loss: 4.9040 - accuracy: 0.2448 - val_loss: 1.8043 - val_accuracy: 0.2580\n",
      "2/100\n",
      "898/898 [==============================] - 9s 9ms/step - loss: 1.7687 - accuracy: 0.2769 - val_loss: 1.7584 - val_accuracy: 0.2825\n",
      "3/100\n",
      "898/898 [==============================] - 8s 9ms/step - loss: 1.7428 - accuracy: 0.2904 - val_loss: 1.7177 - val_accuracy: 0.2984\n",
      "4/100\n",
      "898/898 [==============================] - 8s 9ms/step - loss: 1.7209 - accuracy: 0.3030 - val_loss: 1.6872 - val_accuracy: 0.3305\n",
      "5/100\n",
      "898/898 [==============================] - 8s 9ms/step - loss: 1.6998 - accuracy: 0.3154 - val_loss: 1.7242 - val_accuracy: 0.3057\n",
      "6/100\n",
      "898/898 [==============================] - 10s 10ms/step - loss: 1.6523 - accuracy: 0.3429 - val_loss: 1.5918 - val_accuracy: 0.3722\n",
      "7/100\n",
      "898/898 [==============================] - 9s 9ms/step - loss: 1.6321 - accuracy: 0.3551 - val_loss: 1.5876 - val_accuracy: 0.3745\n",
      "8/100\n",
      "898/898 [==============================] - 10s 11ms/step - loss: 1.5940 - accuracy: 0.3761 - val_loss: 1.5694 - val_accuracy: 0.3853\n",
      "9/100\n",
      "898/898 [==============================] - 9s 9ms/step - loss: 1.5694 - accuracy: 0.3852 - val_loss: 1.4974 - val_accuracy: 0.4174\n",
      "10/100\n",
      "898/898 [==============================] - 8s 9ms/step - loss: 1.5142 - accuracy: 0.4060 - val_loss: 1.4930 - val_accuracy: 0.4177\n",
      "11/100\n",
      "898/898 [==============================] - 9s 9ms/step - loss: 1.4844 - accuracy: 0.4220 - val_loss: 1.4795 - val_accuracy: 0.4210\n",
      "12/100\n",
      "898/898 [==============================] - 9s 9ms/step - loss: 1.4659 - accuracy: 0.4306 - val_loss: 1.4801 - val_accuracy: 0.4257\n",
      "13/100\n",
      "898/898 [==============================] - 9s 9ms/step - loss: 1.4983 - accuracy: 0.4180 - val_loss: 1.4819 - val_accuracy: 0.4296\n",
      "14/100\n",
      "898/898 [==============================] - 9s 9ms/step - loss: 1.4582 - accuracy: 0.4349 - val_loss: 1.4633 - val_accuracy: 0.4374\n",
      "15/100\n",
      "898/898 [==============================] - 9s 10ms/step - loss: 1.4446 - accuracy: 0.4399 - val_loss: 1.4650 - val_accuracy: 0.4266\n",
      "16/100\n",
      "898/898 [==============================] - 10s 11ms/step - loss: 1.5037 - accuracy: 0.4134 - val_loss: 1.4499 - val_accuracy: 0.4466\n",
      "17/100\n",
      "    892/Unknown - 7s 8ms/step - loss: 1.4450 - accuracy: 0.4417"
     ]
    }
   ],
   "source": [
    "n_epoch = 100\n",
    "accuracy = []\n",
    "val_accuracy = []\n",
    "loss_graph = []\n",
    "loss_accuracy = []\n",
    "\n",
    "start = time.time()\n",
    "for i in range(n_epoch):\n",
    "    try:\n",
    "        print(f\"{i+1}/{n_epoch}\")\n",
    "        history = cnn.fit(train_ds, validation_data = val_ds, epochs = 1, callbacks=[CustomCallback()]\n",
    ")\n",
    "        train_ds = (\n",
    "            orgDataset\n",
    "            .unbatch()\n",
    "            .shuffle(1000)\n",
    "            .map(augment, num_parallel_calls=AUTOTUNE)\n",
    "            .batch(batch_size)\n",
    "            .prefetch(AUTOTUNE)\n",
    "         )\n",
    "        accuracy.append(history.history['accuracy'])\n",
    "        val_accuracy.append(history.history['val_accuracy'])\n",
    "        loss_graph.append(history.history['loss'])\n",
    "        loss_accuracy.append(history.history['val_loss'])\n",
    "        \n",
    "    except ValueError:\n",
    "        print(train_ds)\n",
    "end = time.time()\n",
    "duration = end - start\n",
    "p1 = int(duration % 60)\n",
    "p2 = int(duration / 60)\n",
    "p3 = int(p2 % 60)\n",
    "p2 = int(p2 / 60)\n",
    "print(f\"It took {p2}:{p3}:{p1}\")\n"
   ]
  },
  {
   "cell_type": "code",
   "execution_count": null,
   "metadata": {},
   "outputs": [],
   "source": [
    "plt.plot(accuracy)\n",
    "plt.plot(val_accuracy)\n",
    "plt.title('model accuracy')\n",
    "plt.ylabel('Accuracy')\n",
    "plt.xlabel('Epochs')\n",
    "plt.legend(['Train', 'Val'], loc='upper left')\n",
    "plt.show()\n",
    "\n",
    "\n",
    "plt.plot(loss_graph)\n",
    "plt.plot(loss_accuracy)\n",
    "plt.title('Model loss')\n",
    "plt.ylabel('Loss')\n",
    "plt.xlabel('Epoch')\n",
    "plt.legend(['Train', 'Val'], loc='upper left')\n",
    "plt.show()"
   ]
  },
  {
   "cell_type": "code",
   "execution_count": null,
   "metadata": {},
   "outputs": [],
   "source": [
    "import numpy as np\n",
    "from keras.preprocessing import image\n",
    "from PIL import Image, ImageOps \n",
    "test_image = image.load_img(r'C:\\Users\\tobia\\Samlet CNN\\data\\test\\4\\33606.png', target_size = (48, 48))\n",
    "test_image = ImageOps.grayscale(test_image) \n",
    "plt.imshow(test_image,cmap='gray')\n",
    "\n"
   ]
  },
  {
   "cell_type": "code",
   "execution_count": null,
   "metadata": {},
   "outputs": [],
   "source": [
    "test_image = image.img_to_array(test_image)\n",
    "test_image = np.expand_dims(test_image, axis = 0)\n",
    "result = cnn.predict(test_image)\n",
    "result = result.tolist()\n",
    "result = result[0]\n",
    "\n",
    "tal = [1,2,3,4,5,7,6]\n",
    "mood = ['Angry','Disgust','Fear','Happy','Sad','Surprise','Neutral']\n",
    "plt.title('Mood')\n",
    "plt.ylabel('accuracy')\n",
    "plt.bar(mood, result)\n",
    "plt.show()\n"
   ]
  },
  {
   "cell_type": "code",
   "execution_count": null,
   "metadata": {},
   "outputs": [],
   "source": [
    "image_batch, label_batch = next(iter(train_ds))"
   ]
  },
  {
   "cell_type": "code",
   "execution_count": null,
   "metadata": {},
   "outputs": [],
   "source": []
  },
  {
   "cell_type": "code",
   "execution_count": null,
   "metadata": {},
   "outputs": [],
   "source": []
  }
 ],
 "metadata": {
  "kernelspec": {
   "display_name": "Python 3",
   "language": "python",
   "name": "python3"
  },
  "language_info": {
   "codemirror_mode": {
    "name": "ipython",
    "version": 3
   },
   "file_extension": ".py",
   "mimetype": "text/x-python",
   "name": "python",
   "nbconvert_exporter": "python",
   "pygments_lexer": "ipython3",
   "version": "3.8.5"
  }
 },
 "nbformat": 4,
 "nbformat_minor": 4
}
