{
 "cells": [
  {
   "cell_type": "code",
   "execution_count": 1,
   "metadata": {},
   "outputs": [],
   "source": [
    "import numpy as np\n",
    "import os\n",
    "import PIL\n",
    "import PIL.Image\n",
    "import tensorflow as tf\n",
    "import matplotlib.pyplot as plt\n",
    "import random\n",
    "from tensorflow import keras\n",
    "import tensorflow_addons as tfa\n",
    "from scipy import misc\n",
    "import time"
   ]
  },
  {
   "cell_type": "code",
   "execution_count": 2,
   "metadata": {},
   "outputs": [
    {
     "name": "stdout",
     "output_type": "stream",
     "text": [
      "2.3.1\n",
      "Num GPUs: 0\n"
     ]
    }
   ],
   "source": [
    "import tensorflow as tf\n",
    "\n",
    "print(tf.__version__)\n",
    "# importing the tensorflow package\n",
    "tf.test.is_built_with_cuda()\n",
    "physical_devices = tf.config.list_physical_devices('GPU')\n",
    "print(\"Num GPUs:\", len(physical_devices))\n"
   ]
  },
  {
   "cell_type": "code",
   "execution_count": 3,
   "metadata": {},
   "outputs": [
    {
     "data": {
      "text/plain": [
       "pathlib.WindowsPath"
      ]
     },
     "execution_count": 3,
     "metadata": {},
     "output_type": "execute_result"
    }
   ],
   "source": [
    "import pathlib\n",
    "#https://cdn-144.anonfiles.com/J8c8S3s0p4/935d48c2-1606216539/data.tar.gz\n",
    "data = r\"C:\\Users\\tobia\\Samlet CNN\\data\"\n",
    "data_dir = pathlib.Path(data)\n",
    "type(data_dir)\n"
   ]
  },
  {
   "cell_type": "code",
   "execution_count": 4,
   "metadata": {},
   "outputs": [
    {
     "name": "stdout",
     "output_type": "stream",
     "text": [
      "35886\n"
     ]
    }
   ],
   "source": [
    "image_count = len(list(data_dir.glob('*/*/*.png')))\n",
    "print(image_count)"
   ]
  },
  {
   "cell_type": "code",
   "execution_count": 5,
   "metadata": {},
   "outputs": [
    {
     "name": "stdout",
     "output_type": "stream",
     "text": [
      "28709\n",
      "3589\n"
     ]
    }
   ],
   "source": [
    "#Train\n",
    "train_ds = tf.data.Dataset.list_files(str(data_dir/'train/*/*'), shuffle=False)\n",
    "train_ds = train_ds.shuffle(image_count, reshuffle_each_iteration=False)\n",
    "#Val\n",
    "val_ds = tf.data.Dataset.list_files(str(data_dir/'val/*/*'), shuffle=False)\n",
    "val_ds = val_ds.shuffle(image_count, reshuffle_each_iteration=False)\n",
    "\n",
    "print(tf.data.experimental.cardinality(train_ds).numpy())\n",
    "print(tf.data.experimental.cardinality(val_ds).numpy())\n"
   ]
  },
  {
   "cell_type": "code",
   "execution_count": 6,
   "metadata": {},
   "outputs": [
    {
     "name": "stdout",
     "output_type": "stream",
     "text": [
      "b'C:\\\\Users\\\\tobia\\\\Samlet CNN\\\\data\\\\train\\\\6\\\\22020.png'\n",
      "b'C:\\\\Users\\\\tobia\\\\Samlet CNN\\\\data\\\\train\\\\6\\\\13824.png'\n",
      "b'C:\\\\Users\\\\tobia\\\\Samlet CNN\\\\data\\\\train\\\\6\\\\23954.png'\n",
      "b'C:\\\\Users\\\\tobia\\\\Samlet CNN\\\\data\\\\train\\\\4\\\\9433.png'\n",
      "b'C:\\\\Users\\\\tobia\\\\Samlet CNN\\\\data\\\\train\\\\2\\\\579.png'\n"
     ]
    }
   ],
   "source": [
    "for f in train_ds.take(5):\n",
    "    print(f.numpy())"
   ]
  },
  {
   "cell_type": "code",
   "execution_count": 7,
   "metadata": {},
   "outputs": [
    {
     "name": "stdout",
     "output_type": "stream",
     "text": [
      "['0' '1' '2' '3' '4' '5' '6']\n"
     ]
    }
   ],
   "source": [
    "class_names = np.array(sorted([item.name for item in data_dir.glob('train/*') if item.name != \"LICENSE.txt\"]))\n",
    "print(class_names)"
   ]
  },
  {
   "cell_type": "code",
   "execution_count": 8,
   "metadata": {},
   "outputs": [],
   "source": [
    "batch_size = 32\n",
    "img_height = 48\n",
    "img_width = 48"
   ]
  },
  {
   "cell_type": "code",
   "execution_count": 9,
   "metadata": {},
   "outputs": [],
   "source": [
    "def visualize(original, augmented):\n",
    "    fig = plt.figure()\n",
    "    plt.subplot(1,2,1)\n",
    "    plt.title('Original image')\n",
    "    plt.imshow(original,cmap='gray')\n",
    "\n",
    "    plt.subplot(1,2,2)\n",
    "    plt.title('Augmented image')\n",
    "    plt.imshow(augmented,cmap='gray')"
   ]
  },
  {
   "cell_type": "code",
   "execution_count": 10,
   "metadata": {},
   "outputs": [],
   "source": [
    "def get_label(file_path):\n",
    "  # convert the path to a list of path components\n",
    "  parts = tf.strings.split(file_path, os.path.sep)\n",
    "  # The second to last is the class-directory\n",
    "  one_hot = parts[-2] == class_names\n",
    "  # Integer encode the label\n",
    "  return tf.argmax(one_hot)"
   ]
  },
  {
   "cell_type": "code",
   "execution_count": 11,
   "metadata": {},
   "outputs": [],
   "source": [
    "def decode_img(img):\n",
    "  # convert the compressed string to a 3D uint8 tensor\n",
    "  img = tf.image.decode_png(img, channels=1)\n",
    "  # resize the image to the desired size\n",
    "  return tf.image.resize(img, [img_height, img_width])"
   ]
  },
  {
   "cell_type": "code",
   "execution_count": 12,
   "metadata": {},
   "outputs": [],
   "source": [
    "def process_path(file_path):\n",
    "    label = get_label(file_path)\n",
    "  # load the raw data from the file as a string\n",
    "    img = tf.io.read_file(file_path)\n",
    "    img = decode_img(img)\n",
    "    return img, label"
   ]
  },
  {
   "cell_type": "code",
   "execution_count": 13,
   "metadata": {
    "scrolled": true
   },
   "outputs": [],
   "source": [
    "# Set `num_parallel_calls` so multiple images are loaded/processed in parallel.\n",
    "AUTOTUNE = tf.data.experimental.AUTOTUNE\n",
    "train_ds = train_ds.map(process_path, num_parallel_calls=AUTOTUNE)\n",
    "val_ds = val_ds.map(process_path, num_parallel_calls=AUTOTUNE)"
   ]
  },
  {
   "cell_type": "code",
   "execution_count": 14,
   "metadata": {
    "scrolled": false
   },
   "outputs": [
    {
     "name": "stdout",
     "output_type": "stream",
     "text": [
      "Image shape:  (48, 48, 1)\n",
      "Label:  6\n"
     ]
    },
    {
     "data": {
      "image/png": "[encoded data removed]",
      "text/plain": [
       "<Figure size 432x288 with 1 Axes>"
      ]
     },
     "metadata": {
      "needs_background": "light"
     },
     "output_type": "display_data"
    }
   ],
   "source": [
    "for image, label in train_ds.take(1):\n",
    "    plt.imshow(image.numpy().astype(\"uint8\"),cmap='gray')\n",
    "    print(\"Image shape: \", image.numpy().shape)\n",
    "    print(\"Label: \", label.numpy())"
   ]
  },
  {
   "cell_type": "code",
   "execution_count": 15,
   "metadata": {},
   "outputs": [],
   "source": [
    "def resize_and_rescale(image, label):\n",
    "    #image = tf.cast(image, tf.float32)\n",
    "    image = tf.image.resize(image, [img_height, img_width])\n",
    "    #image = (image/ 255.0)\n",
    "    #image = tf.image.convert_image_dtype(image, tf.float32) # Cast and normalize the image to [0,1]\n",
    "    return image, label\n"
   ]
  },
  {
   "cell_type": "code",
   "execution_count": null,
   "metadata": {},
   "outputs": [],
   "source": []
  },
  {
   "cell_type": "code",
   "execution_count": 16,
   "metadata": {},
   "outputs": [],
   "source": [
    "def augment(image,label):\n",
    "    random_number = random.uniform(0.1,0.8)\n",
    "    random_number_flip = random.uniform(0,2)\n",
    "    image, label = resize_and_rescale(image, label)\n",
    "    # Add 6 pixels of padding\n",
    "    image = tf.image.resize_with_crop_or_pad(image, img_height + 6, img_width + 6) \n",
    "    # Random crop back to the original size\n",
    "    image = tf.image.random_crop(image, size=[img_height, img_width, 1])\n",
    "    image = tf.image.adjust_brightness(image,0.6)\n",
    "    \n",
    "    #shear\n",
    "    random_number_shear = random.uniform(-0.3,0.3)\n",
    "    shear = random_number_shear\n",
    "    shear_rotate = shear * -20\n",
    "    image = tfa.image.transform(image, [1.0, shear, shear_rotate, 0.0, 1.0, 0.0, 0.0, 0.0])\n",
    "\n",
    "    #distortion\n",
    "    random_number_distortion = random.uniform(0,5)\n",
    "    noise = tf.random.normal(shape=tf.shape(image), mean=0.0, stddev=random_number_distortion, dtype=tf.float32)\n",
    "    image = tf.add(image, noise)\n",
    "    \n",
    "    #random erase\n",
    "    \n",
    "        \n",
    "    if random_number_flip > 1:\n",
    "        image = tf.image.flip_left_right(image)\n",
    "    #image = tf.image.random_brightness(image, max_delta=0.5) # Random brightness\n",
    "    #image = tf.clip_by_value(image, 0, 1)\n",
    "    return image, label"
   ]
  },
  {
   "cell_type": "code",
   "execution_count": null,
   "metadata": {},
   "outputs": [],
   "source": []
  },
  {
   "cell_type": "code",
   "execution_count": 17,
   "metadata": {},
   "outputs": [
    {
     "name": "stdout",
     "output_type": "stream",
     "text": [
      "Image shape:  (48, 48, 1)\n",
      "Label:  6\n",
      "<ParallelMapDataset shapes: ((48, 48, 1), ()), types: (tf.float32, tf.int64)>\n",
      "virk!\n",
      "<PrefetchDataset shapes: ((None, 48, 48, 1), (None,)), types: (tf.float32, tf.int64)>\n"
     ]
    },
    {
     "data": {
      "text/plain": [
       "<matplotlib.image.AxesImage at 0x2a212f01670>"
      ]
     },
     "execution_count": 17,
     "metadata": {},
     "output_type": "execute_result"
    },
    {
     "data": {
      "image/png": "[encoded data removed]",
      "text/plain": [
       "<Figure size 432x288 with 1 Axes>"
      ]
     },
     "metadata": {
      "needs_background": "light"
     },
     "output_type": "display_data"
    }
   ],
   "source": [
    "for image, label in train_ds.take(1):\n",
    "    plt.imshow(image.numpy().astype(\"uint8\"),cmap='gray')\n",
    "    print(\"Image shape: \", image.numpy().shape)\n",
    "    print(\"Label: \", label.numpy())\n",
    "    print(train_ds)\n",
    "    \n",
    "train_ds = (\n",
    "    train_ds\n",
    "    .shuffle(1000)\n",
    "    .batch(batch_size)\n",
    "    .prefetch(AUTOTUNE)\n",
    ")    \n",
    "orgDataset = train_ds\n",
    "\n",
    "#.map(augment, num_parallel_calls=AUTOTUNE)\n",
    "print(\"virk!\")\n",
    "print(train_ds)\n",
    "\n",
    "val_ds = (\n",
    "    val_ds\n",
    "    .map(resize_and_rescale, num_parallel_calls=AUTOTUNE)\n",
    "    .batch(batch_size)\n",
    "    .prefetch(AUTOTUNE)\n",
    ")\n",
    "\n",
    "image_batch, label_batch = next(iter(train_ds))\n",
    "plt.imshow(image_batch[1].numpy().astype(\"uint8\"),cmap='gray')\n"
   ]
  },
  {
   "cell_type": "code",
   "execution_count": 18,
   "metadata": {
    "scrolled": true
   },
   "outputs": [
    {
     "data": {
      "image/png": "[encoded data removed]",
      "text/plain": [
       "<Figure size 720x720 with 9 Axes>"
      ]
     },
     "metadata": {
      "needs_background": "light"
     },
     "output_type": "display_data"
    }
   ],
   "source": [
    "image_batch, label_batch = next(iter(train_ds))\n",
    "plt.figure(figsize=(10, 10))\n",
    "for i in range(9):\n",
    "    ax = plt.subplot(3, 3, i + 1)\n",
    "    plt.imshow(image_batch[i].numpy().astype(\"uint8\"),cmap='gray')\n",
    "    label = label_batch[i]\n",
    "    plt.title(class_names[label])\n",
    "    plt.axis(\"off\")\n"
   ]
  },
  {
   "cell_type": "code",
   "execution_count": 19,
   "metadata": {},
   "outputs": [
    {
     "data": {
      "text/plain": [
       "numpy.ndarray"
      ]
     },
     "execution_count": 19,
     "metadata": {},
     "output_type": "execute_result"
    },
    {
     "data": {
      "image/png": "[encoded data removed]",
      "text/plain": [
       "<Figure size 432x288 with 2 Axes>"
      ]
     },
     "metadata": {
      "needs_background": "light"
     },
     "output_type": "display_data"
    }
   ],
   "source": [
    "image = image_batch[1].numpy().astype(\"uint8\")\n",
    "noise = tf.random.normal(shape=tf.shape(image), mean=0.0, stddev=10, dtype=tf.float32)\n",
    "flipped = tf.add(image, noise)\n",
    "visualize(image, flipped)\n",
    "type(image)"
   ]
  },
  {
   "cell_type": "code",
   "execution_count": 20,
   "metadata": {},
   "outputs": [],
   "source": [
    "class CustomCallback(keras.callbacks.Callback):\n",
    "   \n",
    "    def on_epoch_end(self, epoch, logs=None):      \n",
    "        image_batch, label_batch = next(iter(train_ds))\n",
    "        plt.figure(figsize=(10, 10))\n",
    "        for i in range(4):\n",
    "            ax = plt.subplot(2, 2, i + 1)\n",
    "            plt.imshow(image_batch[i].numpy().astype(\"uint8\"),cmap='gray')\n",
    "            label = label_batch[i]\n",
    "            plt.title(class_names[label])\n",
    "            plt.axis(\"off\")"
   ]
  },
  {
   "cell_type": "code",
   "execution_count": 21,
   "metadata": {},
   "outputs": [],
   "source": [
    "def visualize2(original):\n",
    "    fig = plt.figure()\n",
    "    plt.subplot(1,2,1)\n",
    "    plt.title('Original image')\n",
    "    image = colorImage(original)\n",
    "    plt.imshow(image)"
   ]
  },
  {
   "cell_type": "code",
   "execution_count": 22,
   "metadata": {},
   "outputs": [],
   "source": [
    "def flipImage(image):\n",
    "    flipped = tf.image.flip_left_right(image)\n",
    "    \n",
    "def colorImage(image):\n",
    "    image = tf.image.adjust_brightness(image,0.5)\n",
    "    return image"
   ]
  },
  {
   "cell_type": "code",
   "execution_count": 23,
   "metadata": {},
   "outputs": [],
   "source": [
    "from tensorflow.keras import layers\n",
    "\n",
    "normalization_layer = tf.keras.layers.experimental.preprocessing.Rescaling(1./255)\n",
    "\n",
    "num_classes = 7\n",
    "cnn = tf.keras.models.Sequential([\n",
    "layers.Conv2D(filters=32, kernel_size=3, activation='relu', input_shape=[48, 48, 1]),\n",
    "layers.MaxPool2D(pool_size=2, strides=2),\n",
    "layers.Conv2D(filters=32, kernel_size=3, activation='relu'),\n",
    "layers.MaxPool2D(pool_size=2, strides=2),\n",
    "layers.Flatten(),\n",
    "layers.Dense(units=128, activation='relu'),\n",
    "layers.Dense(units=7,activation='softmax')\n",
    "])\n",
    "\n",
    "cnn.compile(\n",
    "  optimizer='adam',\n",
    "  loss=tf.losses.SparseCategoricalCrossentropy(from_logits=False),\n",
    "  metrics=['accuracy'])\n",
    "\n"
   ]
  },
  {
   "cell_type": "code",
   "execution_count": null,
   "metadata": {
    "scrolled": true
   },
   "outputs": [
    {
     "name": "stdout",
     "output_type": "stream",
     "text": [
      "1/50\n",
      "898/898 [==============================] - 34s 38ms/step - loss: 2.1226 - accuracy: 0.2866 - val_loss: 1.6603 - val_accuracy: 0.3469\n",
      "2/50\n",
      "898/898 [==============================] - 36s 40ms/step - loss: 1.7068 - accuracy: 0.3155 - val_loss: 1.6195 - val_accuracy: 0.3675\n",
      "3/50\n",
      "898/898 [==============================] - 36s 40ms/step - loss: 1.6650 - accuracy: 0.3403 - val_loss: 1.6215 - val_accuracy: 0.3539\n",
      "4/50\n",
      "898/898 [==============================] - 36s 40ms/step - loss: 1.6179 - accuracy: 0.3647 - val_loss: 1.6213 - val_accuracy: 0.3650\n",
      "5/50\n",
      "898/898 [==============================] - 35s 39ms/step - loss: 1.6285 - accuracy: 0.3549 - val_loss: 1.5658 - val_accuracy: 0.3879\n",
      "6/50\n",
      "898/898 [==============================] - 35s 39ms/step - loss: 1.5749 - accuracy: 0.3804 - val_loss: 1.5240 - val_accuracy: 0.4118\n",
      "7/50\n",
      "898/898 [==============================] - 36s 40ms/step - loss: 1.5402 - accuracy: 0.3976 - val_loss: 1.5207 - val_accuracy: 0.4149\n",
      "8/50\n",
      "898/898 [==============================] - 34s 38ms/step - loss: 1.5722 - accuracy: 0.3851 - val_loss: 1.5359 - val_accuracy: 0.3998\n",
      "9/50\n",
      "898/898 [==============================] - 34s 38ms/step - loss: 1.5073 - accuracy: 0.4130 - val_loss: 1.5169 - val_accuracy: 0.4107\n",
      "10/50\n",
      "898/898 [==============================] - 34s 38ms/step - loss: 1.4903 - accuracy: 0.4211 - val_loss: 1.4801 - val_accuracy: 0.4372\n",
      "11/50\n",
      "898/898 [==============================] - 37s 42ms/step - loss: 1.4841 - accuracy: 0.4254 - val_loss: 1.4394 - val_accuracy: 0.4483\n",
      "12/50\n",
      "898/898 [==============================] - 39s 43ms/step - loss: 1.4454 - accuracy: 0.4406 - val_loss: 1.3954 - val_accuracy: 0.4664\n",
      "13/50\n",
      "898/898 [==============================] - 36s 40ms/step - loss: 1.4402 - accuracy: 0.4464 - val_loss: 1.3944 - val_accuracy: 0.4703\n",
      "14/50\n",
      "898/898 [==============================] - 35s 39ms/step - loss: 1.4368 - accuracy: 0.4458 - val_loss: 1.3968 - val_accuracy: 0.4689\n",
      "15/50\n",
      "898/898 [==============================] - 35s 39ms/step - loss: 1.4342 - accuracy: 0.4437 - val_loss: 1.4312 - val_accuracy: 0.4511\n",
      "16/50\n",
      "898/898 [==============================] - 34s 38ms/step - loss: 1.3953 - accuracy: 0.4655 - val_loss: 1.3671 - val_accuracy: 0.4778\n",
      "17/50\n",
      "898/898 [==============================] - 35s 39ms/step - loss: 1.3909 - accuracy: 0.4687 - val_loss: 1.4047 - val_accuracy: 0.4670\n",
      "18/50\n",
      "898/898 [==============================] - 36s 41ms/step - loss: 1.3929 - accuracy: 0.4664 - val_loss: 1.3432 - val_accuracy: 0.4859\n",
      "19/50\n",
      "898/898 [==============================] - 37s 41ms/step - loss: 1.3829 - accuracy: 0.4697 - val_loss: 1.3588 - val_accuracy: 0.4868\n",
      "20/50\n",
      "898/898 [==============================] - 34s 38ms/step - loss: 1.3943 - accuracy: 0.4645 - val_loss: 1.3677 - val_accuracy: 0.4915\n",
      "21/50\n",
      "898/898 [==============================] - 35s 39ms/step - loss: 1.3448 - accuracy: 0.4885 - val_loss: 1.3317 - val_accuracy: 0.4937\n"
     ]
    },
    {
     "name": "stderr",
     "output_type": "stream",
     "text": [
      "<ipython-input-20-dab693d56437>:5: RuntimeWarning: More than 20 figures have been opened. Figures created through the pyplot interface (`matplotlib.pyplot.figure`) are retained until explicitly closed and may consume too much memory. (To control this warning, see the rcParam `figure.max_open_warning`).\n",
      "  plt.figure(figsize=(10, 10))\n"
     ]
    },
    {
     "name": "stdout",
     "output_type": "stream",
     "text": [
      "22/50\n",
      "898/898 [==============================] - 35s 39ms/step - loss: 1.3940 - accuracy: 0.4655 - val_loss: 1.3621 - val_accuracy: 0.4909\n",
      "23/50\n",
      "898/898 [==============================] - 35s 39ms/step - loss: 1.3454 - accuracy: 0.4858 - val_loss: 1.3480 - val_accuracy: 0.4815\n",
      "24/50\n",
      "898/898 [==============================] - 35s 39ms/step - loss: 1.3279 - accuracy: 0.4906 - val_loss: 1.3326 - val_accuracy: 0.4890\n",
      "25/50\n",
      "898/898 [==============================] - 34s 38ms/step - loss: 1.3830 - accuracy: 0.4720 - val_loss: 1.3356 - val_accuracy: 0.4901\n",
      "26/50\n",
      "898/898 [==============================] - 36s 40ms/step - loss: 1.3805 - accuracy: 0.4695 - val_loss: 1.3597 - val_accuracy: 0.4929\n",
      "27/50\n",
      "898/898 [==============================] - 37s 41ms/step - loss: 1.3414 - accuracy: 0.4841 - val_loss: 1.3360 - val_accuracy: 0.4968\n",
      "28/50\n",
      "898/898 [==============================] - 35s 39ms/step - loss: 1.3508 - accuracy: 0.4841 - val_loss: 1.3418 - val_accuracy: 0.4951\n",
      "29/50\n",
      "898/898 [==============================] - 34s 38ms/step - loss: 1.3601 - accuracy: 0.4791 - val_loss: 1.3455 - val_accuracy: 0.5004\n",
      "30/50\n",
      "898/898 [==============================] - 34s 38ms/step - loss: 1.3158 - accuracy: 0.4956 - val_loss: 1.3063 - val_accuracy: 0.5060\n",
      "31/50\n",
      "898/898 [==============================] - 33s 37ms/step - loss: 1.3457 - accuracy: 0.4864 - val_loss: 1.3833 - val_accuracy: 0.4776\n",
      "32/50\n",
      "898/898 [==============================] - 33s 37ms/step - loss: 1.3157 - accuracy: 0.4968 - val_loss: 1.3334 - val_accuracy: 0.5010\n",
      "33/50\n",
      "898/898 [==============================] - 35s 39ms/step - loss: 1.3256 - accuracy: 0.4958 - val_loss: 1.2996 - val_accuracy: 0.5060\n",
      "34/50\n",
      "898/898 [==============================] - 33s 37ms/step - loss: 1.3443 - accuracy: 0.4867 - val_loss: 1.3440 - val_accuracy: 0.4948\n",
      "35/50\n",
      "898/898 [==============================] - 38s 42ms/step - loss: 1.3013 - accuracy: 0.5053 - val_loss: 1.3207 - val_accuracy: 0.5043\n",
      "36/50\n",
      "898/898 [==============================] - 38s 42ms/step - loss: 1.3064 - accuracy: 0.5026 - val_loss: 1.2872 - val_accuracy: 0.5107\n",
      "37/50\n",
      "    234/Unknown - 9s 40ms/step - loss: 1.3174 - accuracy: 0.4920"
     ]
    }
   ],
   "source": [
    "n_epoch = 50\n",
    "accuracy = []\n",
    "val_accuracy = []\n",
    "loss_graph = []\n",
    "loss_accuracy = []\n",
    "\n",
    "start = time.time()\n",
    "for i in range(n_epoch):\n",
    "    try:\n",
    "        print(f\"{i+1}/{n_epoch}\")\n",
    "        history = cnn.fit(train_ds, validation_data = val_ds, epochs = 1, callbacks=[CustomCallback()]\n",
    ")\n",
    "        train_ds = (\n",
    "            orgDataset\n",
    "            .unbatch()\n",
    "            .shuffle(1000)\n",
    "            .map(augment, num_parallel_calls=AUTOTUNE)\n",
    "            .batch(batch_size)\n",
    "            .prefetch(AUTOTUNE)\n",
    "         )\n",
    "        accuracy.append(history.history['accuracy'])\n",
    "        val_accuracy.append(history.history['val_accuracy'])\n",
    "        loss_graph.append(history.history['loss'])\n",
    "        loss_accuracy.append(history.history['val_loss'])\n",
    "        \n",
    "    except ValueError:\n",
    "        print(train_ds)\n",
    "end = time.time()\n",
    "duration = end - start\n",
    "print(f\"It took {duration} seconds\")\n"
   ]
  },
  {
   "cell_type": "code",
   "execution_count": null,
   "metadata": {},
   "outputs": [],
   "source": [
    "plt.plot(accuracy)\n",
    "plt.plot(val_accuracy)\n",
    "plt.title('model accuracy')\n",
    "plt.ylabel('Accuracy')\n",
    "plt.xlabel('Epochs')\n",
    "plt.legend(['Train', 'Val'], loc='upper left')\n",
    "plt.show()\n",
    "\n",
    "\n",
    "plt.plot(loss_graph)\n",
    "plt.plot(loss_accuracy)\n",
    "plt.title('Model loss')\n",
    "plt.ylabel('Loss')\n",
    "plt.xlabel('Epoch')\n",
    "plt.legend(['Train', 'Val'], loc='upper left')\n",
    "plt.show()"
   ]
  },
  {
   "cell_type": "code",
   "execution_count": null,
   "metadata": {},
   "outputs": [],
   "source": [
    "import numpy as np\n",
    "from keras.preprocessing import image\n",
    "from PIL import Image, ImageOps \n",
    "test_image = image.load_img(r'C:\\Users\\tobia\\Samlet CNN\\data\\test\\4\\33606.png', target_size = (48, 48))\n",
    "test_image = ImageOps.grayscale(test_image) \n",
    "plt.imshow(test_image,cmap='gray')\n",
    "\n"
   ]
  },
  {
   "cell_type": "code",
   "execution_count": null,
   "metadata": {},
   "outputs": [],
   "source": [
    "test_image = image.img_to_array(test_image)\n",
    "test_image = np.expand_dims(test_image, axis = 0)\n",
    "result = cnn.predict(test_image)\n",
    "result = result.tolist()\n",
    "result = result[0]\n",
    "\n",
    "tal = [1,2,3,4,5,7,6]\n",
    "mood = ['Angry','Disgust','Fear','Happy','Sad','Surprise','Neutral']\n",
    "plt.title('Mood')\n",
    "plt.ylabel('accuracy')\n",
    "plt.bar(mood, result)\n",
    "plt.show()\n"
   ]
  },
  {
   "cell_type": "code",
   "execution_count": null,
   "metadata": {},
   "outputs": [],
   "source": [
    "image_batch, label_batch = next(iter(train_ds))"
   ]
  },
  {
   "cell_type": "code",
   "execution_count": null,
   "metadata": {},
   "outputs": [],
   "source": []
  },
  {
   "cell_type": "code",
   "execution_count": null,
   "metadata": {},
   "outputs": [],
   "source": []
  }
 ],
 "metadata": {
  "kernelspec": {
   "display_name": "Python 3",
   "language": "python",
   "name": "python3"
  },
  "language_info": {
   "codemirror_mode": {
    "name": "ipython",
    "version": 3
   },
   "file_extension": ".py",
   "mimetype": "text/x-python",
   "name": "python",
   "nbconvert_exporter": "python",
   "pygments_lexer": "ipython3",
   "version": "3.8.5"
  }
 },
 "nbformat": 4,
 "nbformat_minor": 4
}
