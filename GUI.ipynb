{
 "cells": [
  {
   "cell_type": "code",
   "execution_count": 73,
   "metadata": {},
   "outputs": [],
   "source": [
    "import tkinter as tk\n",
    "from tkinter import messagebox"
   ]
  },
  {
   "cell_type": "code",
   "execution_count": 76,
   "metadata": {},
   "outputs": [],
   "source": [
    "root = tk.Tk()\n",
    "\n",
    "HEIGHT = 450\n",
    "WIDTH = 650\n",
    "\n",
    "happy = 0.3\n",
    "sad = 0.2\n",
    "neutral = 0.1\n",
    "angry = 0.01\n",
    "disgusted = 0.08\n",
    "fear = 0.2\n",
    "Suprist = 0.2\n",
    "buttonText = \"auto\"\n",
    "\n",
    "def autoActivated():\n",
    "    buttonText = \"nogetAndet\"\n",
    "    tkMessageBox.showinfo( \"Hello Python\", \"Hello World\")\n",
    "\n",
    "\n",
    "mood = \"test1\"\n",
    "webCamRoute = \"/Users/thomasmortensen/Desktop/GUITestPic.jpeg\"\n",
    "canvas = tk.Canvas(root, height = HEIGHT, width = WIDTH)\n",
    "canvas.pack()\n",
    "\n",
    "button = tk.Button(root, text = buttonText, command = autoActivated)\n",
    "button.pack()\n",
    "\n",
    "\n",
    "blueFrame = tk.Frame(root, bg = \"blue\")\n",
    "blueFrame.place(rely = 0.1, relwidth = 0.5, relheight = 0.8)\n",
    "\n",
    "webCamLabel = tk.Label(blueFrame, text=\"WebCam her\", bg=\"gray\")\n",
    "webCamLabel.place(relx = 0.5, rely = 0.5, anchor = \"center\")\n",
    "webCamLabel.pack()\n",
    "\n",
    "redFrame = tk.Frame(root, bg = \"red\")\n",
    "redFrame.place(relx = 0.5, rely = 0.1, relwidth = 0.5, relheight = 0.4)\n",
    "\n",
    "\n",
    "moodLabel = tk.Label(redFrame, text = mood, bg = \"red\")\n",
    "moodLabel.place(relx = 0.5, rely = 0.5, anchor = \"center\")\n",
    "\n",
    "yellowFrame = tk.Frame(root, bg = \"yellow\")\n",
    "yellowFrame.place(relx = 0.25, rely = 0.5, relwidth = 0.75, relheight = 0.4)\n",
    "\n",
    "happyFrame = tk.Frame(yellowFrame, bg = \"blue\")\n",
    "happyFrame.place(relx = 0.22, rely = 1, relwidth = 0.1, relheight = (0.9 * happy), anchor = \"s\")\n",
    "\n",
    "sadFrame = tk.Frame(yellowFrame, bg = \"red\")\n",
    "sadFrame.place(relx = 0.33, rely = 1, relwidth = 0.1, relheight = (0.9 * sad), anchor = \"s\")\n",
    "\n",
    "neutralFrame = tk.Frame(yellowFrame, bg = \"blue\")\n",
    "neutralFrame.place(relx = 0.44, rely = 1, relwidth = 0.1, relheight = (0.9 * neutral), anchor = \"s\")\n",
    "\n",
    "angryFrame = tk.Frame(yellowFrame, bg = \"red\")\n",
    "angryFrame.place(relx = 0.55, rely = 1, relwidth = 0.1, relheight = (0.9 * angry), anchor = \"s\")\n",
    "\n",
    "xFrame = tk.Frame(yellowFrame, bg = \"blue\")\n",
    "xFrame.place(relx = 0.66, rely = 1, relwidth = 0.1, relheight = (0.9 * x), anchor = \"s\")\n",
    "\n",
    "yFrame = tk.Frame(yellowFrame, bg = \"red\")\n",
    "yFrame.place(relx = 0.77, rely = 1, relwidth = 0.1, relheight = (0.9 * y), anchor = \"s\")\n",
    "\n",
    "zFrame = tk.Frame(yellowFrame, bg = \"blue\")\n",
    "zFrame.place(relx = 0.88, rely = 1, relwidth = 0.1, relheight = (0.9 * z), anchor =\"s\")\n",
    "\n",
    "\n",
    "\n",
    "\n",
    "statsLabel = tk.Label(yellowFrame, text = \"stats her\")\n",
    "statsLabel.pack()\n",
    "\n",
    "\n",
    "root.mainloop()"
   ]
  },
  {
   "cell_type": "code",
   "execution_count": null,
   "metadata": {},
   "outputs": [],
   "source": []
  },
  {
   "cell_type": "code",
   "execution_count": null,
   "metadata": {},
   "outputs": [],
   "source": []
  },
  {
   "cell_type": "code",
   "execution_count": null,
   "metadata": {},
   "outputs": [],
   "source": []
  }
 ],
 "metadata": {
  "kernelspec": {
   "display_name": "Python 3",
   "language": "python",
   "name": "python3"
  },
  "language_info": {
   "codemirror_mode": {
    "name": "ipython",
    "version": 3
   },
   "file_extension": ".py",
   "mimetype": "text/x-python",
   "name": "python",
   "nbconvert_exporter": "python",
   "pygments_lexer": "ipython3",
   "version": "3.8.3"
  }
 },
 "nbformat": 4,
 "nbformat_minor": 4
}
