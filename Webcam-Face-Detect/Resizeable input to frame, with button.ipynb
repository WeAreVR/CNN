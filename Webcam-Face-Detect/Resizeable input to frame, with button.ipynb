{
 "cells": [
  {
   "cell_type": "code",
   "execution_count": 1,
   "metadata": {},
   "outputs": [],
   "source": [
    "from tkinter import *\n",
    "import cv2\n",
    "from PIL import Image, ImageTk\n",
    "\n",
    "isrunning = 0\n",
    "\n",
    "def start():\n",
    "    global isrunning\n",
    "    if isrunning == 0:\n",
    "        global cap\n",
    "        cap = cv2.VideoCapture(0)\n",
    "        isrunning = 1\n",
    "        lmain.grid(row = 1,column = 1)\n",
    "        def show_frame():\n",
    "            _, frame = cap.read()\n",
    "            frame = cv2.flip(frame, 1)\n",
    "            frame = cv2.resize(frame, (200,200)) \n",
    "            cv2image = cv2.cvtColor(frame, cv2.COLOR_BGR2RGBA)\n",
    "            img = Image.fromarray(cv2image)\n",
    "            imgtk = ImageTk.PhotoImage(image=img)\n",
    "            lmain.imgtk = imgtk\n",
    "            lmain.configure(image=imgtk)\n",
    "            if isrunning == 1:\n",
    "                lmain.after(10, show_frame)\n",
    "            else:\n",
    "                cap.release()\n",
    "    show_frame()\n",
    "\n",
    "def Stop():\n",
    "    global isrunning\n",
    "    isrunning = 0\n",
    "    lmain.grid_forget()\n",
    "\n",
    "def main():\n",
    "    Stop()\n",
    "    #Reset.invoke()\n",
    "    #stopFunc.invoke()\n",
    "\n",
    "root = Tk()\n",
    "lmain = Label(root, width = 800, height = 600, bg = \"blue\")\n",
    "stopFunc = Button(root, text = \"stop\", command = Stop)\n",
    "Reset = Button(root, text = \"Reset\", command = start)\n",
    "Main = Button(root, text = \"Stop\", command = main)\n",
    "Start = Button(root, text = \"Start\", command = start)\n",
    "Start.grid(row = 0, column = 0)\n",
    "Main.grid(row = 0, column = 1)\n",
    "\n",
    "root.mainloop()"
   ]
  },
  {
   "cell_type": "code",
   "execution_count": null,
   "metadata": {},
   "outputs": [],
   "source": []
  }
 ],
 "metadata": {
  "kernelspec": {
   "display_name": "Python 3",
   "language": "python",
   "name": "python3"
  },
  "language_info": {
   "codemirror_mode": {
    "name": "ipython",
    "version": 3
   },
   "file_extension": ".py",
   "mimetype": "text/x-python",
   "name": "python",
   "nbconvert_exporter": "python",
   "pygments_lexer": "ipython3",
   "version": "3.7.9"
  }
 },
 "nbformat": 4,
 "nbformat_minor": 4
}
