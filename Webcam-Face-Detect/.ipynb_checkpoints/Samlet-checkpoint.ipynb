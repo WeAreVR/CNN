{
 "cells": [
  {
   "cell_type": "code",
   "execution_count": 1,
   "metadata": {},
   "outputs": [],
   "source": [
    "import numpy as np\n",
    "import cv2\n",
    "import sys\n",
    "import logging as log\n",
    "import datetime as dt\n",
    "import tkinter as tk\n",
    "from time import sleep\n",
    "from PIL import Image, ImageTk\n",
    "\n",
    "#Set up GUI\n",
    "window = tk.Tk()  #Makes main window\n",
    "window.wm_title(\"Digital Microscope\")\n",
    "window.config(background=\"#FFFFFF\")\n",
    "\n",
    "#Graphics window\n",
    "imageFrame = tk.Frame(window, width=600, height=500)\n",
    "imageFrame.grid(row=0, column=0, padx=10, pady=2)\n",
    "\n",
    "#Capture video frames\n",
    "\n",
    "cap = cv2.VideoCapture(0)\n",
    "\n",
    "def show_frame():\n",
    "    _, frame = cap.read()\n",
    "    frame = cv2.flip(frame, 1)\n",
    "    cv2image = cv2.cvtColor(frame, cv2.COLOR_BGR2RGBA)\n",
    "    img = Image.fromarray(cv2image)\n",
    "    imgtk = ImageTk.PhotoImage(image=img)\n",
    "    display1.imgtk = imgtk #Shows frame for display 2\n",
    "    display1.configure(image=imgtk)\n",
    "    \n",
    "    display2.imgtk = imgtk #Shows frame for display 2\n",
    "    display2.configure(image=imgtk)\n",
    "    window.after(10, show_frame)\n",
    "\n",
    "display1 = tk.Label(imageFrame)\n",
    "display1.grid(row=1, column=0, padx=10, pady=2)  #Display 1\n",
    "\n",
    "\n",
    "blueFrame = tk.Frame(window, bg = \"blue\")\n",
    "blueFrame.place(rely = 0.1, relwidth = 0.5, relheight = 0.8)\n",
    "\n",
    "display2 = tk.Label(blueFrame)\n",
    "display2.grid(row=3, column=3) #Display 2\n",
    "\n",
    "\n",
    "\n",
    "show_frame() #Display\n",
    "window.mainloop()  #Starts GUI\n"
   ]
  },
  {
   "cell_type": "code",
   "execution_count": null,
   "metadata": {},
   "outputs": [],
   "source": []
  }
 ],
 "metadata": {
  "kernelspec": {
   "display_name": "Python 3",
   "language": "python",
   "name": "python3"
  },
  "language_info": {
   "codemirror_mode": {
    "name": "ipython",
    "version": 3
   },
   "file_extension": ".py",
   "mimetype": "text/x-python",
   "name": "python",
   "nbconvert_exporter": "python",
   "pygments_lexer": "ipython3",
   "version": "3.8.3"
  }
 },
 "nbformat": 4,
 "nbformat_minor": 4
}
